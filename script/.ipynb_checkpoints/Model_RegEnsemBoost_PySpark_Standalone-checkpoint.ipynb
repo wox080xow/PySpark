{
 "cells": [
  {
   "cell_type": "markdown",
   "metadata": {
    "id": "tabW0EZahXx6"
   },
   "source": [
    "https://www.kaggle.com/onestar/kernel-xgboost-stacking\n",
    "https://www.kaggle.com/satishgunjal/ensemble-learning-bagging-boosting-stacking"
   ]
  },
  {
   "cell_type": "markdown",
   "metadata": {
    "executionInfo": {
     "elapsed": 2305,
     "status": "ok",
     "timestamp": 1609145128246,
     "user": {
      "displayName": "ShuoJung Yang",
      "photoUrl": "",
      "userId": "01913117258434371706"
     },
     "user_tz": -480
    },
    "id": "DMN5x0ShhXx_"
   },
   "source": [
    "import os\n",
    "import pandas as pd\n",
    "import numpy as np\n",
    "import warnings\n",
    "\n",
    "from sklearn.model_selection import train_test_split\n",
    "from sklearn.pipeline import make_pipeline\n",
    "from sklearn.preprocessing import RobustScaler\n",
    "from sklearn.linear_model import LinearRegression, Lasso, ElasticNet\n",
    "from sklearn.kernel_ridge import KernelRidge\n",
    "\n",
    "from sklearn.ensemble import BaggingRegressor\n",
    "\n",
    "from sklearn.ensemble import GradientBoostingRegressor\n",
    "import xgboost as xgb\n",
    "import lightgbm as lgb\n",
    "from sklearn.ensemble import StackingRegressor\n",
    "\n",
    "from sklearn.model_selection import cross_val_score\n",
    "from sklearn.model_selection import cross_val_predict\n",
    "from sklearn.metrics import mean_squared_error\n",
    "\n",
    "# Global settings\n",
    "\n",
    "warnings.filterwarnings(\"ignore\") # To ignore warnings\n",
    "n_jobs = -1 # This parameter conrols the parallel processing. -1 means using all processors.\n",
    "random_state = 42 # This parameter controls the randomness of the data. Using some int value to get same results everytime this code is run."
   ]
  },
  {
   "cell_type": "code",
   "execution_count": 1,
   "metadata": {},
   "outputs": [],
   "source": [
    "import pyspark\n",
    "import sys\n",
    "\n",
    "import pyspark.sql.functions as fn\n",
    "\n",
    "from pyspark.sql import SparkSession\n",
    "\n",
    "from pyspark.ml.classification import LogisticRegression\n",
    "from pyspark.ml.evaluation import MulticlassClassificationEvaluator\n",
    "from pyspark.ml.feature import VectorAssembler, StringIndexer"
   ]
  },
  {
   "cell_type": "code",
   "execution_count": 3,
   "metadata": {},
   "outputs": [
    {
     "ename": "Exception",
     "evalue": "Java gateway process exited before sending its port number",
     "output_type": "error",
     "traceback": [
      "\u001b[0;31m---------------------------------------------------------------------------\u001b[0m",
      "\u001b[0;31mException\u001b[0m                                 Traceback (most recent call last)",
      "\u001b[0;32m<ipython-input-3-bedadffb6160>\u001b[0m in \u001b[0;36m<module>\u001b[0;34m\u001b[0m\n\u001b[1;32m      1\u001b[0m \u001b[0;31m# local mode\u001b[0m\u001b[0;34m\u001b[0m\u001b[0;34m\u001b[0m\u001b[0;34m\u001b[0m\u001b[0m\n\u001b[0;32m----> 2\u001b[0;31m \u001b[0mspark\u001b[0m \u001b[0;34m=\u001b[0m \u001b[0mSparkSession\u001b[0m\u001b[0;31m \u001b[0m\u001b[0;31m\\\u001b[0m\u001b[0;34m\u001b[0m\u001b[0;34m\u001b[0m\u001b[0m\n\u001b[0m\u001b[1;32m      3\u001b[0m         \u001b[0;34m.\u001b[0m\u001b[0mbuilder\u001b[0m\u001b[0;31m \u001b[0m\u001b[0;31m\\\u001b[0m\u001b[0;34m\u001b[0m\u001b[0;34m\u001b[0m\u001b[0m\n\u001b[1;32m      4\u001b[0m         \u001b[0;34m.\u001b[0m\u001b[0mappName\u001b[0m\u001b[0;34m(\u001b[0m\u001b[0;34m\"LocalMode\"\u001b[0m\u001b[0;34m)\u001b[0m\u001b[0;31m \u001b[0m\u001b[0;31m\\\u001b[0m\u001b[0;34m\u001b[0m\u001b[0;34m\u001b[0m\u001b[0m\n\u001b[1;32m      5\u001b[0m         \u001b[0;34m.\u001b[0m\u001b[0mgetOrCreate\u001b[0m\u001b[0;34m(\u001b[0m\u001b[0;34m)\u001b[0m\u001b[0;34m\u001b[0m\u001b[0;34m\u001b[0m\u001b[0m\n",
      "\u001b[0;32m/usr/local/spark/python/pyspark/sql/session.py\u001b[0m in \u001b[0;36mgetOrCreate\u001b[0;34m(self)\u001b[0m\n\u001b[1;32m    184\u001b[0m                             \u001b[0msparkConf\u001b[0m\u001b[0;34m.\u001b[0m\u001b[0mset\u001b[0m\u001b[0;34m(\u001b[0m\u001b[0mkey\u001b[0m\u001b[0;34m,\u001b[0m \u001b[0mvalue\u001b[0m\u001b[0;34m)\u001b[0m\u001b[0;34m\u001b[0m\u001b[0;34m\u001b[0m\u001b[0m\n\u001b[1;32m    185\u001b[0m                         \u001b[0;31m# This SparkContext may be an existing one.\u001b[0m\u001b[0;34m\u001b[0m\u001b[0;34m\u001b[0m\u001b[0;34m\u001b[0m\u001b[0m\n\u001b[0;32m--> 186\u001b[0;31m                         \u001b[0msc\u001b[0m \u001b[0;34m=\u001b[0m \u001b[0mSparkContext\u001b[0m\u001b[0;34m.\u001b[0m\u001b[0mgetOrCreate\u001b[0m\u001b[0;34m(\u001b[0m\u001b[0msparkConf\u001b[0m\u001b[0;34m)\u001b[0m\u001b[0;34m\u001b[0m\u001b[0;34m\u001b[0m\u001b[0m\n\u001b[0m\u001b[1;32m    187\u001b[0m                     \u001b[0;31m# Do not update `SparkConf` for existing `SparkContext`, as it's shared\u001b[0m\u001b[0;34m\u001b[0m\u001b[0;34m\u001b[0m\u001b[0;34m\u001b[0m\u001b[0m\n\u001b[1;32m    188\u001b[0m                     \u001b[0;31m# by all sessions.\u001b[0m\u001b[0;34m\u001b[0m\u001b[0;34m\u001b[0m\u001b[0;34m\u001b[0m\u001b[0m\n",
      "\u001b[0;32m/usr/local/spark/python/pyspark/context.py\u001b[0m in \u001b[0;36mgetOrCreate\u001b[0;34m(cls, conf)\u001b[0m\n\u001b[1;32m    374\u001b[0m         \u001b[0;32mwith\u001b[0m \u001b[0mSparkContext\u001b[0m\u001b[0;34m.\u001b[0m\u001b[0m_lock\u001b[0m\u001b[0;34m:\u001b[0m\u001b[0;34m\u001b[0m\u001b[0;34m\u001b[0m\u001b[0m\n\u001b[1;32m    375\u001b[0m             \u001b[0;32mif\u001b[0m \u001b[0mSparkContext\u001b[0m\u001b[0;34m.\u001b[0m\u001b[0m_active_spark_context\u001b[0m \u001b[0;32mis\u001b[0m \u001b[0;32mNone\u001b[0m\u001b[0;34m:\u001b[0m\u001b[0;34m\u001b[0m\u001b[0;34m\u001b[0m\u001b[0m\n\u001b[0;32m--> 376\u001b[0;31m                 \u001b[0mSparkContext\u001b[0m\u001b[0;34m(\u001b[0m\u001b[0mconf\u001b[0m\u001b[0;34m=\u001b[0m\u001b[0mconf\u001b[0m \u001b[0;32mor\u001b[0m \u001b[0mSparkConf\u001b[0m\u001b[0;34m(\u001b[0m\u001b[0;34m)\u001b[0m\u001b[0;34m)\u001b[0m\u001b[0;34m\u001b[0m\u001b[0;34m\u001b[0m\u001b[0m\n\u001b[0m\u001b[1;32m    377\u001b[0m             \u001b[0;32mreturn\u001b[0m \u001b[0mSparkContext\u001b[0m\u001b[0;34m.\u001b[0m\u001b[0m_active_spark_context\u001b[0m\u001b[0;34m\u001b[0m\u001b[0;34m\u001b[0m\u001b[0m\n\u001b[1;32m    378\u001b[0m \u001b[0;34m\u001b[0m\u001b[0m\n",
      "\u001b[0;32m/usr/local/spark/python/pyspark/context.py\u001b[0m in \u001b[0;36m__init__\u001b[0;34m(self, master, appName, sparkHome, pyFiles, environment, batchSize, serializer, conf, gateway, jsc, profiler_cls)\u001b[0m\n\u001b[1;32m    131\u001b[0m                 \" is not allowed as it is a security risk.\")\n\u001b[1;32m    132\u001b[0m \u001b[0;34m\u001b[0m\u001b[0m\n\u001b[0;32m--> 133\u001b[0;31m         \u001b[0mSparkContext\u001b[0m\u001b[0;34m.\u001b[0m\u001b[0m_ensure_initialized\u001b[0m\u001b[0;34m(\u001b[0m\u001b[0mself\u001b[0m\u001b[0;34m,\u001b[0m \u001b[0mgateway\u001b[0m\u001b[0;34m=\u001b[0m\u001b[0mgateway\u001b[0m\u001b[0;34m,\u001b[0m \u001b[0mconf\u001b[0m\u001b[0;34m=\u001b[0m\u001b[0mconf\u001b[0m\u001b[0;34m)\u001b[0m\u001b[0;34m\u001b[0m\u001b[0;34m\u001b[0m\u001b[0m\n\u001b[0m\u001b[1;32m    134\u001b[0m         \u001b[0;32mtry\u001b[0m\u001b[0;34m:\u001b[0m\u001b[0;34m\u001b[0m\u001b[0;34m\u001b[0m\u001b[0m\n\u001b[1;32m    135\u001b[0m             self._do_init(master, appName, sparkHome, pyFiles, environment, batchSize, serializer,\n",
      "\u001b[0;32m/usr/local/spark/python/pyspark/context.py\u001b[0m in \u001b[0;36m_ensure_initialized\u001b[0;34m(cls, instance, gateway, conf)\u001b[0m\n\u001b[1;32m    323\u001b[0m         \u001b[0;32mwith\u001b[0m \u001b[0mSparkContext\u001b[0m\u001b[0;34m.\u001b[0m\u001b[0m_lock\u001b[0m\u001b[0;34m:\u001b[0m\u001b[0;34m\u001b[0m\u001b[0;34m\u001b[0m\u001b[0m\n\u001b[1;32m    324\u001b[0m             \u001b[0;32mif\u001b[0m \u001b[0;32mnot\u001b[0m \u001b[0mSparkContext\u001b[0m\u001b[0;34m.\u001b[0m\u001b[0m_gateway\u001b[0m\u001b[0;34m:\u001b[0m\u001b[0;34m\u001b[0m\u001b[0;34m\u001b[0m\u001b[0m\n\u001b[0;32m--> 325\u001b[0;31m                 \u001b[0mSparkContext\u001b[0m\u001b[0;34m.\u001b[0m\u001b[0m_gateway\u001b[0m \u001b[0;34m=\u001b[0m \u001b[0mgateway\u001b[0m \u001b[0;32mor\u001b[0m \u001b[0mlaunch_gateway\u001b[0m\u001b[0;34m(\u001b[0m\u001b[0mconf\u001b[0m\u001b[0;34m)\u001b[0m\u001b[0;34m\u001b[0m\u001b[0;34m\u001b[0m\u001b[0m\n\u001b[0m\u001b[1;32m    326\u001b[0m                 \u001b[0mSparkContext\u001b[0m\u001b[0;34m.\u001b[0m\u001b[0m_jvm\u001b[0m \u001b[0;34m=\u001b[0m \u001b[0mSparkContext\u001b[0m\u001b[0;34m.\u001b[0m\u001b[0m_gateway\u001b[0m\u001b[0;34m.\u001b[0m\u001b[0mjvm\u001b[0m\u001b[0;34m\u001b[0m\u001b[0;34m\u001b[0m\u001b[0m\n\u001b[1;32m    327\u001b[0m \u001b[0;34m\u001b[0m\u001b[0m\n",
      "\u001b[0;32m/usr/local/spark/python/pyspark/java_gateway.py\u001b[0m in \u001b[0;36mlaunch_gateway\u001b[0;34m(conf, popen_kwargs)\u001b[0m\n\u001b[1;32m    103\u001b[0m \u001b[0;34m\u001b[0m\u001b[0m\n\u001b[1;32m    104\u001b[0m             \u001b[0;32mif\u001b[0m \u001b[0;32mnot\u001b[0m \u001b[0mos\u001b[0m\u001b[0;34m.\u001b[0m\u001b[0mpath\u001b[0m\u001b[0;34m.\u001b[0m\u001b[0misfile\u001b[0m\u001b[0;34m(\u001b[0m\u001b[0mconn_info_file\u001b[0m\u001b[0;34m)\u001b[0m\u001b[0;34m:\u001b[0m\u001b[0;34m\u001b[0m\u001b[0;34m\u001b[0m\u001b[0m\n\u001b[0;32m--> 105\u001b[0;31m                 \u001b[0;32mraise\u001b[0m \u001b[0mException\u001b[0m\u001b[0;34m(\u001b[0m\u001b[0;34m\"Java gateway process exited before sending its port number\"\u001b[0m\u001b[0;34m)\u001b[0m\u001b[0;34m\u001b[0m\u001b[0;34m\u001b[0m\u001b[0m\n\u001b[0m\u001b[1;32m    106\u001b[0m \u001b[0;34m\u001b[0m\u001b[0m\n\u001b[1;32m    107\u001b[0m             \u001b[0;32mwith\u001b[0m \u001b[0mopen\u001b[0m\u001b[0;34m(\u001b[0m\u001b[0mconn_info_file\u001b[0m\u001b[0;34m,\u001b[0m \u001b[0;34m\"rb\"\u001b[0m\u001b[0;34m)\u001b[0m \u001b[0;32mas\u001b[0m \u001b[0minfo\u001b[0m\u001b[0;34m:\u001b[0m\u001b[0;34m\u001b[0m\u001b[0;34m\u001b[0m\u001b[0m\n",
      "\u001b[0;31mException\u001b[0m: Java gateway process exited before sending its port number"
     ]
    }
   ],
   "source": [
    "# local mode\n",
    "spark = SparkSession \\\n",
    "        .builder \\\n",
    "        .appName(\"LocalMode\") \\\n",
    "        .getOrCreate()"
   ]
  },
  {
   "cell_type": "markdown",
   "metadata": {},
   "source": [
    "# standalone mode\n",
    "spark = SparkSession \\\n",
    "        .builder \\\n",
    "        .master(\"spark://bdse125.example.org:7077\") \\\n",
    "        .config('spark.cores.max','1') \\\n",
    "        .config('spark.executor.memory','1G') \\\n",
    "        .appName(\"Standalone\") \\\n",
    "        .getOrCreate()"
   ]
  },
  {
   "cell_type": "code",
   "execution_count": 9,
   "metadata": {},
   "outputs": [],
   "source": [
    "spark.stop()"
   ]
  },
  {
   "cell_type": "code",
   "execution_count": 2,
   "metadata": {},
   "outputs": [
    {
     "ename": "NameError",
     "evalue": "name 'spark' is not defined",
     "output_type": "error",
     "traceback": [
      "\u001b[0;31m---------------------------------------------------------------------------\u001b[0m",
      "\u001b[0;31mNameError\u001b[0m                                 Traceback (most recent call last)",
      "\u001b[0;32m<ipython-input-2-a77a829a6598>\u001b[0m in \u001b[0;36m<module>\u001b[0;34m\u001b[0m\n\u001b[0;32m----> 1\u001b[0;31m \u001b[0mspark\u001b[0m\u001b[0;34m.\u001b[0m\u001b[0msparkContext\u001b[0m\u001b[0;34m.\u001b[0m\u001b[0mappName\u001b[0m\u001b[0;34m\u001b[0m\u001b[0;34m\u001b[0m\u001b[0m\n\u001b[0m",
      "\u001b[0;31mNameError\u001b[0m: name 'spark' is not defined"
     ]
    }
   ],
   "source": [
    "spark.sparkContext.appName"
   ]
  },
  {
   "cell_type": "code",
   "execution_count": 13,
   "metadata": {},
   "outputs": [],
   "source": [
    "spark.conf.set(\"spark.sql.execution.arrow.pyspark.enabled\", True)"
   ]
  },
  {
   "cell_type": "code",
   "execution_count": 3,
   "metadata": {},
   "outputs": [
    {
     "data": {
      "text/plain": [
       "'3.8.5 (default, Jul 28 2020, 12:59:40) \\n[GCC 9.3.0]'"
      ]
     },
     "execution_count": 3,
     "metadata": {},
     "output_type": "execute_result"
    }
   ],
   "source": [
    "sys.version"
   ]
  },
  {
   "cell_type": "code",
   "execution_count": 2,
   "metadata": {},
   "outputs": [
    {
     "data": {
      "text/plain": [
       "'3.0.1'"
      ]
     },
     "execution_count": 2,
     "metadata": {},
     "output_type": "execute_result"
    }
   ],
   "source": [
    "spark.version"
   ]
  },
  {
   "cell_type": "markdown",
   "metadata": {
    "id": "ymcVQjYShXyA"
   },
   "source": [
    "# Load Data"
   ]
  },
  {
   "cell_type": "code",
   "execution_count": 4,
   "metadata": {},
   "outputs": [
    {
     "data": {
      "text/plain": [
       "DataFrame[Address: string, Area: string, St: string, 交易年月日: int, year: int, 交易標的: string, 交易筆棟數: string, 建物型態: string, 建物現況格局.廳: int, 建物現況格局.房: int, 建物現況格局.衛: int, 建物現況格局.隔間: string, 有無管理組織: string, 總價元: double, 總坪數: double, 單價元坪: double, 車位數: int, floor: int, EightCount: int, ParkCount: int, FuneralCount: int, GasCount: int, CrimeCount: int, PoliceCount: int, busCount: int, subwayCount: int, govCount: int, clinicCount: int, hospitalCount: int, pharmacyCount: int, fireareaCount: int, firewayCount: int, martCount: int, mallCount: int, cinemaCount: int, 土地面積: double, 總人口數: int, 男性人數: int, 女性人數: int, 人口密度: int, 每戶人數: double, 每戶成年人數: double, 所得收入總計: int, 可支配所得: int, 消費支出: int, 儲蓄: int, 所得總額: int, Lontitude: double, Latitude: double]"
      ]
     },
     "execution_count": 4,
     "metadata": {},
     "output_type": "execute_result"
    }
   ],
   "source": [
    "df = spark.read.csv('HouseVarCoFinal.csv', header=True, inferSchema=True)\n",
    "# df = spark.read.csv('HouseVarCoFinal.csv', inferSchema=True)\n",
    "df"
   ]
  },
  {
   "cell_type": "code",
   "execution_count": 5,
   "metadata": {},
   "outputs": [
    {
     "ename": "AttributeError",
     "evalue": "'DataFrame' object has no attribute 'shape'",
     "output_type": "error",
     "traceback": [
      "\u001b[0;31m---------------------------------------------------------------------------\u001b[0m",
      "\u001b[0;31mAttributeError\u001b[0m                            Traceback (most recent call last)",
      "\u001b[0;32m<ipython-input-5-68ce507c8c4c>\u001b[0m in \u001b[0;36m<module>\u001b[0;34m\u001b[0m\n\u001b[1;32m      1\u001b[0m \u001b[0;31m#AttributeError\u001b[0m\u001b[0;34m\u001b[0m\u001b[0;34m\u001b[0m\u001b[0;34m\u001b[0m\u001b[0m\n\u001b[0;32m----> 2\u001b[0;31m \u001b[0mdf\u001b[0m\u001b[0;34m.\u001b[0m\u001b[0mshape\u001b[0m\u001b[0;34m\u001b[0m\u001b[0;34m\u001b[0m\u001b[0m\n\u001b[0m",
      "\u001b[0;32m/usr/local/spark/python/pyspark/sql/dataframe.py\u001b[0m in \u001b[0;36m__getattr__\u001b[0;34m(self, name)\u001b[0m\n\u001b[1;32m   1398\u001b[0m         \"\"\"\n\u001b[1;32m   1399\u001b[0m         \u001b[0;32mif\u001b[0m \u001b[0mname\u001b[0m \u001b[0;32mnot\u001b[0m \u001b[0;32min\u001b[0m \u001b[0mself\u001b[0m\u001b[0;34m.\u001b[0m\u001b[0mcolumns\u001b[0m\u001b[0;34m:\u001b[0m\u001b[0;34m\u001b[0m\u001b[0;34m\u001b[0m\u001b[0m\n\u001b[0;32m-> 1400\u001b[0;31m             raise AttributeError(\n\u001b[0m\u001b[1;32m   1401\u001b[0m                 \"'%s' object has no attribute '%s'\" % (self.__class__.__name__, name))\n\u001b[1;32m   1402\u001b[0m         \u001b[0mjc\u001b[0m \u001b[0;34m=\u001b[0m \u001b[0mself\u001b[0m\u001b[0;34m.\u001b[0m\u001b[0m_jdf\u001b[0m\u001b[0;34m.\u001b[0m\u001b[0mapply\u001b[0m\u001b[0;34m(\u001b[0m\u001b[0mname\u001b[0m\u001b[0;34m)\u001b[0m\u001b[0;34m\u001b[0m\u001b[0;34m\u001b[0m\u001b[0m\n",
      "\u001b[0;31mAttributeError\u001b[0m: 'DataFrame' object has no attribute 'shape'"
     ]
    }
   ],
   "source": [
    "#AttributeError\n",
    "df.shape"
   ]
  },
  {
   "cell_type": "code",
   "execution_count": 6,
   "metadata": {
    "id": "qarNsJU5hXyB",
    "outputId": "61c54b90-62c2-4a9e-fabf-d9b978c0ee74"
   },
   "outputs": [
    {
     "data": {
      "text/plain": [
       "['Address',\n",
       " 'Area',\n",
       " 'St',\n",
       " '交易年月日',\n",
       " 'year',\n",
       " '交易標的',\n",
       " '交易筆棟數',\n",
       " '建物型態',\n",
       " '建物現況格局.廳',\n",
       " '建物現況格局.房',\n",
       " '建物現況格局.衛',\n",
       " '建物現況格局.隔間',\n",
       " '有無管理組織',\n",
       " '總價元',\n",
       " '總坪數',\n",
       " '單價元坪',\n",
       " '車位數',\n",
       " 'floor',\n",
       " 'EightCount',\n",
       " 'ParkCount',\n",
       " 'FuneralCount',\n",
       " 'GasCount',\n",
       " 'CrimeCount',\n",
       " 'PoliceCount',\n",
       " 'busCount',\n",
       " 'subwayCount',\n",
       " 'govCount',\n",
       " 'clinicCount',\n",
       " 'hospitalCount',\n",
       " 'pharmacyCount',\n",
       " 'fireareaCount',\n",
       " 'firewayCount',\n",
       " 'martCount',\n",
       " 'mallCount',\n",
       " 'cinemaCount',\n",
       " '土地面積',\n",
       " '總人口數',\n",
       " '男性人數',\n",
       " '女性人數',\n",
       " '人口密度',\n",
       " '每戶人數',\n",
       " '每戶成年人數',\n",
       " '所得收入總計',\n",
       " '可支配所得',\n",
       " '消費支出',\n",
       " '儲蓄',\n",
       " '所得總額',\n",
       " 'Lontitude',\n",
       " 'Latitude']"
      ]
     },
     "execution_count": 6,
     "metadata": {},
     "output_type": "execute_result"
    }
   ],
   "source": [
    "df.columns"
   ]
  },
  {
   "cell_type": "code",
   "execution_count": null,
   "metadata": {
    "id": "ZbIppwDChXyC",
    "outputId": "472885be-43e2-4244-bf75-e29d6f5e6bea"
   },
   "outputs": [],
   "source": [
    "#AttributeError\n",
    "df.info()"
   ]
  },
  {
   "cell_type": "code",
   "execution_count": 7,
   "metadata": {
    "id": "ZbIppwDChXyC",
    "outputId": "472885be-43e2-4244-bf75-e29d6f5e6bea"
   },
   "outputs": [
    {
     "name": "stdout",
     "output_type": "stream",
     "text": [
      "+-------+-----------------------------+------+------+------------------+------------------+--------------------+---------------+--------+------------------+------------------+------------------+-----------------+------------+--------------------+-----------------+------------------+------------------+----------------+------------------+-----------------+-----------------+------------------+------------------+------------------+------------------+-----------------+-----------------+------------------+------------------+------------------+------------------+------------------+-----------------+------------------+------------------+------------------+-----------------+------------------+------------------+------------------+-------------------+-------------------+------------------+------------------+------------------+------------------+------------------+------------------+--------------------+\n",
      "|summary|                      Address|  Area|    St|        交易年月日|              year|            交易標的|     交易筆棟數|建物型態|   建物現況格局.廳|   建物現況格局.房|   建物現況格局.衛|建物現況格局.隔間|有無管理組織|              總價元|           總坪數|          單價元坪|            車位數|           floor|        EightCount|        ParkCount|     FuneralCount|          GasCount|        CrimeCount|       PoliceCount|          busCount|      subwayCount|         govCount|       clinicCount|     hospitalCount|     pharmacyCount|     fireareaCount|      firewayCount|        martCount|         mallCount|       cinemaCount|          土地面積|         總人口數|          男性人數|          女性人數|          人口密度|           每戶人數|       每戶成年人數|      所得收入總計|        可支配所得|          消費支出|              儲蓄|          所得總額|         Lontitude|            Latitude|\n",
      "+-------+-----------------------------+------+------+------------------+------------------+--------------------+---------------+--------+------------------+------------------+------------------+-----------------+------------+--------------------+-----------------+------------------+------------------+----------------+------------------+-----------------+-----------------+------------------+------------------+------------------+------------------+-----------------+-----------------+------------------+------------------+------------------+------------------+------------------+-----------------+------------------+------------------+------------------+-----------------+------------------+------------------+------------------+-------------------+-------------------+------------------+------------------+------------------+------------------+------------------+------------------+--------------------+\n",
      "|  count|                       121820|121820|121820|            121820|            121820|              121820|         121820|  121820|            121820|            121820|            121820|           121820|      121820|              121820|           121820|            121820|            121820|          121820|            121820|           121820|           121820|            121820|            121820|            121820|            121820|           121820|           121820|            121820|            121820|            121820|            121820|            121820|           121820|            121820|            121820|            121820|           121820|            121820|            121820|            121820|             121820|             121820|            121820|            121820|            121820|            121820|            121820|            121820|              121820|\n",
      "|   mean|                         null|  null|  null| 1052471.433065178|2016.1769578065998|                null|           null|    null|1.4949351502216386|2.3638975537678544|1.4978164505007387|             null|        null| 2.631220807222952E7|42.39872926859287| 605283.7952334896|0.4800361188638976| 9.2995895583648|17.424248891807586|5.116360203579051|37.61614677392875| 6.831078640617304|471.18329502544736|10.784747988835987|283.15049252996226|5.509013298308981|33.05342308323756| 332.7773846659005|3.3032835330815957| 73.05510589394189| 36.50896404531276| 22.32641602364144|7.302569364636349|3.0527007059596127|2.6871285503201445|24.179244435235827|232142.1230914464|110182.67657199147|121959.44651945493|14519.220062387129| 3.0894455754374963| 2.6496629453301397|1710187.6155967822|1411904.0812428172|1145929.8599244787|265973.98073386966|1825575.4051797735| 121.5436021723726|  25.055839344835267|\n",
      "| stddev|                         null|  null|  null|22645.088251089495| 2.271997455794448|                null|           null|    null|0.8196334176380499|1.6655095743365211|1.1481311053799268|             null|        null|1.0636614562607577E8|129.3228797702195| 665428.3879489581|2.6624120937500635|5.18821193398241|25.684921969547776|2.347885985011106|47.50310086603552|3.9716133921811134| 213.7515517456578|3.1203693630688054|122.92593479061377|2.313648014464394|8.779474784367439|202.67407687509336|1.8555147264384952|17.586001437890328|25.824138155113335|11.918720813814133|2.861259621426815| 2.576153059769747|2.3977958859656234|18.391385749599763|52951.88919389231| 24791.49024216825|28272.962531669193| 7479.249368064973|0.14977096796797715|0.11766782347955065|131161.26758574133|102316.01916998049| 86002.18826328592|51400.391331876104|150926.45135918664|0.0313939955632067|0.036468778555014555|\n",
      "|    min|     臺北市中山區一江街1~30號|中山區|一壽街|                 1|              1911|                建物|土地0建物0車位0|住宅大樓|                 0|                 0|                 0|               有|          有|                 0.0|         0.003025|               0.0|                 0|               0|                 0|                1|                0|                 1|               240|                 4|               118|                1|               18|                83|                 0|                35|                 3|                 2|                0|                 0|                 0|            5.6815|           119036|             58064|             60972|              4410|               2.83|               2.39|           1492804|           1234736|           1010475|            165349|           1572599|        121.464129|          24.9588245|\n",
      "|    max|臺北市萬華區齊東街82巷31~60號|萬華區|龍泉街|           1090716|              2020|房地(土地+建物)+車位|土地9建物2車位1|  透天厝|                80|               168|               174|               無|          無|     2.7033999999E10|     20910.472825|2.07225807428571E8|               439|              42|                77|                9|              132|                16|               904|                17|               578|                9|               58|               862|                 6|                98|                80|                42|               11|                 8|                 9|           62.3682|           303209|            141137|            162072|             26688|                3.3|               2.82|           1961348|           1590202|           1299939|            338391|           2109095|       121.6242235|          25.1707585|\n",
      "+-------+-----------------------------+------+------+------------------+------------------+--------------------+---------------+--------+------------------+------------------+------------------+-----------------+------------+--------------------+-----------------+------------------+------------------+----------------+------------------+-----------------+-----------------+------------------+------------------+------------------+------------------+-----------------+-----------------+------------------+------------------+------------------+------------------+------------------+-----------------+------------------+------------------+------------------+-----------------+------------------+------------------+------------------+-------------------+-------------------+------------------+------------------+------------------+------------------+------------------+------------------+--------------------+\n",
      "\n"
     ]
    }
   ],
   "source": [
    "df.describe().show()"
   ]
  },
  {
   "cell_type": "code",
   "execution_count": 8,
   "metadata": {
    "id": "_HP6X1iBhXyC",
    "outputId": "4e5c5cdc-3524-4482-a370-9572d4cb7c44"
   },
   "outputs": [
    {
     "ename": "TypeError",
     "evalue": "col should be a string or a Column",
     "output_type": "error",
     "traceback": [
      "\u001b[0;31m---------------------------------------------------------------------------\u001b[0m",
      "\u001b[0;31mTypeError\u001b[0m                                 Traceback (most recent call last)",
      "\u001b[0;32m<ipython-input-8-6896b72d3c8a>\u001b[0m in \u001b[0;36m<module>\u001b[0;34m\u001b[0m\n\u001b[1;32m      1\u001b[0m \u001b[0;31m# pd.set_option('display.max_columns', 100)\u001b[0m\u001b[0;34m\u001b[0m\u001b[0;34m\u001b[0m\u001b[0;34m\u001b[0m\u001b[0m\n\u001b[0;32m----> 2\u001b[0;31m dfDrop = df.drop([\"EightCount\", \"FuneralCount\", \"PoliceCount\",\n\u001b[0m\u001b[1;32m      3\u001b[0m                   \u001b[0;34m\"總坪數\"\u001b[0m\u001b[0;34m,\u001b[0m \u001b[0;34m\"總價元\"\u001b[0m\u001b[0;34m,\u001b[0m\u001b[0;34m\"建物現況格局.隔間\"\u001b[0m\u001b[0;34m,\u001b[0m \u001b[0;34m\"有無管理組織\"\u001b[0m\u001b[0;34m,\u001b[0m\u001b[0;34m\u001b[0m\u001b[0;34m\u001b[0m\u001b[0m\n\u001b[1;32m      4\u001b[0m                   \u001b[0;34m\"交易筆棟數\"\u001b[0m\u001b[0;34m,\u001b[0m \u001b[0;34m\"交易標的\"\u001b[0m\u001b[0;34m,\u001b[0m\u001b[0;34m\"交易年月日\"\u001b[0m\u001b[0;34m,\u001b[0m\u001b[0;34m\u001b[0m\u001b[0;34m\u001b[0m\u001b[0m\n\u001b[1;32m      5\u001b[0m                   \u001b[0;34m\"subwayCount\"\u001b[0m\u001b[0;34m,\u001b[0m \u001b[0;34m\"busCount\"\u001b[0m\u001b[0;34m,\u001b[0m \u001b[0;34m\"CrimeCount\"\u001b[0m\u001b[0;34m,\u001b[0m\u001b[0;34m\u001b[0m\u001b[0;34m\u001b[0m\u001b[0m\n",
      "\u001b[0;32m/usr/local/spark/python/pyspark/sql/dataframe.py\u001b[0m in \u001b[0;36mdrop\u001b[0;34m(self, *cols)\u001b[0m\n\u001b[1;32m   2141\u001b[0m                 \u001b[0mjdf\u001b[0m \u001b[0;34m=\u001b[0m \u001b[0mself\u001b[0m\u001b[0;34m.\u001b[0m\u001b[0m_jdf\u001b[0m\u001b[0;34m.\u001b[0m\u001b[0mdrop\u001b[0m\u001b[0;34m(\u001b[0m\u001b[0mcol\u001b[0m\u001b[0;34m.\u001b[0m\u001b[0m_jc\u001b[0m\u001b[0;34m)\u001b[0m\u001b[0;34m\u001b[0m\u001b[0;34m\u001b[0m\u001b[0m\n\u001b[1;32m   2142\u001b[0m             \u001b[0;32melse\u001b[0m\u001b[0;34m:\u001b[0m\u001b[0;34m\u001b[0m\u001b[0;34m\u001b[0m\u001b[0m\n\u001b[0;32m-> 2143\u001b[0;31m                 \u001b[0;32mraise\u001b[0m \u001b[0mTypeError\u001b[0m\u001b[0;34m(\u001b[0m\u001b[0;34m\"col should be a string or a Column\"\u001b[0m\u001b[0;34m)\u001b[0m\u001b[0;34m\u001b[0m\u001b[0;34m\u001b[0m\u001b[0m\n\u001b[0m\u001b[1;32m   2144\u001b[0m         \u001b[0;32melse\u001b[0m\u001b[0;34m:\u001b[0m\u001b[0;34m\u001b[0m\u001b[0;34m\u001b[0m\u001b[0m\n\u001b[1;32m   2145\u001b[0m             \u001b[0;32mfor\u001b[0m \u001b[0mcol\u001b[0m \u001b[0;32min\u001b[0m \u001b[0mcols\u001b[0m\u001b[0;34m:\u001b[0m\u001b[0;34m\u001b[0m\u001b[0;34m\u001b[0m\u001b[0m\n",
      "\u001b[0;31mTypeError\u001b[0m: col should be a string or a Column"
     ]
    }
   ],
   "source": [
    "# pd.set_option('display.max_columns', 100) \n",
    "dfDrop = df.drop([\"EightCount\", \"FuneralCount\", \"PoliceCount\",\n",
    "                  \"總坪數\", \"總價元\",\"建物現況格局.隔間\", \"有無管理組織\",\n",
    "                  \"交易筆棟數\", \"交易標的\",\"交易年月日\",\n",
    "                  \"subwayCount\", \"busCount\", \"CrimeCount\",\n",
    "                  \"clinicCount\", \"pharmacyCount\", \"fireareaCount\",\n",
    "                  \"mallCount\", \"cinemaCount\", \"總人口數\",\n",
    "                  \"男性人數\", \"女性人數\", \"土地面積\",\n",
    "                  \"每戶成年人數\",\n",
    "                  \"所得收入總計\", \"可支配所得\", \"消費支出\",\n",
    "                  \"人口密度\", \"儲蓄\"])#, axis=1)\n",
    "# dfDrop.head()\n",
    "\n",
    "dfDrop2 = df.drop([\"Area\",\"Address\",\"St\",\"year\",\"建物型態\",\n",
    "                   \"EightCount\", \"FuneralCount\", \"PoliceCount\",\n",
    "                  \"總坪數\", \"總價元\",\"建物現況格局.隔間\", \"有無管理組織\",\n",
    "                  \"交易筆棟數\", \"交易標的\",\"交易年月日\",\n",
    "                  \"subwayCount\", \"busCount\", \"CrimeCount\",\n",
    "                  \"clinicCount\", \"pharmacyCount\", \"fireareaCount\",\n",
    "                  \"mallCount\", \"cinemaCount\", \"總人口數\",\n",
    "                  \"男性人數\", \"女性人數\", \"土地面積\",\n",
    "                  \"每戶成年人數\",\n",
    "                  \"所得收入總計\", \"可支配所得\", \"消費支出\",\n",
    "                  \"人口密度\", \"儲蓄\"])#, axis=1)\n",
    "dfDrop2"
   ]
  },
  {
   "cell_type": "code",
   "execution_count": 9,
   "metadata": {},
   "outputs": [
    {
     "data": {
      "text/plain": [
       "DataFrame[Address: string, Area: string, St: string, 交易年月日: int, year: int, 交易標的: string, 交易筆棟數: string, 建物型態: string, 建物現況格局.廳: int, 建物現況格局.房: int, 建物現況格局.衛: int, 建物現況格局.隔間: string, 有無管理組織: string, 總價元: double, 總坪數: double, 單價元坪: double, 車位數: int, floor: int, EightCount: int, ParkCount: int, FuneralCount: int, GasCount: int, CrimeCount: int, PoliceCount: int, busCount: int, subwayCount: int, govCount: int, clinicCount: int, hospitalCount: int, pharmacyCount: int, fireareaCount: int, firewayCount: int, martCount: int, mallCount: int, cinemaCount: int, 土地面積: double, 總人口數: int, 男性人數: int, 女性人數: int, 人口密度: int, 每戶人數: double, 每戶成年人數: double, 所得收入總計: int, 可支配所得: int, 消費支出: int, 儲蓄: int, 所得總額: int, Lontitude: double, Latitude: double]"
      ]
     },
     "execution_count": 9,
     "metadata": {},
     "output_type": "execute_result"
    }
   ],
   "source": [
    "df"
   ]
  },
  {
   "cell_type": "code",
   "execution_count": 10,
   "metadata": {},
   "outputs": [
    {
     "ename": "AnalysisException",
     "evalue": "cannot resolve '`Longtitude`' given input columns: [Address, Area, CrimeCount, EightCount, FuneralCount, GasCount, Latitude, Lontitude, ParkCount, PoliceCount, St, busCount, cinemaCount, clinicCount, fireareaCount, firewayCount, floor, govCount, hospitalCount, mallCount, martCount, pharmacyCount, subwayCount, year, 交易年月日, 交易標的, 交易筆棟數, 人口密度, 儲蓄, 可支配所得, 單價元坪, 土地面積, 女性人數, 建物型態, 建物現況格局.廳, 建物現況格局.房, 建物現況格局.衛, 建物現況格局.隔間, 所得收入總計, 所得總額, 有無管理組織, 每戶人數, 每戶成年人數, 消費支出, 男性人數, 總人口數, 總價元, 總坪數, 車位數];;\n'Project ['Longtitude]\n+- Relation[Address#16,Area#17,St#18,交易年月日#19,year#20,交易標的#21,交易筆棟數#22,建物型態#23,建物現況格局.廳#24,建物現況格局.房#25,建物現況格局.衛#26,建物現況格局.隔間#27,有無管理組織#28,總價元#29,總坪數#30,單價元坪#31,車位數#32,floor#33,EightCount#34,ParkCount#35,FuneralCount#36,GasCount#37,CrimeCount#38,PoliceCount#39,... 25 more fields] csv\n",
     "output_type": "error",
     "traceback": [
      "\u001b[0;31m---------------------------------------------------------------------------\u001b[0m",
      "\u001b[0;31mAnalysisException\u001b[0m                         Traceback (most recent call last)",
      "\u001b[0;32m<ipython-input-10-b4fac21d60f3>\u001b[0m in \u001b[0;36m<module>\u001b[0;34m\u001b[0m\n\u001b[0;32m----> 1\u001b[0;31m \u001b[0mdf\u001b[0m\u001b[0;34m.\u001b[0m\u001b[0mselect\u001b[0m\u001b[0;34m(\u001b[0m\u001b[0;34m'Longtitude'\u001b[0m\u001b[0;34m)\u001b[0m\u001b[0;34m.\u001b[0m\u001b[0mshow\u001b[0m\u001b[0;34m(\u001b[0m\u001b[0;34m)\u001b[0m\u001b[0;34m\u001b[0m\u001b[0;34m\u001b[0m\u001b[0m\n\u001b[0m\u001b[1;32m      2\u001b[0m \u001b[0;31m# df.select(col('Longtitude')).show()\u001b[0m\u001b[0;34m\u001b[0m\u001b[0;34m\u001b[0m\u001b[0;34m\u001b[0m\u001b[0m\n",
      "\u001b[0;32m/usr/local/spark/python/pyspark/sql/dataframe.py\u001b[0m in \u001b[0;36mselect\u001b[0;34m(self, *cols)\u001b[0m\n\u001b[1;32m   1419\u001b[0m         \u001b[0;34m[\u001b[0m\u001b[0mRow\u001b[0m\u001b[0;34m(\u001b[0m\u001b[0mname\u001b[0m\u001b[0;34m=\u001b[0m\u001b[0;34mu'Alice'\u001b[0m\u001b[0;34m,\u001b[0m \u001b[0mage\u001b[0m\u001b[0;34m=\u001b[0m\u001b[0;36m12\u001b[0m\u001b[0;34m)\u001b[0m\u001b[0;34m,\u001b[0m \u001b[0mRow\u001b[0m\u001b[0;34m(\u001b[0m\u001b[0mname\u001b[0m\u001b[0;34m=\u001b[0m\u001b[0;34mu'Bob'\u001b[0m\u001b[0;34m,\u001b[0m \u001b[0mage\u001b[0m\u001b[0;34m=\u001b[0m\u001b[0;36m15\u001b[0m\u001b[0;34m)\u001b[0m\u001b[0;34m]\u001b[0m\u001b[0;34m\u001b[0m\u001b[0;34m\u001b[0m\u001b[0m\n\u001b[1;32m   1420\u001b[0m         \"\"\"\n\u001b[0;32m-> 1421\u001b[0;31m         \u001b[0mjdf\u001b[0m \u001b[0;34m=\u001b[0m \u001b[0mself\u001b[0m\u001b[0;34m.\u001b[0m\u001b[0m_jdf\u001b[0m\u001b[0;34m.\u001b[0m\u001b[0mselect\u001b[0m\u001b[0;34m(\u001b[0m\u001b[0mself\u001b[0m\u001b[0;34m.\u001b[0m\u001b[0m_jcols\u001b[0m\u001b[0;34m(\u001b[0m\u001b[0;34m*\u001b[0m\u001b[0mcols\u001b[0m\u001b[0;34m)\u001b[0m\u001b[0;34m)\u001b[0m\u001b[0;34m\u001b[0m\u001b[0;34m\u001b[0m\u001b[0m\n\u001b[0m\u001b[1;32m   1422\u001b[0m         \u001b[0;32mreturn\u001b[0m \u001b[0mDataFrame\u001b[0m\u001b[0;34m(\u001b[0m\u001b[0mjdf\u001b[0m\u001b[0;34m,\u001b[0m \u001b[0mself\u001b[0m\u001b[0;34m.\u001b[0m\u001b[0msql_ctx\u001b[0m\u001b[0;34m)\u001b[0m\u001b[0;34m\u001b[0m\u001b[0;34m\u001b[0m\u001b[0m\n\u001b[1;32m   1423\u001b[0m \u001b[0;34m\u001b[0m\u001b[0m\n",
      "\u001b[0;32m/usr/local/spark/python/lib/py4j-0.10.9-src.zip/py4j/java_gateway.py\u001b[0m in \u001b[0;36m__call__\u001b[0;34m(self, *args)\u001b[0m\n\u001b[1;32m   1302\u001b[0m \u001b[0;34m\u001b[0m\u001b[0m\n\u001b[1;32m   1303\u001b[0m         \u001b[0manswer\u001b[0m \u001b[0;34m=\u001b[0m \u001b[0mself\u001b[0m\u001b[0;34m.\u001b[0m\u001b[0mgateway_client\u001b[0m\u001b[0;34m.\u001b[0m\u001b[0msend_command\u001b[0m\u001b[0;34m(\u001b[0m\u001b[0mcommand\u001b[0m\u001b[0;34m)\u001b[0m\u001b[0;34m\u001b[0m\u001b[0;34m\u001b[0m\u001b[0m\n\u001b[0;32m-> 1304\u001b[0;31m         return_value = get_return_value(\n\u001b[0m\u001b[1;32m   1305\u001b[0m             answer, self.gateway_client, self.target_id, self.name)\n\u001b[1;32m   1306\u001b[0m \u001b[0;34m\u001b[0m\u001b[0m\n",
      "\u001b[0;32m/usr/local/spark/python/pyspark/sql/utils.py\u001b[0m in \u001b[0;36mdeco\u001b[0;34m(*a, **kw)\u001b[0m\n\u001b[1;32m    132\u001b[0m                 \u001b[0;31m# Hide where the exception came from that shows a non-Pythonic\u001b[0m\u001b[0;34m\u001b[0m\u001b[0;34m\u001b[0m\u001b[0;34m\u001b[0m\u001b[0m\n\u001b[1;32m    133\u001b[0m                 \u001b[0;31m# JVM exception message.\u001b[0m\u001b[0;34m\u001b[0m\u001b[0;34m\u001b[0m\u001b[0;34m\u001b[0m\u001b[0m\n\u001b[0;32m--> 134\u001b[0;31m                 \u001b[0mraise_from\u001b[0m\u001b[0;34m(\u001b[0m\u001b[0mconverted\u001b[0m\u001b[0;34m)\u001b[0m\u001b[0;34m\u001b[0m\u001b[0;34m\u001b[0m\u001b[0m\n\u001b[0m\u001b[1;32m    135\u001b[0m             \u001b[0;32melse\u001b[0m\u001b[0;34m:\u001b[0m\u001b[0;34m\u001b[0m\u001b[0;34m\u001b[0m\u001b[0m\n\u001b[1;32m    136\u001b[0m                 \u001b[0;32mraise\u001b[0m\u001b[0;34m\u001b[0m\u001b[0;34m\u001b[0m\u001b[0m\n",
      "\u001b[0;32m/usr/local/spark/python/pyspark/sql/utils.py\u001b[0m in \u001b[0;36mraise_from\u001b[0;34m(e)\u001b[0m\n",
      "\u001b[0;31mAnalysisException\u001b[0m: cannot resolve '`Longtitude`' given input columns: [Address, Area, CrimeCount, EightCount, FuneralCount, GasCount, Latitude, Lontitude, ParkCount, PoliceCount, St, busCount, cinemaCount, clinicCount, fireareaCount, firewayCount, floor, govCount, hospitalCount, mallCount, martCount, pharmacyCount, subwayCount, year, 交易年月日, 交易標的, 交易筆棟數, 人口密度, 儲蓄, 可支配所得, 單價元坪, 土地面積, 女性人數, 建物型態, 建物現況格局.廳, 建物現況格局.房, 建物現況格局.衛, 建物現況格局.隔間, 所得收入總計, 所得總額, 有無管理組織, 每戶人數, 每戶成年人數, 消費支出, 男性人數, 總人口數, 總價元, 總坪數, 車位數];;\n'Project ['Longtitude]\n+- Relation[Address#16,Area#17,St#18,交易年月日#19,year#20,交易標的#21,交易筆棟數#22,建物型態#23,建物現況格局.廳#24,建物現況格局.房#25,建物現況格局.衛#26,建物現況格局.隔間#27,有無管理組織#28,總價元#29,總坪數#30,單價元坪#31,車位數#32,floor#33,EightCount#34,ParkCount#35,FuneralCount#36,GasCount#37,CrimeCount#38,PoliceCount#39,... 25 more fields] csv\n"
     ]
    }
   ],
   "source": [
    "df.select('Longtitude').show()\n",
    "# df.select(col('Longtitude')).show()"
   ]
  },
  {
   "cell_type": "code",
   "execution_count": 25,
   "metadata": {
    "id": "_HP6X1iBhXyC",
    "outputId": "4e5c5cdc-3524-4482-a370-9572d4cb7c44"
   },
   "outputs": [
    {
     "ename": "AnalysisException",
     "evalue": "cannot resolve '`建物現況格局.廳`' given input columns: [Address, Area, CrimeCount, EightCount, FuneralCount, GasCount, Latitude, Lontitude, ParkCount, PoliceCount, St, busCount, cinemaCount, clinicCount, fireareaCount, firewayCount, floor, govCount, hospitalCount, mallCount, martCount, pharmacyCount, subwayCount, year, 交易年月日, 交易標的, 交易筆棟數, 人口密度, 儲蓄, 可支配所得, 單價元坪, 土地面積, 女性人數, 建物型態, 建物現況格局.廳, 建物現況格局.房, 建物現況格局.衛, 建物現況格局.隔間, 所得收入總計, 所得總額, 有無管理組織, 每戶人數, 每戶成年人數, 消費支出, 男性人數, 總人口數, 總價元, 總坪數, 車位數];;\n'Project ['建物現況格局.廳, '建物現況格局.房, '建物現況格局.衛, 單價元坪#145, 車位數#146, floor#147, ParkCount#149, 'GasCount\t, govCount#156, hospitalCount#158, firewayCount#161, martCount#162, 每戶人數#170, 所得總額#176]\n+- Relation[Address#130,Area#131,St#132,交易年月日#133,year#134,交易標的#135,交易筆棟數#136,建物型態#137,建物現況格局.廳#138,建物現況格局.房#139,建物現況格局.衛#140,建物現況格局.隔間#141,有無管理組織#142,總價元#143,總坪數#144,單價元坪#145,車位數#146,floor#147,EightCount#148,ParkCount#149,FuneralCount#150,GasCount#151,CrimeCount#152,PoliceCount#153,... 25 more fields] csv\n",
     "output_type": "error",
     "traceback": [
      "\u001b[0;31m---------------------------------------------------------------------------\u001b[0m",
      "\u001b[0;31mAnalysisException\u001b[0m                         Traceback (most recent call last)",
      "\u001b[0;32m<ipython-input-25-66b260384ee8>\u001b[0m in \u001b[0;36m<module>\u001b[0;34m\u001b[0m\n\u001b[1;32m      1\u001b[0m \u001b[0;31m# [\"建物現況格局.廳\",\"建物現況格局.房\",\"建物現況格局.衛\",\"單價元坪\",\"車位數\",\"floor\",\"ParkCount\",\"GasCount\",\"govCount\",\"hospitalCount\",\"firewayCount\",\"martCount\",\"每戶人數\",\"所得總額\"]\u001b[0m\u001b[0;34m\u001b[0m\u001b[0;34m\u001b[0m\u001b[0;34m\u001b[0m\u001b[0m\n\u001b[0;32m----> 2\u001b[0;31m \u001b[0mdfDrop2\u001b[0m \u001b[0;34m=\u001b[0m \u001b[0mdf\u001b[0m\u001b[0;34m.\u001b[0m\u001b[0mselect\u001b[0m\u001b[0;34m(\u001b[0m\u001b[0;34m\"建物現況格局.廳\"\u001b[0m\u001b[0;34m,\u001b[0m\u001b[0;34m\"建物現況格局.房\"\u001b[0m\u001b[0;34m,\u001b[0m\u001b[0;34m\"建物現況格局.衛\"\u001b[0m\u001b[0;34m,\u001b[0m\u001b[0;34m\"單價元坪\"\u001b[0m\u001b[0;34m,\u001b[0m\u001b[0;34m\"車位數\"\u001b[0m\u001b[0;34m,\u001b[0m\u001b[0;34m\"floor\"\u001b[0m\u001b[0;34m,\u001b[0m\u001b[0;34m\"ParkCount\"\u001b[0m\u001b[0;34m,\u001b[0m\u001b[0;34m\"GasCount \"\u001b[0m\u001b[0;34m,\u001b[0m\u001b[0;34m\"govCount\"\u001b[0m\u001b[0;34m,\u001b[0m\u001b[0;34m\"hospitalCount\"\u001b[0m\u001b[0;34m,\u001b[0m\u001b[0;34m\"firewayCount\"\u001b[0m\u001b[0;34m,\u001b[0m\u001b[0;34m\"martCount\"\u001b[0m\u001b[0;34m,\u001b[0m\u001b[0;34m\"每戶人數\"\u001b[0m\u001b[0;34m,\u001b[0m\u001b[0;34m\"所得總額\"\u001b[0m\u001b[0;34m)\u001b[0m\u001b[0;34m\u001b[0m\u001b[0;34m\u001b[0m\u001b[0m\n\u001b[0m\u001b[1;32m      3\u001b[0m \u001b[0mdfDrop2\u001b[0m\u001b[0;34m\u001b[0m\u001b[0;34m\u001b[0m\u001b[0m\n",
      "\u001b[0;32m/usr/local/lib/python3.8/dist-packages/pyspark/sql/dataframe.py\u001b[0m in \u001b[0;36mselect\u001b[0;34m(self, *cols)\u001b[0m\n\u001b[1;32m   1419\u001b[0m         \u001b[0;34m[\u001b[0m\u001b[0mRow\u001b[0m\u001b[0;34m(\u001b[0m\u001b[0mname\u001b[0m\u001b[0;34m=\u001b[0m\u001b[0;34mu'Alice'\u001b[0m\u001b[0;34m,\u001b[0m \u001b[0mage\u001b[0m\u001b[0;34m=\u001b[0m\u001b[0;36m12\u001b[0m\u001b[0;34m)\u001b[0m\u001b[0;34m,\u001b[0m \u001b[0mRow\u001b[0m\u001b[0;34m(\u001b[0m\u001b[0mname\u001b[0m\u001b[0;34m=\u001b[0m\u001b[0;34mu'Bob'\u001b[0m\u001b[0;34m,\u001b[0m \u001b[0mage\u001b[0m\u001b[0;34m=\u001b[0m\u001b[0;36m15\u001b[0m\u001b[0;34m)\u001b[0m\u001b[0;34m]\u001b[0m\u001b[0;34m\u001b[0m\u001b[0;34m\u001b[0m\u001b[0m\n\u001b[1;32m   1420\u001b[0m         \"\"\"\n\u001b[0;32m-> 1421\u001b[0;31m         \u001b[0mjdf\u001b[0m \u001b[0;34m=\u001b[0m \u001b[0mself\u001b[0m\u001b[0;34m.\u001b[0m\u001b[0m_jdf\u001b[0m\u001b[0;34m.\u001b[0m\u001b[0mselect\u001b[0m\u001b[0;34m(\u001b[0m\u001b[0mself\u001b[0m\u001b[0;34m.\u001b[0m\u001b[0m_jcols\u001b[0m\u001b[0;34m(\u001b[0m\u001b[0;34m*\u001b[0m\u001b[0mcols\u001b[0m\u001b[0;34m)\u001b[0m\u001b[0;34m)\u001b[0m\u001b[0;34m\u001b[0m\u001b[0;34m\u001b[0m\u001b[0m\n\u001b[0m\u001b[1;32m   1422\u001b[0m         \u001b[0;32mreturn\u001b[0m \u001b[0mDataFrame\u001b[0m\u001b[0;34m(\u001b[0m\u001b[0mjdf\u001b[0m\u001b[0;34m,\u001b[0m \u001b[0mself\u001b[0m\u001b[0;34m.\u001b[0m\u001b[0msql_ctx\u001b[0m\u001b[0;34m)\u001b[0m\u001b[0;34m\u001b[0m\u001b[0;34m\u001b[0m\u001b[0m\n\u001b[1;32m   1423\u001b[0m \u001b[0;34m\u001b[0m\u001b[0m\n",
      "\u001b[0;32m/usr/local/lib/python3.8/dist-packages/py4j/java_gateway.py\u001b[0m in \u001b[0;36m__call__\u001b[0;34m(self, *args)\u001b[0m\n\u001b[1;32m   1302\u001b[0m \u001b[0;34m\u001b[0m\u001b[0m\n\u001b[1;32m   1303\u001b[0m         \u001b[0manswer\u001b[0m \u001b[0;34m=\u001b[0m \u001b[0mself\u001b[0m\u001b[0;34m.\u001b[0m\u001b[0mgateway_client\u001b[0m\u001b[0;34m.\u001b[0m\u001b[0msend_command\u001b[0m\u001b[0;34m(\u001b[0m\u001b[0mcommand\u001b[0m\u001b[0;34m)\u001b[0m\u001b[0;34m\u001b[0m\u001b[0;34m\u001b[0m\u001b[0m\n\u001b[0;32m-> 1304\u001b[0;31m         return_value = get_return_value(\n\u001b[0m\u001b[1;32m   1305\u001b[0m             answer, self.gateway_client, self.target_id, self.name)\n\u001b[1;32m   1306\u001b[0m \u001b[0;34m\u001b[0m\u001b[0m\n",
      "\u001b[0;32m/usr/local/lib/python3.8/dist-packages/pyspark/sql/utils.py\u001b[0m in \u001b[0;36mdeco\u001b[0;34m(*a, **kw)\u001b[0m\n\u001b[1;32m    132\u001b[0m                 \u001b[0;31m# Hide where the exception came from that shows a non-Pythonic\u001b[0m\u001b[0;34m\u001b[0m\u001b[0;34m\u001b[0m\u001b[0;34m\u001b[0m\u001b[0m\n\u001b[1;32m    133\u001b[0m                 \u001b[0;31m# JVM exception message.\u001b[0m\u001b[0;34m\u001b[0m\u001b[0;34m\u001b[0m\u001b[0;34m\u001b[0m\u001b[0m\n\u001b[0;32m--> 134\u001b[0;31m                 \u001b[0mraise_from\u001b[0m\u001b[0;34m(\u001b[0m\u001b[0mconverted\u001b[0m\u001b[0;34m)\u001b[0m\u001b[0;34m\u001b[0m\u001b[0;34m\u001b[0m\u001b[0m\n\u001b[0m\u001b[1;32m    135\u001b[0m             \u001b[0;32melse\u001b[0m\u001b[0;34m:\u001b[0m\u001b[0;34m\u001b[0m\u001b[0;34m\u001b[0m\u001b[0m\n\u001b[1;32m    136\u001b[0m                 \u001b[0;32mraise\u001b[0m\u001b[0;34m\u001b[0m\u001b[0;34m\u001b[0m\u001b[0m\n",
      "\u001b[0;32m/usr/local/lib/python3.8/dist-packages/pyspark/sql/utils.py\u001b[0m in \u001b[0;36mraise_from\u001b[0;34m(e)\u001b[0m\n",
      "\u001b[0;31mAnalysisException\u001b[0m: cannot resolve '`建物現況格局.廳`' given input columns: [Address, Area, CrimeCount, EightCount, FuneralCount, GasCount, Latitude, Lontitude, ParkCount, PoliceCount, St, busCount, cinemaCount, clinicCount, fireareaCount, firewayCount, floor, govCount, hospitalCount, mallCount, martCount, pharmacyCount, subwayCount, year, 交易年月日, 交易標的, 交易筆棟數, 人口密度, 儲蓄, 可支配所得, 單價元坪, 土地面積, 女性人數, 建物型態, 建物現況格局.廳, 建物現況格局.房, 建物現況格局.衛, 建物現況格局.隔間, 所得收入總計, 所得總額, 有無管理組織, 每戶人數, 每戶成年人數, 消費支出, 男性人數, 總人口數, 總價元, 總坪數, 車位數];;\n'Project ['建物現況格局.廳, '建物現況格局.房, '建物現況格局.衛, 單價元坪#145, 車位數#146, floor#147, ParkCount#149, 'GasCount\t, govCount#156, hospitalCount#158, firewayCount#161, martCount#162, 每戶人數#170, 所得總額#176]\n+- Relation[Address#130,Area#131,St#132,交易年月日#133,year#134,交易標的#135,交易筆棟數#136,建物型態#137,建物現況格局.廳#138,建物現況格局.房#139,建物現況格局.衛#140,建物現況格局.隔間#141,有無管理組織#142,總價元#143,總坪數#144,單價元坪#145,車位數#146,floor#147,EightCount#148,ParkCount#149,FuneralCount#150,GasCount#151,CrimeCount#152,PoliceCount#153,... 25 more fields] csv\n"
     ]
    }
   ],
   "source": [
    "# [\"建物現況格局.廳\",\"建物現況格局.房\",\"建物現況格局.衛\",\"單價元坪\",\"車位數\",\"floor\",\"ParkCount\",\"GasCount\",\"govCount\",\"hospitalCount\",\"firewayCount\",\"martCount\",\"每戶人數\",\"所得總額\"]\n",
    "dfDrop2 = df.select(\"建物現況格局.廳\",\"建物現況格局.房\",\"建物現況格局.衛\",\"單價元坪\",\"車位數\",\"floor\",\"ParkCount\",\"GasCount\t\",\"govCount\",\"hospitalCount\",\"firewayCount\",\"martCount\",\"每戶人數\",\"所得總額\")\n",
    "dfDrop2"
   ]
  },
  {
   "cell_type": "code",
   "execution_count": null,
   "metadata": {
    "id": "IwMLJdYHhXyD"
   },
   "outputs": [],
   "source": [
    "from dfply import *"
   ]
  },
  {
   "cell_type": "code",
   "execution_count": null,
   "metadata": {
    "id": "Hgd46ENxhXyD",
    "outputId": "fa749549-85a9-4340-8bf8-58af79f8fb8b"
   },
   "outputs": [],
   "source": [
    "yDf = dfDrop2 >> select(X.單價元坪)\n",
    "xDf = dfDrop2.drop(['單價元坪'], axis = 1)\n",
    "xDf.head()"
   ]
  },
  {
   "cell_type": "markdown",
   "metadata": {
    "id": "flpmUFbuhXyD"
   },
   "source": [
    "# Train and Test Data"
   ]
  },
  {
   "cell_type": "code",
   "execution_count": null,
   "metadata": {
    "id": "cxKbIdbahXyD",
    "outputId": "c957c282-be25-47ac-95b1-1ca910f456f6"
   },
   "outputs": [],
   "source": [
    "X_train, X_test, y_train, y_test = train_test_split(xDf, yDf, test_size= 0.2, random_state = random_state)\n",
    "\n",
    "print(f'Training set: X_train shape= {X_train.shape}, y_train shape= {y_train.shape}')\n",
    "print(f'Holdout set: X_test shape= {X_test.shape}, y_test shape= {y_test.shape}')"
   ]
  },
  {
   "cell_type": "markdown",
   "metadata": {
    "id": "1mfyUUHihXyE"
   },
   "source": [
    "# Regression Model"
   ]
  },
  {
   "cell_type": "code",
   "execution_count": null,
   "metadata": {
    "id": "NwDg9lMjhXyE"
   },
   "outputs": [],
   "source": [
    "models_scores = [] # To store model scores\n",
    "\n",
    "def rmse(model):\n",
    "    model.fit(X_train, y_train)\n",
    "    y_pred = model.predict(X_test)\n",
    "    \n",
    "    return mean_squared_error(y_test, y_pred, squared= False) # squared= False > returns Root Mean Square Error    "
   ]
  },
  {
   "cell_type": "markdown",
   "metadata": {
    "id": "VADwIoebhXyE"
   },
   "source": [
    "## Linear Regression"
   ]
  },
  {
   "cell_type": "code",
   "execution_count": null,
   "metadata": {
    "id": "JJJQ__v3hXyF",
    "outputId": "e9dd71be-d837-47b5-f7bc-3edd14903f70"
   },
   "outputs": [],
   "source": [
    "linear_regression = make_pipeline(LinearRegression())\n",
    "score = rmse(linear_regression)\n",
    "\n",
    "models_scores.append(['LinearRegression', score])\n",
    "print(f'LinearRegression Score= {score}')"
   ]
  },
  {
   "cell_type": "markdown",
   "metadata": {
    "id": "AIKCt-7AhXyF"
   },
   "source": [
    "## Lasso Regression"
   ]
  },
  {
   "cell_type": "code",
   "execution_count": null,
   "metadata": {
    "id": "kYYNO8KqhXyF",
    "outputId": "0d37ff81-c441-4f6c-f472-cbc6222d75bb"
   },
   "outputs": [],
   "source": [
    "lasso = make_pipeline(RobustScaler(), Lasso(alpha=0.0005, random_state= random_state))\n",
    "\n",
    "score = rmse(lasso)\n",
    "models_scores.append(['Lasso', score])\n",
    "print(f'Lasso Score= {score}')"
   ]
  },
  {
   "cell_type": "markdown",
   "metadata": {
    "id": "cisYd20thXyF"
   },
   "source": [
    "## ElasticNet Regression"
   ]
  },
  {
   "cell_type": "code",
   "execution_count": null,
   "metadata": {
    "id": "NxhiiDWFhXyG",
    "outputId": "1278e122-13d6-4133-c032-916a763e24cc"
   },
   "outputs": [],
   "source": [
    "elastic_net = make_pipeline(RobustScaler(), ElasticNet(alpha=0.0005, l1_ratio= .9, random_state= random_state))\n",
    "\n",
    "score = rmse(elastic_net)\n",
    "models_scores.append(['ElasticNet', score])\n",
    "print(f'ElasticNet Score= {score}')"
   ]
  },
  {
   "cell_type": "markdown",
   "metadata": {
    "id": "iftC5FV3hXyG"
   },
   "source": [
    "## KernelRidge Regression"
   ]
  },
  {
   "cell_type": "code",
   "execution_count": null,
   "metadata": {
    "id": "DcJhcCdYhXyG"
   },
   "outputs": [],
   "source": [
    "# kernel_ridge= KernelRidge(alpha=0.6, kernel='polynomial', degree=2, coef0=2.5)\n",
    "# score = rmse(kernel_ridge)\n",
    "# models_scores.append(['KernelRidge', score])\n",
    "# print(f'KernelRidge Score= {score}')"
   ]
  },
  {
   "cell_type": "markdown",
   "metadata": {
    "id": "T9l84xu_hXyH"
   },
   "source": [
    "## Rank scores"
   ]
  },
  {
   "cell_type": "code",
   "execution_count": null,
   "metadata": {
    "id": "4AucNqXthXyH",
    "outputId": "03bd8991-0cd0-4ddc-d45c-db87668d2adf"
   },
   "outputs": [],
   "source": [
    "pd.DataFrame(models_scores).sort_values(by=[1], ascending=True)"
   ]
  },
  {
   "cell_type": "markdown",
   "metadata": {
    "id": "SuXN38zYhXyH"
   },
   "source": [
    "# Ensemble Modeling "
   ]
  },
  {
   "cell_type": "code",
   "execution_count": null,
   "metadata": {
    "id": "JpdFCc4thXyH",
    "outputId": "5f732c41-3f45-4429-be31-aeb5885d5024"
   },
   "outputs": [],
   "source": [
    "def bagging_predictions(estimator):\n",
    "    \"\"\"\n",
    "    I/P\n",
    "    estimator: The base estimator from which the ensemble is grown.\n",
    "    O/P\n",
    "    br_y_pred: Predictions on test data for the base estimator.\n",
    "    \n",
    "    \"\"\"\n",
    "    regr = BaggingRegressor(base_estimator=estimator,\n",
    "                            n_estimators=10,\n",
    "                            max_samples=1.0,\n",
    "                            bootstrap=True, # Samples are drawn with replacement\n",
    "                            n_jobs= n_jobs,\n",
    "                            random_state=random_state).fit(X_train, y_train)\n",
    "\n",
    "    br_y_pred = regr.predict(X_test)\n",
    "\n",
    "    rmse_val = mean_squared_error(y_test, br_y_pred, squared= False) # squared= False > returns Root Mean Square Error   \n",
    "\n",
    "    print(f'RMSE for base estimator {regr.base_estimator_} = {rmse_val}\\n')\n",
    "    return br_y_pred\n",
    "\n",
    "\n",
    "predictions = np.column_stack((bagging_predictions(linear_regression),\n",
    "                              bagging_predictions(lasso),\n",
    "                              bagging_predictions(elastic_net)))\n",
    "#                               bagging_predictions(kernel_ridge)))\n",
    "print(f\"Bagged predictions shape: {predictions.shape}\")\n",
    "       \n",
    "y_pred = np.mean(predictions, axis=1)\n",
    "print(\"Aggregated predictions (y_pred) shape\", y_pred.shape)\n",
    "\n",
    "rmse_val = mean_squared_error(y_test, y_pred, squared= False) # squared= False > returns Root Mean Square Error   \n",
    "models_scores.append(['Bagging', rmse_val])\n",
    "\n",
    "print(f'\\nBagging RMSE= {rmse_val}')"
   ]
  },
  {
   "cell_type": "markdown",
   "metadata": {
    "id": "eXLPnKsqhXyI"
   },
   "source": [
    "## Rank scores"
   ]
  },
  {
   "cell_type": "code",
   "execution_count": null,
   "metadata": {
    "id": "WaPDUeLHhXyJ",
    "outputId": "6fcc5aa1-0ccd-49c1-f018-16fe3bc0dc3d"
   },
   "outputs": [],
   "source": [
    "pd.DataFrame(models_scores).sort_values(by=[1], ascending=True)"
   ]
  },
  {
   "cell_type": "markdown",
   "metadata": {
    "id": "AihoSNJJhXyJ"
   },
   "source": [
    "# Boosting "
   ]
  },
  {
   "cell_type": "markdown",
   "metadata": {
    "id": "u0qQvf3ghXyJ"
   },
   "source": [
    "## GradientBoostingRegressor ¶"
   ]
  },
  {
   "cell_type": "code",
   "execution_count": null,
   "metadata": {
    "id": "F6NYRE3dhXyJ",
    "outputId": "7ee0199b-bf60-4d7c-ca0d-302aba5905b8"
   },
   "outputs": [],
   "source": [
    "gradient_boosting_regressor= GradientBoostingRegressor(n_estimators=3000, learning_rate=0.05,\n",
    "                                   max_depth=4, max_features='sqrt',\n",
    "                                   min_samples_leaf=15, min_samples_split=10, \n",
    "                                   loss='huber', random_state = random_state)\n",
    "\n",
    "score = rmse(gradient_boosting_regressor)\n",
    "models_scores.append(['GradientBoostingRegressor', score])\n",
    "print(f'GradientBoostingRegressor Score= {score}')"
   ]
  },
  {
   "cell_type": "markdown",
   "metadata": {
    "code_folding": [],
    "id": "z-JB_JAbhXyK"
   },
   "source": [
    "## XGBRegressor "
   ]
  },
  {
   "cell_type": "code",
   "execution_count": null,
   "metadata": {
    "id": "cWkRQBS0hXyK",
    "outputId": "d406f210-b4f5-404c-8345-dfeb187c6ff6"
   },
   "outputs": [],
   "source": [
    "xgb_regressor= xgb.XGBRegressor(colsample_bytree=0.4603, gamma=0.0468, \n",
    "                             learning_rate=0.05, max_depth=3, \n",
    "                             min_child_weight=1.7817, n_estimators=2200,\n",
    "                             reg_alpha=0.4640, reg_lambda=0.8571,\n",
    "                             subsample=0.5213,verbosity=0, nthread = -1, random_state = random_state)\n",
    "score = rmse(xgb_regressor)\n",
    "models_scores.append(['XGBRegressor', score])\n",
    "print(f'XGBRegressor Score= {score}')"
   ]
  },
  {
   "cell_type": "markdown",
   "metadata": {
    "id": "WmtN-F78hXyK"
   },
   "source": [
    "## LGBMRegressor "
   ]
  },
  {
   "cell_type": "code",
   "execution_count": null,
   "metadata": {
    "id": "3Z0OoX5MhXyK"
   },
   "outputs": [],
   "source": [
    "# lgbm_regressor= lgb.LGBMRegressor(objective='regression',num_leaves=5,\n",
    "#                               learning_rate=0.05, n_estimators=720,\n",
    "#                               max_bin = 55, bagging_fraction = 0.8,\n",
    "#                               bagging_freq = 5, feature_fraction = 0.2319,\n",
    "#                               feature_fraction_seed=9, bagging_seed=9,\n",
    "#                               min_data_in_leaf =6, min_sum_hessian_in_leaf = 11,random_state = random_state)\n",
    "\n",
    "# score = rmse(lgbm_regressor)\n",
    "# models_scores.append(['LGBMRegressor', score])\n",
    "# print(f'LGBMRegressor Score= {score}')"
   ]
  },
  {
   "cell_type": "markdown",
   "metadata": {
    "id": "vyUq3e0DhXyL"
   },
   "source": [
    "## Stacking"
   ]
  },
  {
   "cell_type": "code",
   "execution_count": null,
   "metadata": {
    "id": "n78D6ckShXyL",
    "outputId": "4ed8f1d9-2e72-452a-e881-42316eb8feec"
   },
   "outputs": [],
   "source": [
    "estimators = [ ('linear_regression', linear_regression), ('gradient_boosting_regressor', gradient_boosting_regressor),\n",
    "              ('xgb_regressor', xgb_regressor) ]\n",
    "\n",
    "stack = StackingRegressor(estimators=estimators, final_estimator= lasso, cv= 5, n_jobs= n_jobs, passthrough = True)\n",
    "\n",
    "stack.fit(X_train, y_train)\n",
    "\n",
    "pred = stack.predict(X_test)\n",
    "\n",
    "rmse_val = mean_squared_error(y_test, pred, squared= False) # squared= False > returns Root Mean Square Error    \n",
    "models_scores.append(['Stacking', rmse_val])\n",
    "print(f'rmse= {rmse_val}')"
   ]
  },
  {
   "cell_type": "markdown",
   "metadata": {
    "id": "0RvG9-7RhXyL"
   },
   "source": [
    "## Rank scores"
   ]
  },
  {
   "cell_type": "code",
   "execution_count": null,
   "metadata": {
    "id": "JksX-JhEhXyL",
    "outputId": "8255d835-a1ea-43bf-f371-dcfa9dd68400"
   },
   "outputs": [],
   "source": [
    "# Ranking the scores of each model\n",
    "pd.DataFrame(models_scores).sort_values(by=[1], ascending=True)                                                                         "
   ]
  },
  {
   "cell_type": "markdown",
   "metadata": {
    "id": "n3gJhMvahXyL"
   },
   "source": [
    "# Predict"
   ]
  },
  {
   "cell_type": "code",
   "execution_count": null,
   "metadata": {
    "id": "v4xut24vhXyM"
   },
   "outputs": [],
   "source": [
    "yPred = stack.predict(xDf)"
   ]
  },
  {
   "cell_type": "code",
   "execution_count": null,
   "metadata": {
    "id": "xkppsRcAhXyM",
    "outputId": "333fc9e6-28a8-4dfe-bb97-2e08bb124d6b"
   },
   "outputs": [],
   "source": [
    "StackPred = pd.DataFrame(yPred, columns = ['pred'])\n",
    "StackPred"
   ]
  },
  {
   "cell_type": "code",
   "execution_count": null,
   "metadata": {
    "id": "A5YoiESKhXyM",
    "outputId": "28577c3a-077e-4350-f1a3-8fa98cad9395"
   },
   "outputs": [],
   "source": [
    "result = pd.concat([df, StackPred], axis=1).drop([\"Unnamed: 0\"], axis=1)\n",
    "result.head(2)"
   ]
  },
  {
   "cell_type": "code",
   "execution_count": null,
   "metadata": {
    "id": "fMFQge4OhXyM"
   },
   "outputs": [],
   "source": [
    "result[\"漲跌\"] = round(result[\"單價元坪\"]-result[\"pred\"], 2)"
   ]
  },
  {
   "cell_type": "code",
   "execution_count": null,
   "metadata": {
    "id": "L8-zOTKphXyM",
    "outputId": "9a6db4fb-231e-466d-fbc7-6becbd9dc6ff"
   },
   "outputs": [],
   "source": [
    "result.head(2)"
   ]
  },
  {
   "cell_type": "code",
   "execution_count": null,
   "metadata": {
    "id": "X-WWQJPohXyM"
   },
   "outputs": [],
   "source": [
    "updown = result.groupby(['Area'], as_index=True).mean()[['pred','漲跌']].reset_index()\n",
    "updown.sort_values(by=['漲跌'], inplace=True, ascending=False)"
   ]
  },
  {
   "cell_type": "code",
   "execution_count": null,
   "metadata": {
    "id": "ZexE7vMvhXyN",
    "outputId": "1ec8aa93-9263-4314-f476-180f2055ae57"
   },
   "outputs": [],
   "source": [
    "updown"
   ]
  },
  {
   "cell_type": "code",
   "execution_count": null,
   "metadata": {},
   "outputs": [],
   "source": [
    "spark.stop()"
   ]
  }
 ],
 "metadata": {
  "colab": {
   "name": "Model_RegEnsemBoost.ipynb",
   "provenance": []
  },
  "kernelspec": {
   "display_name": "Python 3",
   "language": "python",
   "name": "python3"
  },
  "language_info": {
   "codemirror_mode": {
    "name": "ipython",
    "version": 3
   },
   "file_extension": ".py",
   "mimetype": "text/x-python",
   "name": "python",
   "nbconvert_exporter": "python",
   "pygments_lexer": "ipython3",
   "version": "3.8.5"
  },
  "toc": {
   "base_numbering": 1,
   "nav_menu": {},
   "number_sections": true,
   "sideBar": true,
   "skip_h1_title": false,
   "title_cell": "Table of Contents",
   "title_sidebar": "Contents",
   "toc_cell": false,
   "toc_position": {},
   "toc_section_display": true,
   "toc_window_display": true
  },
  "varInspector": {
   "cols": {
    "lenName": 16,
    "lenType": 16,
    "lenVar": 40
   },
   "kernels_config": {
    "python": {
     "delete_cmd_postfix": "",
     "delete_cmd_prefix": "del ",
     "library": "var_list.py",
     "varRefreshCmd": "print(var_dic_list())"
    },
    "r": {
     "delete_cmd_postfix": ") ",
     "delete_cmd_prefix": "rm(",
     "library": "var_list.r",
     "varRefreshCmd": "cat(var_dic_list()) "
    }
   },
   "types_to_exclude": [
    "module",
    "function",
    "builtin_function_or_method",
    "instance",
    "_Feature"
   ],
   "window_display": false
  }
 },
 "nbformat": 4,
 "nbformat_minor": 1
}

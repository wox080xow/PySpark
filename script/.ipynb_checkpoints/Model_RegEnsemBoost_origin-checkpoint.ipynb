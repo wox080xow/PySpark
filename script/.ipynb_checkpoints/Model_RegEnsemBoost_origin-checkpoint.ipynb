{
 "cells": [
  {
   "cell_type": "markdown",
   "metadata": {
    "id": "tabW0EZahXx6"
   },
   "source": [
    "https://www.kaggle.com/onestar/kernel-xgboost-stacking\n",
    "https://www.kaggle.com/satishgunjal/ensemble-learning-bagging-boosting-stacking"
   ]
  },
  {
   "cell_type": "code",
   "execution_count": null,
   "metadata": {
    "executionInfo": {
     "elapsed": 2305,
     "status": "ok",
     "timestamp": 1609145128246,
     "user": {
      "displayName": "ShuoJung Yang",
      "photoUrl": "",
      "userId": "01913117258434371706"
     },
     "user_tz": -480
    },
    "id": "DMN5x0ShhXx_"
   },
   "outputs": [],
   "source": [
    "import os\n",
    "import pandas as pd\n",
    "import numpy as np\n",
    "import warnings\n",
    "\n",
    "from sklearn.model_selection import train_test_split\n",
    "from sklearn.pipeline import make_pipeline\n",
    "from sklearn.preprocessing import RobustScaler\n",
    "from sklearn.linear_model import LinearRegression, Lasso, ElasticNet\n",
    "from sklearn.kernel_ridge import KernelRidge\n",
    "\n",
    "from sklearn.ensemble import BaggingRegressor\n",
    "\n",
    "from sklearn.ensemble import GradientBoostingRegressor\n",
    "import xgboost as xgb\n",
    "import lightgbm as lgb\n",
    "from sklearn.ensemble import StackingRegressor\n",
    "\n",
    "from sklearn.model_selection import cross_val_score\n",
    "from sklearn.model_selection import cross_val_predict\n",
    "from sklearn.metrics import mean_squared_error\n",
    "\n",
    "# Global settings\n",
    "\n",
    "warnings.filterwarnings(\"ignore\") # To ignore warnings\n",
    "n_jobs = -1 # This parameter conrols the parallel processing. -1 means using all processors.\n",
    "random_state = 42 # This parameter controls the randomness of the data. Using some int value to get same results everytime this code is run."
   ]
  },
  {
   "cell_type": "markdown",
   "metadata": {
    "id": "ymcVQjYShXyA"
   },
   "source": [
    "# Load Data"
   ]
  },
  {
   "cell_type": "code",
   "execution_count": null,
   "metadata": {
    "id": "7y0qrQuEhXyA",
    "outputId": "8af0e779-8fc1-4c12-b6e0-1e9fd4cf98f9"
   },
   "outputs": [],
   "source": [
    "df = pd.read_csv('/Users/yunmo/Documents/iii/FinalReport/House/data/FinalMerge/HouseVar.csv')\n",
    "print(f'Shape of data= {df.shape}')"
   ]
  },
  {
   "cell_type": "code",
   "execution_count": null,
   "metadata": {
    "id": "qarNsJU5hXyB",
    "outputId": "61c54b90-62c2-4a9e-fabf-d9b978c0ee74"
   },
   "outputs": [
    {
     "data": {
      "text/plain": [
       "Index(['Unnamed: 0', 'Area', 'Address', 'St', '交易年月日', 'year', '交易標的', '交易筆棟數',\n",
       "       '建物型態', '建物現況格局.廳', '建物現況格局.房', '建物現況格局.衛', '建物現況格局.隔間', '有無管理組織',\n",
       "       '總價元', '總坪數', '單價元坪', '車位數', 'floor', 'EightCount', 'ParkCount',\n",
       "       'FuneralCount', 'GasCount', 'CrimeCount', 'PoliceCount', 'busCount',\n",
       "       'subwayCount', 'govCount', 'clinicCount', 'hospitalCount',\n",
       "       'pharmacyCount', 'fireareaCount', 'firewayCount', 'martCount',\n",
       "       'mallCount', 'cinemaCount', '土地面積', '總人口數', '男性人數', '女性人數', '人口密度',\n",
       "       '每戶人數', '每戶成年人數', '所得收入總計', '可支配所得', '消費支出', '儲蓄', '所得總額'],\n",
       "      dtype='object')"
      ]
     },
     "execution_count": 3,
     "metadata": {
      "tags": []
     },
     "output_type": "execute_result"
    }
   ],
   "source": [
    "df.columns"
   ]
  },
  {
   "cell_type": "code",
   "execution_count": null,
   "metadata": {
    "id": "ZbIppwDChXyC",
    "outputId": "472885be-43e2-4244-bf75-e29d6f5e6bea"
   },
   "outputs": [
    {
     "name": "stdout",
     "output_type": "stream",
     "text": [
      "<class 'pandas.core.frame.DataFrame'>\n",
      "RangeIndex: 133919 entries, 0 to 133918\n",
      "Data columns (total 48 columns):\n",
      " #   Column         Non-Null Count   Dtype  \n",
      "---  ------         --------------   -----  \n",
      " 0   Unnamed: 0     133919 non-null  int64  \n",
      " 1   Area           133919 non-null  object \n",
      " 2   Address        133919 non-null  object \n",
      " 3   St             133919 non-null  object \n",
      " 4   交易年月日          133919 non-null  int64  \n",
      " 5   year           133919 non-null  int64  \n",
      " 6   交易標的           133919 non-null  object \n",
      " 7   交易筆棟數          133919 non-null  object \n",
      " 8   建物型態           133919 non-null  object \n",
      " 9   建物現況格局.廳       133919 non-null  int64  \n",
      " 10  建物現況格局.房       133919 non-null  int64  \n",
      " 11  建物現況格局.衛       133919 non-null  int64  \n",
      " 12  建物現況格局.隔間      133919 non-null  object \n",
      " 13  有無管理組織         133919 non-null  object \n",
      " 14  總價元            133919 non-null  float64\n",
      " 15  總坪數            133919 non-null  float64\n",
      " 16  單價元坪           133919 non-null  float64\n",
      " 17  車位數            133919 non-null  int64  \n",
      " 18  floor          133919 non-null  int64  \n",
      " 19  EightCount     133919 non-null  int64  \n",
      " 20  ParkCount      133919 non-null  int64  \n",
      " 21  FuneralCount   133919 non-null  int64  \n",
      " 22  GasCount       133919 non-null  int64  \n",
      " 23  CrimeCount     133919 non-null  int64  \n",
      " 24  PoliceCount    133919 non-null  int64  \n",
      " 25  busCount       133919 non-null  int64  \n",
      " 26  subwayCount    133919 non-null  int64  \n",
      " 27  govCount       133919 non-null  int64  \n",
      " 28  clinicCount    133919 non-null  int64  \n",
      " 29  hospitalCount  133919 non-null  int64  \n",
      " 30  pharmacyCount  133919 non-null  int64  \n",
      " 31  fireareaCount  133919 non-null  int64  \n",
      " 32  firewayCount   133919 non-null  int64  \n",
      " 33  martCount      133919 non-null  int64  \n",
      " 34  mallCount      133919 non-null  int64  \n",
      " 35  cinemaCount    133919 non-null  int64  \n",
      " 36  土地面積           133919 non-null  float64\n",
      " 37  總人口數           133919 non-null  int64  \n",
      " 38  男性人數           133919 non-null  int64  \n",
      " 39  女性人數           133919 non-null  int64  \n",
      " 40  人口密度           133919 non-null  int64  \n",
      " 41  每戶人數           133919 non-null  float64\n",
      " 42  每戶成年人數         133919 non-null  float64\n",
      " 43  所得收入總計         133919 non-null  int64  \n",
      " 44  可支配所得          133919 non-null  int64  \n",
      " 45  消費支出           133919 non-null  int64  \n",
      " 46  儲蓄             133919 non-null  int64  \n",
      " 47  所得總額           133919 non-null  int64  \n",
      "dtypes: float64(6), int64(34), object(8)\n",
      "memory usage: 49.0+ MB\n"
     ]
    }
   ],
   "source": [
    "df.info()"
   ]
  },
  {
   "cell_type": "code",
   "execution_count": null,
   "metadata": {
    "id": "_HP6X1iBhXyC",
    "outputId": "4e5c5cdc-3524-4482-a370-9572d4cb7c44"
   },
   "outputs": [],
   "source": [
    "pd.set_option('display.max_columns', 100) \n",
    "dfDrop = df.drop([\"Unnamed: 0\", \"EightCount\", \"FuneralCount\", \"PoliceCount\",\n",
    "                  \"總坪數\", \"總價元\",\"建物現況格局.隔間\", \"有無管理組織\",\n",
    "                  \"交易筆棟數\", \"交易標的\",\"交易年月日\",\n",
    "                  \"subwayCount\", \"busCount\", \"CrimeCount\",\n",
    "                  \"clinicCount\", \"pharmacyCount\", \"fireareaCount\",\n",
    "                  \"mallCount\", \"cinemaCount\", \"總人口數\",\n",
    "                  \"男性人數\", \"女性人數\", \"土地面積\",\n",
    "                  \"每戶成年人數\",\n",
    "                  \"所得收入總計\", \"可支配所得\", \"消費支出\",\n",
    "                  \"人口密度\", \"儲蓄\"], axis=1)\n",
    "# dfDrop.head()\n",
    "\n",
    "dfDrop2 = df.drop([\"Unnamed: 0\", \"Area\",\"Address\",\"St\",\"year\",\"建物型態\",\n",
    "                   \"EightCount\", \"FuneralCount\", \"PoliceCount\",\n",
    "                  \"總坪數\", \"總價元\",\"建物現況格局.隔間\", \"有無管理組織\",\n",
    "                  \"交易筆棟數\", \"交易標的\",\"交易年月日\",\n",
    "                  \"subwayCount\", \"busCount\", \"CrimeCount\",\n",
    "                  \"clinicCount\", \"pharmacyCount\", \"fireareaCount\",\n",
    "                  \"mallCount\", \"cinemaCount\", \"總人口數\",\n",
    "                  \"男性人數\", \"女性人數\", \"土地面積\",\n",
    "                  \"每戶成年人數\",\n",
    "                  \"所得收入總計\", \"可支配所得\", \"消費支出\",\n",
    "                  \"人口密度\", \"儲蓄\"], axis=1)\n",
    "dfDrop2\n",
    "\n",
    "# HouseCon <- HouseRe[c(\"建物現況格局.廳\", \"建物現況格局.房\", \"建物現況格局.衛\",\n",
    "#                        \"車位數\", \"floor\", \"ParkCount\", \"GasCount\",\n",
    "#                        \"govCount\", \"hospitalCount\", \"martCount\",\n",
    "#                        \"firewayCount\", \"每戶人數\", \"所得總額\", \"單價元坪\",\n",
    "#          delect variables below\n",
    "#                     \"EightCount\",\"FuneralCount\",\"PoliceCount\",\n",
    "#                     \"總坪數\",\"總價元\",\n",
    "#                     \"subwayCount\",\"busCount\", \"CrimeCount\",\n",
    "#                     \"clinicCount\",\"pharmacyCount\",\"fireareaCount\",\n",
    "#                     \"mallCount\",\"cinemaCount\",\"總人口數\",\n",
    "#                     \"男性人數\",\"女性人數\",\"男女比\",\"土地面積\",\n",
    "#                     \"每戶成年人數\",\n",
    "#                     \"所得收入總計\",\"可支配所得\",\"消費支出\",\n",
    "#                     \"人口密度\",\"儲蓄\")]"
   ]
  },
  {
   "cell_type": "code",
   "execution_count": null,
   "metadata": {
    "id": "IwMLJdYHhXyD"
   },
   "outputs": [],
   "source": [
    "from dfply import *"
   ]
  },
  {
   "cell_type": "code",
   "execution_count": null,
   "metadata": {
    "id": "Hgd46ENxhXyD",
    "outputId": "fa749549-85a9-4340-8bf8-58af79f8fb8b"
   },
   "outputs": [
    {
     "data": {
      "text/html": [
       "<div>\n",
       "<style scoped>\n",
       "    .dataframe tbody tr th:only-of-type {\n",
       "        vertical-align: middle;\n",
       "    }\n",
       "\n",
       "    .dataframe tbody tr th {\n",
       "        vertical-align: top;\n",
       "    }\n",
       "\n",
       "    .dataframe thead th {\n",
       "        text-align: right;\n",
       "    }\n",
       "</style>\n",
       "<table border=\"1\" class=\"dataframe\">\n",
       "  <thead>\n",
       "    <tr style=\"text-align: right;\">\n",
       "      <th></th>\n",
       "      <th>建物現況格局.廳</th>\n",
       "      <th>建物現況格局.房</th>\n",
       "      <th>建物現況格局.衛</th>\n",
       "      <th>車位數</th>\n",
       "      <th>floor</th>\n",
       "      <th>ParkCount</th>\n",
       "      <th>GasCount</th>\n",
       "      <th>govCount</th>\n",
       "      <th>hospitalCount</th>\n",
       "      <th>firewayCount</th>\n",
       "      <th>martCount</th>\n",
       "      <th>每戶人數</th>\n",
       "      <th>所得總額</th>\n",
       "    </tr>\n",
       "  </thead>\n",
       "  <tbody>\n",
       "    <tr>\n",
       "      <th>0</th>\n",
       "      <td>0</td>\n",
       "      <td>2</td>\n",
       "      <td>0</td>\n",
       "      <td>1</td>\n",
       "      <td>12</td>\n",
       "      <td>8</td>\n",
       "      <td>7</td>\n",
       "      <td>33</td>\n",
       "      <td>4</td>\n",
       "      <td>18</td>\n",
       "      <td>11</td>\n",
       "      <td>2.89</td>\n",
       "      <td>1720988</td>\n",
       "    </tr>\n",
       "    <tr>\n",
       "      <th>1</th>\n",
       "      <td>1</td>\n",
       "      <td>1</td>\n",
       "      <td>1</td>\n",
       "      <td>0</td>\n",
       "      <td>14</td>\n",
       "      <td>8</td>\n",
       "      <td>7</td>\n",
       "      <td>33</td>\n",
       "      <td>4</td>\n",
       "      <td>18</td>\n",
       "      <td>11</td>\n",
       "      <td>2.89</td>\n",
       "      <td>1720988</td>\n",
       "    </tr>\n",
       "    <tr>\n",
       "      <th>2</th>\n",
       "      <td>1</td>\n",
       "      <td>1</td>\n",
       "      <td>1</td>\n",
       "      <td>0</td>\n",
       "      <td>12</td>\n",
       "      <td>8</td>\n",
       "      <td>7</td>\n",
       "      <td>33</td>\n",
       "      <td>4</td>\n",
       "      <td>18</td>\n",
       "      <td>11</td>\n",
       "      <td>2.89</td>\n",
       "      <td>1720988</td>\n",
       "    </tr>\n",
       "    <tr>\n",
       "      <th>3</th>\n",
       "      <td>1</td>\n",
       "      <td>1</td>\n",
       "      <td>1</td>\n",
       "      <td>1</td>\n",
       "      <td>7</td>\n",
       "      <td>8</td>\n",
       "      <td>7</td>\n",
       "      <td>33</td>\n",
       "      <td>4</td>\n",
       "      <td>18</td>\n",
       "      <td>11</td>\n",
       "      <td>2.89</td>\n",
       "      <td>1720988</td>\n",
       "    </tr>\n",
       "    <tr>\n",
       "      <th>4</th>\n",
       "      <td>1</td>\n",
       "      <td>2</td>\n",
       "      <td>1</td>\n",
       "      <td>1</td>\n",
       "      <td>14</td>\n",
       "      <td>8</td>\n",
       "      <td>7</td>\n",
       "      <td>33</td>\n",
       "      <td>4</td>\n",
       "      <td>18</td>\n",
       "      <td>11</td>\n",
       "      <td>2.89</td>\n",
       "      <td>1720988</td>\n",
       "    </tr>\n",
       "  </tbody>\n",
       "</table>\n",
       "</div>"
      ],
      "text/plain": [
       "   建物現況格局.廳  建物現況格局.房  建物現況格局.衛  車位數  floor  ParkCount  GasCount  govCount  \\\n",
       "0         0         2         0    1     12          8         7        33   \n",
       "1         1         1         1    0     14          8         7        33   \n",
       "2         1         1         1    0     12          8         7        33   \n",
       "3         1         1         1    1      7          8         7        33   \n",
       "4         1         2         1    1     14          8         7        33   \n",
       "\n",
       "   hospitalCount  firewayCount  martCount  每戶人數     所得總額  \n",
       "0              4            18         11  2.89  1720988  \n",
       "1              4            18         11  2.89  1720988  \n",
       "2              4            18         11  2.89  1720988  \n",
       "3              4            18         11  2.89  1720988  \n",
       "4              4            18         11  2.89  1720988  "
      ]
     },
     "execution_count": 8,
     "metadata": {
      "tags": []
     },
     "output_type": "execute_result"
    }
   ],
   "source": [
    "yDf = dfDrop2 >> select(X.單價元坪)\n",
    "xDf = dfDrop2.drop(['單價元坪'], axis = 1)\n",
    "xDf.head()"
   ]
  },
  {
   "cell_type": "markdown",
   "metadata": {
    "id": "flpmUFbuhXyD"
   },
   "source": [
    "# Train and Test Data"
   ]
  },
  {
   "cell_type": "code",
   "execution_count": null,
   "metadata": {
    "id": "cxKbIdbahXyD",
    "outputId": "c957c282-be25-47ac-95b1-1ca910f456f6"
   },
   "outputs": [
    {
     "name": "stdout",
     "output_type": "stream",
     "text": [
      "Training set: X_train shape= (107135, 13), y_train shape= (107135, 1)\n",
      "Holdout set: X_test shape= (26784, 13), y_test shape= (26784, 1)\n"
     ]
    }
   ],
   "source": [
    "X_train, X_test, y_train, y_test = train_test_split(xDf, yDf, test_size= 0.2, random_state = random_state)\n",
    "\n",
    "print(f'Training set: X_train shape= {X_train.shape}, y_train shape= {y_train.shape}')\n",
    "print(f'Holdout set: X_test shape= {X_test.shape}, y_test shape= {y_test.shape}')"
   ]
  },
  {
   "cell_type": "markdown",
   "metadata": {
    "id": "1mfyUUHihXyE"
   },
   "source": [
    "# Regression Model"
   ]
  },
  {
   "cell_type": "code",
   "execution_count": null,
   "metadata": {
    "id": "NwDg9lMjhXyE"
   },
   "outputs": [],
   "source": [
    "models_scores = [] # To store model scores\n",
    "\n",
    "def rmse(model):\n",
    "    model.fit(X_train, y_train)\n",
    "    y_pred = model.predict(X_test)\n",
    "    \n",
    "    return mean_squared_error(y_test, y_pred, squared= False) # squared= False > returns Root Mean Square Error    "
   ]
  },
  {
   "cell_type": "markdown",
   "metadata": {
    "id": "VADwIoebhXyE"
   },
   "source": [
    "## Linear Regression"
   ]
  },
  {
   "cell_type": "code",
   "execution_count": null,
   "metadata": {
    "id": "JJJQ__v3hXyF",
    "outputId": "e9dd71be-d837-47b5-f7bc-3edd14903f70"
   },
   "outputs": [
    {
     "name": "stdout",
     "output_type": "stream",
     "text": [
      "LinearRegression Score= 281363.07323917025\n"
     ]
    }
   ],
   "source": [
    "linear_regression = make_pipeline(LinearRegression())\n",
    "score = rmse(linear_regression)\n",
    "\n",
    "models_scores.append(['LinearRegression', score])\n",
    "print(f'LinearRegression Score= {score}')"
   ]
  },
  {
   "cell_type": "markdown",
   "metadata": {
    "id": "AIKCt-7AhXyF"
   },
   "source": [
    "## Lasso Regression"
   ]
  },
  {
   "cell_type": "code",
   "execution_count": null,
   "metadata": {
    "id": "kYYNO8KqhXyF",
    "outputId": "0d37ff81-c441-4f6c-f472-cbc6222d75bb"
   },
   "outputs": [
    {
     "name": "stdout",
     "output_type": "stream",
     "text": [
      "Lasso Score= 281363.0732988141\n"
     ]
    }
   ],
   "source": [
    "lasso = make_pipeline(RobustScaler(), Lasso(alpha=0.0005, random_state= random_state))\n",
    "\n",
    "score = rmse(lasso)\n",
    "models_scores.append(['Lasso', score])\n",
    "print(f'Lasso Score= {score}')"
   ]
  },
  {
   "cell_type": "markdown",
   "metadata": {
    "id": "cisYd20thXyF"
   },
   "source": [
    "## ElasticNet Regression"
   ]
  },
  {
   "cell_type": "code",
   "execution_count": null,
   "metadata": {
    "id": "NxhiiDWFhXyG",
    "outputId": "1278e122-13d6-4133-c032-916a763e24cc"
   },
   "outputs": [
    {
     "name": "stdout",
     "output_type": "stream",
     "text": [
      "ElasticNet Score= 281363.37428007607\n"
     ]
    }
   ],
   "source": [
    "elastic_net = make_pipeline(RobustScaler(), ElasticNet(alpha=0.0005, l1_ratio= .9, random_state= random_state))\n",
    "\n",
    "score = rmse(elastic_net)\n",
    "models_scores.append(['ElasticNet', score])\n",
    "print(f'ElasticNet Score= {score}')"
   ]
  },
  {
   "cell_type": "markdown",
   "metadata": {
    "id": "iftC5FV3hXyG"
   },
   "source": [
    "## KernelRidge Regression"
   ]
  },
  {
   "cell_type": "code",
   "execution_count": null,
   "metadata": {
    "id": "DcJhcCdYhXyG"
   },
   "outputs": [],
   "source": [
    "# kernel_ridge= KernelRidge(alpha=0.6, kernel='polynomial', degree=2, coef0=2.5)\n",
    "# score = rmse(kernel_ridge)\n",
    "# models_scores.append(['KernelRidge', score])\n",
    "# print(f'KernelRidge Score= {score}')"
   ]
  },
  {
   "cell_type": "markdown",
   "metadata": {
    "id": "T9l84xu_hXyH"
   },
   "source": [
    "## Rank scores"
   ]
  },
  {
   "cell_type": "code",
   "execution_count": null,
   "metadata": {
    "id": "4AucNqXthXyH",
    "outputId": "03bd8991-0cd0-4ddc-d45c-db87668d2adf"
   },
   "outputs": [
    {
     "data": {
      "text/html": [
       "<div>\n",
       "<style scoped>\n",
       "    .dataframe tbody tr th:only-of-type {\n",
       "        vertical-align: middle;\n",
       "    }\n",
       "\n",
       "    .dataframe tbody tr th {\n",
       "        vertical-align: top;\n",
       "    }\n",
       "\n",
       "    .dataframe thead th {\n",
       "        text-align: right;\n",
       "    }\n",
       "</style>\n",
       "<table border=\"1\" class=\"dataframe\">\n",
       "  <thead>\n",
       "    <tr style=\"text-align: right;\">\n",
       "      <th></th>\n",
       "      <th>0</th>\n",
       "      <th>1</th>\n",
       "    </tr>\n",
       "  </thead>\n",
       "  <tbody>\n",
       "    <tr>\n",
       "      <th>0</th>\n",
       "      <td>LinearRegression</td>\n",
       "      <td>281363.073239</td>\n",
       "    </tr>\n",
       "    <tr>\n",
       "      <th>1</th>\n",
       "      <td>Lasso</td>\n",
       "      <td>281363.073299</td>\n",
       "    </tr>\n",
       "    <tr>\n",
       "      <th>2</th>\n",
       "      <td>ElasticNet</td>\n",
       "      <td>281363.374280</td>\n",
       "    </tr>\n",
       "  </tbody>\n",
       "</table>\n",
       "</div>"
      ],
      "text/plain": [
       "                  0              1\n",
       "0  LinearRegression  281363.073239\n",
       "1             Lasso  281363.073299\n",
       "2        ElasticNet  281363.374280"
      ]
     },
     "execution_count": 16,
     "metadata": {
      "tags": []
     },
     "output_type": "execute_result"
    }
   ],
   "source": [
    "pd.DataFrame(models_scores).sort_values(by=[1], ascending=True)"
   ]
  },
  {
   "cell_type": "markdown",
   "metadata": {
    "id": "SuXN38zYhXyH"
   },
   "source": [
    "# Ensemble Modeling "
   ]
  },
  {
   "cell_type": "code",
   "execution_count": null,
   "metadata": {
    "id": "JpdFCc4thXyH",
    "outputId": "5f732c41-3f45-4429-be31-aeb5885d5024"
   },
   "outputs": [
    {
     "name": "stdout",
     "output_type": "stream",
     "text": [
      "RMSE for base estimator Pipeline(steps=[('linearregression', LinearRegression())]) = 281352.83739983174\n",
      "\n",
      "RMSE for base estimator Pipeline(steps=[('robustscaler', RobustScaler()),\n",
      "                ('lasso', Lasso(alpha=0.0005, random_state=42))]) = 281352.83745369845\n",
      "\n",
      "RMSE for base estimator Pipeline(steps=[('robustscaler', RobustScaler()),\n",
      "                ('elasticnet',\n",
      "                 ElasticNet(alpha=0.0005, l1_ratio=0.9, random_state=42))]) = 281353.1213665054\n",
      "\n",
      "Bagged predictions shape: (26784, 3)\n",
      "Aggregated predictions (y_pred) shape (26784,)\n",
      "\n",
      "Bagging RMSE= 281352.9319347711\n"
     ]
    }
   ],
   "source": [
    "def bagging_predictions(estimator):\n",
    "    \"\"\"\n",
    "    I/P\n",
    "    estimator: The base estimator from which the ensemble is grown.\n",
    "    O/P\n",
    "    br_y_pred: Predictions on test data for the base estimator.\n",
    "    \n",
    "    \"\"\"\n",
    "    regr = BaggingRegressor(base_estimator=estimator,\n",
    "                            n_estimators=10,\n",
    "                            max_samples=1.0,\n",
    "                            bootstrap=True, # Samples are drawn with replacement\n",
    "                            n_jobs= n_jobs,\n",
    "                            random_state=random_state).fit(X_train, y_train)\n",
    "\n",
    "    br_y_pred = regr.predict(X_test)\n",
    "\n",
    "    rmse_val = mean_squared_error(y_test, br_y_pred, squared= False) # squared= False > returns Root Mean Square Error   \n",
    "\n",
    "    print(f'RMSE for base estimator {regr.base_estimator_} = {rmse_val}\\n')\n",
    "    return br_y_pred\n",
    "\n",
    "\n",
    "predictions = np.column_stack((bagging_predictions(linear_regression),\n",
    "                              bagging_predictions(lasso),\n",
    "                              bagging_predictions(elastic_net)))\n",
    "#                               bagging_predictions(kernel_ridge)))\n",
    "print(f\"Bagged predictions shape: {predictions.shape}\")\n",
    "       \n",
    "y_pred = np.mean(predictions, axis=1)\n",
    "print(\"Aggregated predictions (y_pred) shape\", y_pred.shape)\n",
    "\n",
    "rmse_val = mean_squared_error(y_test, y_pred, squared= False) # squared= False > returns Root Mean Square Error   \n",
    "models_scores.append(['Bagging', rmse_val])\n",
    "\n",
    "print(f'\\nBagging RMSE= {rmse_val}')"
   ]
  },
  {
   "cell_type": "markdown",
   "metadata": {
    "id": "eXLPnKsqhXyI"
   },
   "source": [
    "## Rank scores"
   ]
  },
  {
   "cell_type": "code",
   "execution_count": null,
   "metadata": {
    "id": "WaPDUeLHhXyJ",
    "outputId": "6fcc5aa1-0ccd-49c1-f018-16fe3bc0dc3d"
   },
   "outputs": [
    {
     "data": {
      "text/html": [
       "<div>\n",
       "<style scoped>\n",
       "    .dataframe tbody tr th:only-of-type {\n",
       "        vertical-align: middle;\n",
       "    }\n",
       "\n",
       "    .dataframe tbody tr th {\n",
       "        vertical-align: top;\n",
       "    }\n",
       "\n",
       "    .dataframe thead th {\n",
       "        text-align: right;\n",
       "    }\n",
       "</style>\n",
       "<table border=\"1\" class=\"dataframe\">\n",
       "  <thead>\n",
       "    <tr style=\"text-align: right;\">\n",
       "      <th></th>\n",
       "      <th>0</th>\n",
       "      <th>1</th>\n",
       "    </tr>\n",
       "  </thead>\n",
       "  <tbody>\n",
       "    <tr>\n",
       "      <th>3</th>\n",
       "      <td>Bagging</td>\n",
       "      <td>281352.931935</td>\n",
       "    </tr>\n",
       "    <tr>\n",
       "      <th>0</th>\n",
       "      <td>LinearRegression</td>\n",
       "      <td>281363.073239</td>\n",
       "    </tr>\n",
       "    <tr>\n",
       "      <th>1</th>\n",
       "      <td>Lasso</td>\n",
       "      <td>281363.073299</td>\n",
       "    </tr>\n",
       "    <tr>\n",
       "      <th>2</th>\n",
       "      <td>ElasticNet</td>\n",
       "      <td>281363.374280</td>\n",
       "    </tr>\n",
       "  </tbody>\n",
       "</table>\n",
       "</div>"
      ],
      "text/plain": [
       "                  0              1\n",
       "3           Bagging  281352.931935\n",
       "0  LinearRegression  281363.073239\n",
       "1             Lasso  281363.073299\n",
       "2        ElasticNet  281363.374280"
      ]
     },
     "execution_count": 19,
     "metadata": {
      "tags": []
     },
     "output_type": "execute_result"
    }
   ],
   "source": [
    "pd.DataFrame(models_scores).sort_values(by=[1], ascending=True)"
   ]
  },
  {
   "cell_type": "markdown",
   "metadata": {
    "id": "AihoSNJJhXyJ"
   },
   "source": [
    "# Boosting "
   ]
  },
  {
   "cell_type": "markdown",
   "metadata": {
    "id": "u0qQvf3ghXyJ"
   },
   "source": [
    "## GradientBoostingRegressor ¶"
   ]
  },
  {
   "cell_type": "code",
   "execution_count": null,
   "metadata": {
    "id": "F6NYRE3dhXyJ",
    "outputId": "7ee0199b-bf60-4d7c-ca0d-302aba5905b8"
   },
   "outputs": [
    {
     "name": "stdout",
     "output_type": "stream",
     "text": [
      "GradientBoostingRegressor Score= 251219.46664597013\n"
     ]
    }
   ],
   "source": [
    "gradient_boosting_regressor= GradientBoostingRegressor(n_estimators=3000, learning_rate=0.05,\n",
    "                                   max_depth=4, max_features='sqrt',\n",
    "                                   min_samples_leaf=15, min_samples_split=10, \n",
    "                                   loss='huber', random_state = random_state)\n",
    "\n",
    "score = rmse(gradient_boosting_regressor)\n",
    "models_scores.append(['GradientBoostingRegressor', score])\n",
    "print(f'GradientBoostingRegressor Score= {score}')"
   ]
  },
  {
   "cell_type": "markdown",
   "metadata": {
    "code_folding": [],
    "id": "z-JB_JAbhXyK"
   },
   "source": [
    "## XGBRegressor "
   ]
  },
  {
   "cell_type": "code",
   "execution_count": null,
   "metadata": {
    "id": "cWkRQBS0hXyK",
    "outputId": "d406f210-b4f5-404c-8345-dfeb187c6ff6"
   },
   "outputs": [
    {
     "name": "stdout",
     "output_type": "stream",
     "text": [
      "XGBRegressor Score= 276630.9192789049\n"
     ]
    }
   ],
   "source": [
    "xgb_regressor= xgb.XGBRegressor(colsample_bytree=0.4603, gamma=0.0468, \n",
    "                             learning_rate=0.05, max_depth=3, \n",
    "                             min_child_weight=1.7817, n_estimators=2200,\n",
    "                             reg_alpha=0.4640, reg_lambda=0.8571,\n",
    "                             subsample=0.5213,verbosity=0, nthread = -1, random_state = random_state)\n",
    "score = rmse(xgb_regressor)\n",
    "models_scores.append(['XGBRegressor', score])\n",
    "print(f'XGBRegressor Score= {score}')"
   ]
  },
  {
   "cell_type": "markdown",
   "metadata": {
    "id": "WmtN-F78hXyK"
   },
   "source": [
    "## LGBMRegressor "
   ]
  },
  {
   "cell_type": "code",
   "execution_count": null,
   "metadata": {
    "id": "3Z0OoX5MhXyK"
   },
   "outputs": [],
   "source": [
    "# lgbm_regressor= lgb.LGBMRegressor(objective='regression',num_leaves=5,\n",
    "#                               learning_rate=0.05, n_estimators=720,\n",
    "#                               max_bin = 55, bagging_fraction = 0.8,\n",
    "#                               bagging_freq = 5, feature_fraction = 0.2319,\n",
    "#                               feature_fraction_seed=9, bagging_seed=9,\n",
    "#                               min_data_in_leaf =6, min_sum_hessian_in_leaf = 11,random_state = random_state)\n",
    "\n",
    "# score = rmse(lgbm_regressor)\n",
    "# models_scores.append(['LGBMRegressor', score])\n",
    "# print(f'LGBMRegressor Score= {score}')"
   ]
  },
  {
   "cell_type": "markdown",
   "metadata": {
    "id": "vyUq3e0DhXyL"
   },
   "source": [
    "## Stacking"
   ]
  },
  {
   "cell_type": "code",
   "execution_count": null,
   "metadata": {
    "id": "n78D6ckShXyL",
    "outputId": "4ed8f1d9-2e72-452a-e881-42316eb8feec"
   },
   "outputs": [
    {
     "name": "stdout",
     "output_type": "stream",
     "text": [
      "rmse= 249921.54417812105\n"
     ]
    }
   ],
   "source": [
    "estimators = [ ('linear_regression', linear_regression), ('gradient_boosting_regressor', gradient_boosting_regressor),\n",
    "              ('xgb_regressor', xgb_regressor) ]\n",
    "\n",
    "stack = StackingRegressor(estimators=estimators, final_estimator= lasso, cv= 5, n_jobs= n_jobs, passthrough = True)\n",
    "\n",
    "stack.fit(X_train, y_train)\n",
    "\n",
    "pred = stack.predict(X_test)\n",
    "\n",
    "rmse_val = mean_squared_error(y_test, pred, squared= False) # squared= False > returns Root Mean Square Error    \n",
    "models_scores.append(['Stacking', rmse_val])\n",
    "print(f'rmse= {rmse_val}')"
   ]
  },
  {
   "cell_type": "markdown",
   "metadata": {
    "id": "0RvG9-7RhXyL"
   },
   "source": [
    "## Rank scores"
   ]
  },
  {
   "cell_type": "code",
   "execution_count": null,
   "metadata": {
    "id": "JksX-JhEhXyL",
    "outputId": "8255d835-a1ea-43bf-f371-dcfa9dd68400"
   },
   "outputs": [
    {
     "data": {
      "text/html": [
       "<div>\n",
       "<style scoped>\n",
       "    .dataframe tbody tr th:only-of-type {\n",
       "        vertical-align: middle;\n",
       "    }\n",
       "\n",
       "    .dataframe tbody tr th {\n",
       "        vertical-align: top;\n",
       "    }\n",
       "\n",
       "    .dataframe thead th {\n",
       "        text-align: right;\n",
       "    }\n",
       "</style>\n",
       "<table border=\"1\" class=\"dataframe\">\n",
       "  <thead>\n",
       "    <tr style=\"text-align: right;\">\n",
       "      <th></th>\n",
       "      <th>0</th>\n",
       "      <th>1</th>\n",
       "    </tr>\n",
       "  </thead>\n",
       "  <tbody>\n",
       "    <tr>\n",
       "      <th>6</th>\n",
       "      <td>Stacking</td>\n",
       "      <td>249921.544178</td>\n",
       "    </tr>\n",
       "    <tr>\n",
       "      <th>4</th>\n",
       "      <td>GradientBoostingRegressor</td>\n",
       "      <td>251219.466646</td>\n",
       "    </tr>\n",
       "    <tr>\n",
       "      <th>5</th>\n",
       "      <td>XGBRegressor</td>\n",
       "      <td>276630.919279</td>\n",
       "    </tr>\n",
       "    <tr>\n",
       "      <th>3</th>\n",
       "      <td>Bagging</td>\n",
       "      <td>281352.931935</td>\n",
       "    </tr>\n",
       "    <tr>\n",
       "      <th>0</th>\n",
       "      <td>LinearRegression</td>\n",
       "      <td>281363.073239</td>\n",
       "    </tr>\n",
       "    <tr>\n",
       "      <th>1</th>\n",
       "      <td>Lasso</td>\n",
       "      <td>281363.073299</td>\n",
       "    </tr>\n",
       "    <tr>\n",
       "      <th>2</th>\n",
       "      <td>ElasticNet</td>\n",
       "      <td>281363.374280</td>\n",
       "    </tr>\n",
       "  </tbody>\n",
       "</table>\n",
       "</div>"
      ],
      "text/plain": [
       "                           0              1\n",
       "6                   Stacking  249921.544178\n",
       "4  GradientBoostingRegressor  251219.466646\n",
       "5               XGBRegressor  276630.919279\n",
       "3                    Bagging  281352.931935\n",
       "0           LinearRegression  281363.073239\n",
       "1                      Lasso  281363.073299\n",
       "2                 ElasticNet  281363.374280"
      ]
     },
     "execution_count": 75,
     "metadata": {
      "tags": []
     },
     "output_type": "execute_result"
    }
   ],
   "source": [
    "# Ranking the scores of each model\n",
    "pd.DataFrame(models_scores).sort_values(by=[1], ascending=True)                                                                         "
   ]
  },
  {
   "cell_type": "markdown",
   "metadata": {
    "id": "n3gJhMvahXyL"
   },
   "source": [
    "# Predict"
   ]
  },
  {
   "cell_type": "code",
   "execution_count": null,
   "metadata": {
    "id": "v4xut24vhXyM"
   },
   "outputs": [],
   "source": [
    "yPred = stack.predict(xDf)"
   ]
  },
  {
   "cell_type": "code",
   "execution_count": null,
   "metadata": {
    "id": "xkppsRcAhXyM",
    "outputId": "333fc9e6-28a8-4dfe-bb97-2e08bb124d6b"
   },
   "outputs": [
    {
     "data": {
      "text/html": [
       "<div>\n",
       "<style scoped>\n",
       "    .dataframe tbody tr th:only-of-type {\n",
       "        vertical-align: middle;\n",
       "    }\n",
       "\n",
       "    .dataframe tbody tr th {\n",
       "        vertical-align: top;\n",
       "    }\n",
       "\n",
       "    .dataframe thead th {\n",
       "        text-align: right;\n",
       "    }\n",
       "</style>\n",
       "<table border=\"1\" class=\"dataframe\">\n",
       "  <thead>\n",
       "    <tr style=\"text-align: right;\">\n",
       "      <th></th>\n",
       "      <th>pred</th>\n",
       "    </tr>\n",
       "  </thead>\n",
       "  <tbody>\n",
       "    <tr>\n",
       "      <th>0</th>\n",
       "      <td>606928.923866</td>\n",
       "    </tr>\n",
       "    <tr>\n",
       "      <th>1</th>\n",
       "      <td>677952.719661</td>\n",
       "    </tr>\n",
       "    <tr>\n",
       "      <th>2</th>\n",
       "      <td>573015.155225</td>\n",
       "    </tr>\n",
       "    <tr>\n",
       "      <th>3</th>\n",
       "      <td>693421.654176</td>\n",
       "    </tr>\n",
       "    <tr>\n",
       "      <th>4</th>\n",
       "      <td>696761.438366</td>\n",
       "    </tr>\n",
       "    <tr>\n",
       "      <th>...</th>\n",
       "      <td>...</td>\n",
       "    </tr>\n",
       "    <tr>\n",
       "      <th>133914</th>\n",
       "      <td>519208.019055</td>\n",
       "    </tr>\n",
       "    <tr>\n",
       "      <th>133915</th>\n",
       "      <td>412855.711812</td>\n",
       "    </tr>\n",
       "    <tr>\n",
       "      <th>133916</th>\n",
       "      <td>466227.598744</td>\n",
       "    </tr>\n",
       "    <tr>\n",
       "      <th>133917</th>\n",
       "      <td>470705.747619</td>\n",
       "    </tr>\n",
       "    <tr>\n",
       "      <th>133918</th>\n",
       "      <td>505299.770010</td>\n",
       "    </tr>\n",
       "  </tbody>\n",
       "</table>\n",
       "<p>133919 rows × 1 columns</p>\n",
       "</div>"
      ],
      "text/plain": [
       "                 pred\n",
       "0       606928.923866\n",
       "1       677952.719661\n",
       "2       573015.155225\n",
       "3       693421.654176\n",
       "4       696761.438366\n",
       "...               ...\n",
       "133914  519208.019055\n",
       "133915  412855.711812\n",
       "133916  466227.598744\n",
       "133917  470705.747619\n",
       "133918  505299.770010\n",
       "\n",
       "[133919 rows x 1 columns]"
      ]
     },
     "execution_count": 34,
     "metadata": {
      "tags": []
     },
     "output_type": "execute_result"
    }
   ],
   "source": [
    "StackPred = pd.DataFrame(yPred, columns = ['pred'])\n",
    "StackPred"
   ]
  },
  {
   "cell_type": "code",
   "execution_count": null,
   "metadata": {
    "id": "A5YoiESKhXyM",
    "outputId": "28577c3a-077e-4350-f1a3-8fa98cad9395"
   },
   "outputs": [
    {
     "data": {
      "text/html": [
       "<div>\n",
       "<style scoped>\n",
       "    .dataframe tbody tr th:only-of-type {\n",
       "        vertical-align: middle;\n",
       "    }\n",
       "\n",
       "    .dataframe tbody tr th {\n",
       "        vertical-align: top;\n",
       "    }\n",
       "\n",
       "    .dataframe thead th {\n",
       "        text-align: right;\n",
       "    }\n",
       "</style>\n",
       "<table border=\"1\" class=\"dataframe\">\n",
       "  <thead>\n",
       "    <tr style=\"text-align: right;\">\n",
       "      <th></th>\n",
       "      <th>Area</th>\n",
       "      <th>Address</th>\n",
       "      <th>St</th>\n",
       "      <th>交易年月日</th>\n",
       "      <th>year</th>\n",
       "      <th>交易標的</th>\n",
       "      <th>交易筆棟數</th>\n",
       "      <th>建物型態</th>\n",
       "      <th>建物現況格局.廳</th>\n",
       "      <th>建物現況格局.房</th>\n",
       "      <th>建物現況格局.衛</th>\n",
       "      <th>建物現況格局.隔間</th>\n",
       "      <th>有無管理組織</th>\n",
       "      <th>總價元</th>\n",
       "      <th>總坪數</th>\n",
       "      <th>單價元坪</th>\n",
       "      <th>車位數</th>\n",
       "      <th>floor</th>\n",
       "      <th>EightCount</th>\n",
       "      <th>ParkCount</th>\n",
       "      <th>FuneralCount</th>\n",
       "      <th>GasCount</th>\n",
       "      <th>CrimeCount</th>\n",
       "      <th>PoliceCount</th>\n",
       "      <th>busCount</th>\n",
       "      <th>subwayCount</th>\n",
       "      <th>govCount</th>\n",
       "      <th>clinicCount</th>\n",
       "      <th>hospitalCount</th>\n",
       "      <th>pharmacyCount</th>\n",
       "      <th>fireareaCount</th>\n",
       "      <th>firewayCount</th>\n",
       "      <th>martCount</th>\n",
       "      <th>mallCount</th>\n",
       "      <th>cinemaCount</th>\n",
       "      <th>土地面積</th>\n",
       "      <th>總人口數</th>\n",
       "      <th>男性人數</th>\n",
       "      <th>女性人數</th>\n",
       "      <th>人口密度</th>\n",
       "      <th>每戶人數</th>\n",
       "      <th>每戶成年人數</th>\n",
       "      <th>所得收入總計</th>\n",
       "      <th>可支配所得</th>\n",
       "      <th>消費支出</th>\n",
       "      <th>儲蓄</th>\n",
       "      <th>所得總額</th>\n",
       "      <th>pred</th>\n",
       "    </tr>\n",
       "  </thead>\n",
       "  <tbody>\n",
       "    <tr>\n",
       "      <th>0</th>\n",
       "      <td>中山區</td>\n",
       "      <td>臺北市中山區建國北路二段61~90號</td>\n",
       "      <td>建國北路</td>\n",
       "      <td>1030430</td>\n",
       "      <td>2014</td>\n",
       "      <td>房地(土地+建物)+車位</td>\n",
       "      <td>土地2建物1車位1</td>\n",
       "      <td>辦公商業大樓</td>\n",
       "      <td>0</td>\n",
       "      <td>2</td>\n",
       "      <td>0</td>\n",
       "      <td>有</td>\n",
       "      <td>有</td>\n",
       "      <td>31500000.0</td>\n",
       "      <td>43.015500</td>\n",
       "      <td>732295.253165</td>\n",
       "      <td>1</td>\n",
       "      <td>12</td>\n",
       "      <td>77</td>\n",
       "      <td>8</td>\n",
       "      <td>132</td>\n",
       "      <td>7</td>\n",
       "      <td>904</td>\n",
       "      <td>13</td>\n",
       "      <td>280</td>\n",
       "      <td>8</td>\n",
       "      <td>33</td>\n",
       "      <td>486</td>\n",
       "      <td>4</td>\n",
       "      <td>98</td>\n",
       "      <td>80</td>\n",
       "      <td>18</td>\n",
       "      <td>11</td>\n",
       "      <td>6</td>\n",
       "      <td>5</td>\n",
       "      <td>13.6821</td>\n",
       "      <td>224707</td>\n",
       "      <td>104138</td>\n",
       "      <td>120569</td>\n",
       "      <td>16423</td>\n",
       "      <td>2.89</td>\n",
       "      <td>2.51</td>\n",
       "      <td>1614178</td>\n",
       "      <td>1339702</td>\n",
       "      <td>1071429</td>\n",
       "      <td>268273</td>\n",
       "      <td>1720988</td>\n",
       "      <td>606928.923866</td>\n",
       "    </tr>\n",
       "    <tr>\n",
       "      <th>1</th>\n",
       "      <td>中山區</td>\n",
       "      <td>臺北市中山區林森北路301~330號</td>\n",
       "      <td>林森北路</td>\n",
       "      <td>1030702</td>\n",
       "      <td>2014</td>\n",
       "      <td>房地(土地+建物)</td>\n",
       "      <td>土地1建物1車位0</td>\n",
       "      <td>套房</td>\n",
       "      <td>1</td>\n",
       "      <td>1</td>\n",
       "      <td>1</td>\n",
       "      <td>有</td>\n",
       "      <td>有</td>\n",
       "      <td>8500000.0</td>\n",
       "      <td>13.331175</td>\n",
       "      <td>637604.152485</td>\n",
       "      <td>0</td>\n",
       "      <td>14</td>\n",
       "      <td>77</td>\n",
       "      <td>8</td>\n",
       "      <td>132</td>\n",
       "      <td>7</td>\n",
       "      <td>904</td>\n",
       "      <td>13</td>\n",
       "      <td>280</td>\n",
       "      <td>8</td>\n",
       "      <td>33</td>\n",
       "      <td>486</td>\n",
       "      <td>4</td>\n",
       "      <td>98</td>\n",
       "      <td>80</td>\n",
       "      <td>18</td>\n",
       "      <td>11</td>\n",
       "      <td>6</td>\n",
       "      <td>5</td>\n",
       "      <td>13.6821</td>\n",
       "      <td>224707</td>\n",
       "      <td>104138</td>\n",
       "      <td>120569</td>\n",
       "      <td>16423</td>\n",
       "      <td>2.89</td>\n",
       "      <td>2.51</td>\n",
       "      <td>1614178</td>\n",
       "      <td>1339702</td>\n",
       "      <td>1071429</td>\n",
       "      <td>268273</td>\n",
       "      <td>1720988</td>\n",
       "      <td>677952.719661</td>\n",
       "    </tr>\n",
       "  </tbody>\n",
       "</table>\n",
       "</div>"
      ],
      "text/plain": [
       "  Area             Address    St    交易年月日  year          交易標的      交易筆棟數  \\\n",
       "0  中山區  臺北市中山區建國北路二段61~90號  建國北路  1030430  2014  房地(土地+建物)+車位  土地2建物1車位1   \n",
       "1  中山區  臺北市中山區林森北路301~330號  林森北路  1030702  2014     房地(土地+建物)  土地1建物1車位0   \n",
       "\n",
       "     建物型態  建物現況格局.廳  建物現況格局.房  建物現況格局.衛 建物現況格局.隔間 有無管理組織         總價元  \\\n",
       "0  辦公商業大樓         0         2         0         有      有  31500000.0   \n",
       "1      套房         1         1         1         有      有   8500000.0   \n",
       "\n",
       "         總坪數           單價元坪  車位數  floor  EightCount  ParkCount  FuneralCount  \\\n",
       "0  43.015500  732295.253165    1     12          77          8           132   \n",
       "1  13.331175  637604.152485    0     14          77          8           132   \n",
       "\n",
       "   GasCount  CrimeCount  PoliceCount  busCount  subwayCount  govCount  \\\n",
       "0         7         904           13       280            8        33   \n",
       "1         7         904           13       280            8        33   \n",
       "\n",
       "   clinicCount  hospitalCount  pharmacyCount  fireareaCount  firewayCount  \\\n",
       "0          486              4             98             80            18   \n",
       "1          486              4             98             80            18   \n",
       "\n",
       "   martCount  mallCount  cinemaCount     土地面積    總人口數    男性人數    女性人數   人口密度  \\\n",
       "0         11          6            5  13.6821  224707  104138  120569  16423   \n",
       "1         11          6            5  13.6821  224707  104138  120569  16423   \n",
       "\n",
       "   每戶人數  每戶成年人數   所得收入總計    可支配所得     消費支出      儲蓄     所得總額           pred  \n",
       "0  2.89    2.51  1614178  1339702  1071429  268273  1720988  606928.923866  \n",
       "1  2.89    2.51  1614178  1339702  1071429  268273  1720988  677952.719661  "
      ]
     },
     "execution_count": 39,
     "metadata": {
      "tags": []
     },
     "output_type": "execute_result"
    }
   ],
   "source": [
    "result = pd.concat([df, StackPred], axis=1).drop([\"Unnamed: 0\"], axis=1)\n",
    "result.head(2)"
   ]
  },
  {
   "cell_type": "code",
   "execution_count": null,
   "metadata": {
    "id": "fMFQge4OhXyM"
   },
   "outputs": [],
   "source": [
    "result[\"漲跌\"] = round(result[\"單價元坪\"]-result[\"pred\"], 2)"
   ]
  },
  {
   "cell_type": "code",
   "execution_count": null,
   "metadata": {
    "id": "L8-zOTKphXyM",
    "outputId": "9a6db4fb-231e-466d-fbc7-6becbd9dc6ff"
   },
   "outputs": [
    {
     "data": {
      "text/html": [
       "<div>\n",
       "<style scoped>\n",
       "    .dataframe tbody tr th:only-of-type {\n",
       "        vertical-align: middle;\n",
       "    }\n",
       "\n",
       "    .dataframe tbody tr th {\n",
       "        vertical-align: top;\n",
       "    }\n",
       "\n",
       "    .dataframe thead th {\n",
       "        text-align: right;\n",
       "    }\n",
       "</style>\n",
       "<table border=\"1\" class=\"dataframe\">\n",
       "  <thead>\n",
       "    <tr style=\"text-align: right;\">\n",
       "      <th></th>\n",
       "      <th>Area</th>\n",
       "      <th>Address</th>\n",
       "      <th>St</th>\n",
       "      <th>交易年月日</th>\n",
       "      <th>year</th>\n",
       "      <th>交易標的</th>\n",
       "      <th>交易筆棟數</th>\n",
       "      <th>建物型態</th>\n",
       "      <th>建物現況格局.廳</th>\n",
       "      <th>建物現況格局.房</th>\n",
       "      <th>建物現況格局.衛</th>\n",
       "      <th>建物現況格局.隔間</th>\n",
       "      <th>有無管理組織</th>\n",
       "      <th>總價元</th>\n",
       "      <th>總坪數</th>\n",
       "      <th>單價元坪</th>\n",
       "      <th>車位數</th>\n",
       "      <th>floor</th>\n",
       "      <th>EightCount</th>\n",
       "      <th>ParkCount</th>\n",
       "      <th>FuneralCount</th>\n",
       "      <th>GasCount</th>\n",
       "      <th>CrimeCount</th>\n",
       "      <th>PoliceCount</th>\n",
       "      <th>busCount</th>\n",
       "      <th>subwayCount</th>\n",
       "      <th>govCount</th>\n",
       "      <th>clinicCount</th>\n",
       "      <th>hospitalCount</th>\n",
       "      <th>pharmacyCount</th>\n",
       "      <th>fireareaCount</th>\n",
       "      <th>firewayCount</th>\n",
       "      <th>martCount</th>\n",
       "      <th>mallCount</th>\n",
       "      <th>cinemaCount</th>\n",
       "      <th>土地面積</th>\n",
       "      <th>總人口數</th>\n",
       "      <th>男性人數</th>\n",
       "      <th>女性人數</th>\n",
       "      <th>人口密度</th>\n",
       "      <th>每戶人數</th>\n",
       "      <th>每戶成年人數</th>\n",
       "      <th>所得收入總計</th>\n",
       "      <th>可支配所得</th>\n",
       "      <th>消費支出</th>\n",
       "      <th>儲蓄</th>\n",
       "      <th>所得總額</th>\n",
       "      <th>pred</th>\n",
       "      <th>漲跌</th>\n",
       "    </tr>\n",
       "  </thead>\n",
       "  <tbody>\n",
       "    <tr>\n",
       "      <th>0</th>\n",
       "      <td>中山區</td>\n",
       "      <td>臺北市中山區建國北路二段61~90號</td>\n",
       "      <td>建國北路</td>\n",
       "      <td>1030430</td>\n",
       "      <td>2014</td>\n",
       "      <td>房地(土地+建物)+車位</td>\n",
       "      <td>土地2建物1車位1</td>\n",
       "      <td>辦公商業大樓</td>\n",
       "      <td>0</td>\n",
       "      <td>2</td>\n",
       "      <td>0</td>\n",
       "      <td>有</td>\n",
       "      <td>有</td>\n",
       "      <td>31500000.0</td>\n",
       "      <td>43.015500</td>\n",
       "      <td>732295.253165</td>\n",
       "      <td>1</td>\n",
       "      <td>12</td>\n",
       "      <td>77</td>\n",
       "      <td>8</td>\n",
       "      <td>132</td>\n",
       "      <td>7</td>\n",
       "      <td>904</td>\n",
       "      <td>13</td>\n",
       "      <td>280</td>\n",
       "      <td>8</td>\n",
       "      <td>33</td>\n",
       "      <td>486</td>\n",
       "      <td>4</td>\n",
       "      <td>98</td>\n",
       "      <td>80</td>\n",
       "      <td>18</td>\n",
       "      <td>11</td>\n",
       "      <td>6</td>\n",
       "      <td>5</td>\n",
       "      <td>13.6821</td>\n",
       "      <td>224707</td>\n",
       "      <td>104138</td>\n",
       "      <td>120569</td>\n",
       "      <td>16423</td>\n",
       "      <td>2.89</td>\n",
       "      <td>2.51</td>\n",
       "      <td>1614178</td>\n",
       "      <td>1339702</td>\n",
       "      <td>1071429</td>\n",
       "      <td>268273</td>\n",
       "      <td>1720988</td>\n",
       "      <td>606928.923866</td>\n",
       "      <td>125366.33</td>\n",
       "    </tr>\n",
       "    <tr>\n",
       "      <th>1</th>\n",
       "      <td>中山區</td>\n",
       "      <td>臺北市中山區林森北路301~330號</td>\n",
       "      <td>林森北路</td>\n",
       "      <td>1030702</td>\n",
       "      <td>2014</td>\n",
       "      <td>房地(土地+建物)</td>\n",
       "      <td>土地1建物1車位0</td>\n",
       "      <td>套房</td>\n",
       "      <td>1</td>\n",
       "      <td>1</td>\n",
       "      <td>1</td>\n",
       "      <td>有</td>\n",
       "      <td>有</td>\n",
       "      <td>8500000.0</td>\n",
       "      <td>13.331175</td>\n",
       "      <td>637604.152485</td>\n",
       "      <td>0</td>\n",
       "      <td>14</td>\n",
       "      <td>77</td>\n",
       "      <td>8</td>\n",
       "      <td>132</td>\n",
       "      <td>7</td>\n",
       "      <td>904</td>\n",
       "      <td>13</td>\n",
       "      <td>280</td>\n",
       "      <td>8</td>\n",
       "      <td>33</td>\n",
       "      <td>486</td>\n",
       "      <td>4</td>\n",
       "      <td>98</td>\n",
       "      <td>80</td>\n",
       "      <td>18</td>\n",
       "      <td>11</td>\n",
       "      <td>6</td>\n",
       "      <td>5</td>\n",
       "      <td>13.6821</td>\n",
       "      <td>224707</td>\n",
       "      <td>104138</td>\n",
       "      <td>120569</td>\n",
       "      <td>16423</td>\n",
       "      <td>2.89</td>\n",
       "      <td>2.51</td>\n",
       "      <td>1614178</td>\n",
       "      <td>1339702</td>\n",
       "      <td>1071429</td>\n",
       "      <td>268273</td>\n",
       "      <td>1720988</td>\n",
       "      <td>677952.719661</td>\n",
       "      <td>-40348.57</td>\n",
       "    </tr>\n",
       "  </tbody>\n",
       "</table>\n",
       "</div>"
      ],
      "text/plain": [
       "  Area             Address    St    交易年月日  year          交易標的      交易筆棟數  \\\n",
       "0  中山區  臺北市中山區建國北路二段61~90號  建國北路  1030430  2014  房地(土地+建物)+車位  土地2建物1車位1   \n",
       "1  中山區  臺北市中山區林森北路301~330號  林森北路  1030702  2014     房地(土地+建物)  土地1建物1車位0   \n",
       "\n",
       "     建物型態  建物現況格局.廳  建物現況格局.房  建物現況格局.衛 建物現況格局.隔間 有無管理組織         總價元  \\\n",
       "0  辦公商業大樓         0         2         0         有      有  31500000.0   \n",
       "1      套房         1         1         1         有      有   8500000.0   \n",
       "\n",
       "         總坪數           單價元坪  車位數  floor  EightCount  ParkCount  FuneralCount  \\\n",
       "0  43.015500  732295.253165    1     12          77          8           132   \n",
       "1  13.331175  637604.152485    0     14          77          8           132   \n",
       "\n",
       "   GasCount  CrimeCount  PoliceCount  busCount  subwayCount  govCount  \\\n",
       "0         7         904           13       280            8        33   \n",
       "1         7         904           13       280            8        33   \n",
       "\n",
       "   clinicCount  hospitalCount  pharmacyCount  fireareaCount  firewayCount  \\\n",
       "0          486              4             98             80            18   \n",
       "1          486              4             98             80            18   \n",
       "\n",
       "   martCount  mallCount  cinemaCount     土地面積    總人口數    男性人數    女性人數   人口密度  \\\n",
       "0         11          6            5  13.6821  224707  104138  120569  16423   \n",
       "1         11          6            5  13.6821  224707  104138  120569  16423   \n",
       "\n",
       "   每戶人數  每戶成年人數   所得收入總計    可支配所得     消費支出      儲蓄     所得總額           pred  \\\n",
       "0  2.89    2.51  1614178  1339702  1071429  268273  1720988  606928.923866   \n",
       "1  2.89    2.51  1614178  1339702  1071429  268273  1720988  677952.719661   \n",
       "\n",
       "          漲跌  \n",
       "0  125366.33  \n",
       "1  -40348.57  "
      ]
     },
     "execution_count": 70,
     "metadata": {
      "tags": []
     },
     "output_type": "execute_result"
    }
   ],
   "source": [
    "result.head(2)"
   ]
  },
  {
   "cell_type": "code",
   "execution_count": null,
   "metadata": {
    "id": "X-WWQJPohXyM"
   },
   "outputs": [],
   "source": [
    "updown = result.groupby(['Area'], as_index=True).mean()[['pred','漲跌']].reset_index()\n",
    "updown.sort_values(by=['漲跌'], inplace=True, ascending=False)"
   ]
  },
  {
   "cell_type": "code",
   "execution_count": null,
   "metadata": {
    "id": "ZexE7vMvhXyN",
    "outputId": "1ec8aa93-9263-4314-f476-180f2055ae57"
   },
   "outputs": [
    {
     "data": {
      "text/html": [
       "<div>\n",
       "<style scoped>\n",
       "    .dataframe tbody tr th:only-of-type {\n",
       "        vertical-align: middle;\n",
       "    }\n",
       "\n",
       "    .dataframe tbody tr th {\n",
       "        vertical-align: top;\n",
       "    }\n",
       "\n",
       "    .dataframe thead th {\n",
       "        text-align: right;\n",
       "    }\n",
       "</style>\n",
       "<table border=\"1\" class=\"dataframe\">\n",
       "  <thead>\n",
       "    <tr style=\"text-align: right;\">\n",
       "      <th></th>\n",
       "      <th>Area</th>\n",
       "      <th>pred</th>\n",
       "      <th>漲跌</th>\n",
       "    </tr>\n",
       "  </thead>\n",
       "  <tbody>\n",
       "    <tr>\n",
       "      <th>9</th>\n",
       "      <td>文山區</td>\n",
       "      <td>455477.276875</td>\n",
       "      <td>17509.812727</td>\n",
       "    </tr>\n",
       "    <tr>\n",
       "      <th>10</th>\n",
       "      <td>松山區</td>\n",
       "      <td>689565.683843</td>\n",
       "      <td>16181.449659</td>\n",
       "    </tr>\n",
       "    <tr>\n",
       "      <th>5</th>\n",
       "      <td>南港區</td>\n",
       "      <td>529397.743411</td>\n",
       "      <td>8912.619622</td>\n",
       "    </tr>\n",
       "    <tr>\n",
       "      <th>1</th>\n",
       "      <td>中正區</td>\n",
       "      <td>755548.587070</td>\n",
       "      <td>2107.562198</td>\n",
       "    </tr>\n",
       "    <tr>\n",
       "      <th>4</th>\n",
       "      <td>北投區</td>\n",
       "      <td>461424.644462</td>\n",
       "      <td>2008.493582</td>\n",
       "    </tr>\n",
       "    <tr>\n",
       "      <th>0</th>\n",
       "      <td>中山區</td>\n",
       "      <td>667346.920067</td>\n",
       "      <td>-177.244383</td>\n",
       "    </tr>\n",
       "    <tr>\n",
       "      <th>6</th>\n",
       "      <td>士林區</td>\n",
       "      <td>584736.974044</td>\n",
       "      <td>-721.716619</td>\n",
       "    </tr>\n",
       "    <tr>\n",
       "      <th>11</th>\n",
       "      <td>萬華區</td>\n",
       "      <td>495815.032794</td>\n",
       "      <td>-5350.239034</td>\n",
       "    </tr>\n",
       "    <tr>\n",
       "      <th>3</th>\n",
       "      <td>內湖區</td>\n",
       "      <td>531119.217810</td>\n",
       "      <td>-5544.783628</td>\n",
       "    </tr>\n",
       "    <tr>\n",
       "      <th>2</th>\n",
       "      <td>信義區</td>\n",
       "      <td>718851.627221</td>\n",
       "      <td>-6736.056747</td>\n",
       "    </tr>\n",
       "    <tr>\n",
       "      <th>8</th>\n",
       "      <td>大安區</td>\n",
       "      <td>858592.666311</td>\n",
       "      <td>-6757.361352</td>\n",
       "    </tr>\n",
       "    <tr>\n",
       "      <th>7</th>\n",
       "      <td>大同區</td>\n",
       "      <td>583739.531278</td>\n",
       "      <td>-24455.429335</td>\n",
       "    </tr>\n",
       "  </tbody>\n",
       "</table>\n",
       "</div>"
      ],
      "text/plain": [
       "   Area           pred            漲跌\n",
       "9   文山區  455477.276875  17509.812727\n",
       "10  松山區  689565.683843  16181.449659\n",
       "5   南港區  529397.743411   8912.619622\n",
       "1   中正區  755548.587070   2107.562198\n",
       "4   北投區  461424.644462   2008.493582\n",
       "0   中山區  667346.920067   -177.244383\n",
       "6   士林區  584736.974044   -721.716619\n",
       "11  萬華區  495815.032794  -5350.239034\n",
       "3   內湖區  531119.217810  -5544.783628\n",
       "2   信義區  718851.627221  -6736.056747\n",
       "8   大安區  858592.666311  -6757.361352\n",
       "7   大同區  583739.531278 -24455.429335"
      ]
     },
     "execution_count": 69,
     "metadata": {
      "tags": []
     },
     "output_type": "execute_result"
    }
   ],
   "source": [
    "updown"
   ]
  }
 ],
 "metadata": {
  "colab": {
   "name": "Model_RegEnsemBoost.ipynb",
   "provenance": []
  },
  "kernelspec": {
   "display_name": "Python 3",
   "language": "python",
   "name": "python3"
  },
  "language_info": {
   "codemirror_mode": {
    "name": "ipython",
    "version": 3
   },
   "file_extension": ".py",
   "mimetype": "text/x-python",
   "name": "python",
   "nbconvert_exporter": "python",
   "pygments_lexer": "ipython3",
   "version": "3.8.5"
  },
  "toc": {
   "base_numbering": 1,
   "nav_menu": {},
   "number_sections": true,
   "sideBar": true,
   "skip_h1_title": false,
   "title_cell": "Table of Contents",
   "title_sidebar": "Contents",
   "toc_cell": false,
   "toc_position": {},
   "toc_section_display": true,
   "toc_window_display": true
  },
  "varInspector": {
   "cols": {
    "lenName": 16,
    "lenType": 16,
    "lenVar": 40
   },
   "kernels_config": {
    "python": {
     "delete_cmd_postfix": "",
     "delete_cmd_prefix": "del ",
     "library": "var_list.py",
     "varRefreshCmd": "print(var_dic_list())"
    },
    "r": {
     "delete_cmd_postfix": ") ",
     "delete_cmd_prefix": "rm(",
     "library": "var_list.r",
     "varRefreshCmd": "cat(var_dic_list()) "
    }
   },
   "types_to_exclude": [
    "module",
    "function",
    "builtin_function_or_method",
    "instance",
    "_Feature"
   ],
   "window_display": false
  }
 },
 "nbformat": 4,
 "nbformat_minor": 1
}

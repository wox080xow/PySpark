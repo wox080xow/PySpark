{
 "cells": [
  {
   "cell_type": "markdown",
   "metadata": {
    "id": "tabW0EZahXx6"
   },
   "source": [
    "https://www.kaggle.com/onestar/kernel-xgboost-stacking\n",
    "https://www.kaggle.com/satishgunjal/ensemble-learning-bagging-boosting-stacking"
   ]
  },
  {
   "cell_type": "code",
   "execution_count": 1,
   "metadata": {
    "executionInfo": {
     "elapsed": 2305,
     "status": "ok",
     "timestamp": 1609145128246,
     "user": {
      "displayName": "ShuoJung Yang",
      "photoUrl": "",
      "userId": "01913117258434371706"
     },
     "user_tz": -480
    },
    "id": "DMN5x0ShhXx_"
   },
   "outputs": [],
   "source": [
    "import os\n",
    "import pandas as pd\n",
    "import numpy as np\n",
    "import warnings\n",
    "\n",
    "from sklearn.model_selection import train_test_split\n",
    "from sklearn.pipeline import make_pipeline\n",
    "from sklearn.preprocessing import RobustScaler\n",
    "from sklearn.linear_model import LinearRegression, Lasso, ElasticNet\n",
    "from sklearn.kernel_ridge import KernelRidge\n",
    "\n",
    "from sklearn.ensemble import BaggingRegressor\n",
    "\n",
    "from sklearn.ensemble import GradientBoostingRegressor\n",
    "import xgboost as xgb\n",
    "import lightgbm as lgb\n",
    "from sklearn.ensemble import StackingRegressor\n",
    "\n",
    "from sklearn.model_selection import cross_val_score\n",
    "from sklearn.model_selection import cross_val_predict\n",
    "from sklearn.metrics import mean_squared_error\n",
    "\n",
    "# Global settings\n",
    "\n",
    "warnings.filterwarnings(\"ignore\") # To ignore warnings\n",
    "n_jobs = -1 # This parameter conrols the parallel processing. -1 means using all processors.\n",
    "random_state = 42 # This parameter controls the randomness of the data. Using some int value to get same results everytime this code is run."
   ]
  },
  {
   "cell_type": "markdown",
   "metadata": {
    "id": "ymcVQjYShXyA"
   },
   "source": [
    "# Load Data"
   ]
  },
  {
   "cell_type": "code",
   "execution_count": 2,
   "metadata": {
    "id": "7y0qrQuEhXyA",
    "outputId": "8af0e779-8fc1-4c12-b6e0-1e9fd4cf98f9"
   },
   "outputs": [
    {
     "name": "stdout",
     "output_type": "stream",
     "text": [
      "Shape of data= (121820, 49)\n"
     ]
    }
   ],
   "source": [
    "# df = pd.read_csv('/Users/yunmo/Documents/iii/FinalReport/House/data/FinalMerge/HouseVar.csv')\n",
    "df = pd.read_csv('HouseVarCoFinal.csv')\n",
    "print(f'Shape of data= {df.shape}')"
   ]
  },
  {
   "cell_type": "code",
   "execution_count": 4,
   "metadata": {
    "id": "7y0qrQuEhXyA",
    "outputId": "8af0e779-8fc1-4c12-b6e0-1e9fd4cf98f9"
   },
   "outputs": [
    {
     "data": {
      "text/plain": [
       "Index(['Address', 'Area', 'St', '交易年月日', 'year', '交易標的', '交易筆棟數', '建物型態',\n",
       "       '建物現況格局.廳', '建物現況格局.房', '建物現況格局.衛', '建物現況格局.隔間', '有無管理組織', '總價元', '總坪數',\n",
       "       '單價元坪', '車位數', 'floor', 'EightCount', 'ParkCount', 'FuneralCount',\n",
       "       'GasCount', 'CrimeCount', 'PoliceCount', 'busCount', 'subwayCount',\n",
       "       'govCount', 'clinicCount', 'hospitalCount', 'pharmacyCount',\n",
       "       'fireareaCount', 'firewayCount', 'martCount', 'mallCount',\n",
       "       'cinemaCount', '土地面積', '總人口數', '男性人數', '女性人數', '人口密度', '每戶人數', '每戶成年人數',\n",
       "       '所得收入總計', '可支配所得', '消費支出', '儲蓄', '所得總額', 'Lontitude', 'Latitude'],\n",
       "      dtype='object')"
      ]
     },
     "execution_count": 4,
     "metadata": {},
     "output_type": "execute_result"
    }
   ],
   "source": [
    "df.columns"
   ]
  },
  {
   "cell_type": "code",
   "execution_count": 5,
   "metadata": {
    "id": "7y0qrQuEhXyA",
    "outputId": "8af0e779-8fc1-4c12-b6e0-1e9fd4cf98f9"
   },
   "outputs": [
    {
     "name": "stdout",
     "output_type": "stream",
     "text": [
      "<class 'pandas.core.frame.DataFrame'>\n",
      "RangeIndex: 121820 entries, 0 to 121819\n",
      "Data columns (total 49 columns):\n",
      " #   Column         Non-Null Count   Dtype  \n",
      "---  ------         --------------   -----  \n",
      " 0   Address        121820 non-null  object \n",
      " 1   Area           121820 non-null  object \n",
      " 2   St             121820 non-null  object \n",
      " 3   交易年月日          121820 non-null  int64  \n",
      " 4   year           121820 non-null  int64  \n",
      " 5   交易標的           121820 non-null  object \n",
      " 6   交易筆棟數          121820 non-null  object \n",
      " 7   建物型態           121820 non-null  object \n",
      " 8   建物現況格局.廳       121820 non-null  int64  \n",
      " 9   建物現況格局.房       121820 non-null  int64  \n",
      " 10  建物現況格局.衛       121820 non-null  int64  \n",
      " 11  建物現況格局.隔間      121820 non-null  object \n",
      " 12  有無管理組織         121820 non-null  object \n",
      " 13  總價元            121820 non-null  float64\n",
      " 14  總坪數            121820 non-null  float64\n",
      " 15  單價元坪           121820 non-null  float64\n",
      " 16  車位數            121820 non-null  int64  \n",
      " 17  floor          121820 non-null  int64  \n",
      " 18  EightCount     121820 non-null  int64  \n",
      " 19  ParkCount      121820 non-null  int64  \n",
      " 20  FuneralCount   121820 non-null  int64  \n",
      " 21  GasCount       121820 non-null  int64  \n",
      " 22  CrimeCount     121820 non-null  int64  \n",
      " 23  PoliceCount    121820 non-null  int64  \n",
      " 24  busCount       121820 non-null  int64  \n",
      " 25  subwayCount    121820 non-null  int64  \n",
      " 26  govCount       121820 non-null  int64  \n",
      " 27  clinicCount    121820 non-null  int64  \n",
      " 28  hospitalCount  121820 non-null  int64  \n",
      " 29  pharmacyCount  121820 non-null  int64  \n",
      " 30  fireareaCount  121820 non-null  int64  \n",
      " 31  firewayCount   121820 non-null  int64  \n",
      " 32  martCount      121820 non-null  int64  \n",
      " 33  mallCount      121820 non-null  int64  \n",
      " 34  cinemaCount    121820 non-null  int64  \n",
      " 35  土地面積           121820 non-null  float64\n",
      " 36  總人口數           121820 non-null  int64  \n",
      " 37  男性人數           121820 non-null  int64  \n",
      " 38  女性人數           121820 non-null  int64  \n",
      " 39  人口密度           121820 non-null  int64  \n",
      " 40  每戶人數           121820 non-null  float64\n",
      " 41  每戶成年人數         121820 non-null  float64\n",
      " 42  所得收入總計         121820 non-null  int64  \n",
      " 43  可支配所得          121820 non-null  int64  \n",
      " 44  消費支出           121820 non-null  int64  \n",
      " 45  儲蓄             121820 non-null  int64  \n",
      " 46  所得總額           121820 non-null  int64  \n",
      " 47  Lontitude      121820 non-null  float64\n",
      " 48  Latitude       121820 non-null  float64\n",
      "dtypes: float64(8), int64(33), object(8)\n",
      "memory usage: 45.5+ MB\n"
     ]
    }
   ],
   "source": [
    "df.info()"
   ]
  },
  {
   "cell_type": "code",
   "execution_count": 6,
   "metadata": {
    "id": "qarNsJU5hXyB",
    "outputId": "61c54b90-62c2-4a9e-fabf-d9b978c0ee74"
   },
   "outputs": [
    {
     "data": {
      "text/plain": [
       "Index(['Address', 'Area', 'St', '交易年月日', 'year', '交易標的', '交易筆棟數', '建物型態',\n",
       "       '建物現況格局.廳', '建物現況格局.房', '建物現況格局.衛', '建物現況格局.隔間', '有無管理組織', '總價元', '總坪數',\n",
       "       '單價元坪', '車位數', 'floor', 'EightCount', 'ParkCount', 'FuneralCount',\n",
       "       'GasCount', 'CrimeCount', 'PoliceCount', 'busCount', 'subwayCount',\n",
       "       'govCount', 'clinicCount', 'hospitalCount', 'pharmacyCount',\n",
       "       'fireareaCount', 'firewayCount', 'martCount', 'mallCount',\n",
       "       'cinemaCount', '土地面積', '總人口數', '男性人數', '女性人數', '人口密度', '每戶人數', '每戶成年人數',\n",
       "       '所得收入總計', '可支配所得', '消費支出', '儲蓄', '所得總額', 'Lontitude', 'Latitude'],\n",
       "      dtype='object')"
      ]
     },
     "execution_count": 6,
     "metadata": {},
     "output_type": "execute_result"
    }
   ],
   "source": [
    "df.columns"
   ]
  },
  {
   "cell_type": "code",
   "execution_count": 7,
   "metadata": {
    "id": "ZbIppwDChXyC",
    "outputId": "472885be-43e2-4244-bf75-e29d6f5e6bea"
   },
   "outputs": [
    {
     "name": "stdout",
     "output_type": "stream",
     "text": [
      "<class 'pandas.core.frame.DataFrame'>\n",
      "RangeIndex: 121820 entries, 0 to 121819\n",
      "Data columns (total 49 columns):\n",
      " #   Column         Non-Null Count   Dtype  \n",
      "---  ------         --------------   -----  \n",
      " 0   Address        121820 non-null  object \n",
      " 1   Area           121820 non-null  object \n",
      " 2   St             121820 non-null  object \n",
      " 3   交易年月日          121820 non-null  int64  \n",
      " 4   year           121820 non-null  int64  \n",
      " 5   交易標的           121820 non-null  object \n",
      " 6   交易筆棟數          121820 non-null  object \n",
      " 7   建物型態           121820 non-null  object \n",
      " 8   建物現況格局.廳       121820 non-null  int64  \n",
      " 9   建物現況格局.房       121820 non-null  int64  \n",
      " 10  建物現況格局.衛       121820 non-null  int64  \n",
      " 11  建物現況格局.隔間      121820 non-null  object \n",
      " 12  有無管理組織         121820 non-null  object \n",
      " 13  總價元            121820 non-null  float64\n",
      " 14  總坪數            121820 non-null  float64\n",
      " 15  單價元坪           121820 non-null  float64\n",
      " 16  車位數            121820 non-null  int64  \n",
      " 17  floor          121820 non-null  int64  \n",
      " 18  EightCount     121820 non-null  int64  \n",
      " 19  ParkCount      121820 non-null  int64  \n",
      " 20  FuneralCount   121820 non-null  int64  \n",
      " 21  GasCount       121820 non-null  int64  \n",
      " 22  CrimeCount     121820 non-null  int64  \n",
      " 23  PoliceCount    121820 non-null  int64  \n",
      " 24  busCount       121820 non-null  int64  \n",
      " 25  subwayCount    121820 non-null  int64  \n",
      " 26  govCount       121820 non-null  int64  \n",
      " 27  clinicCount    121820 non-null  int64  \n",
      " 28  hospitalCount  121820 non-null  int64  \n",
      " 29  pharmacyCount  121820 non-null  int64  \n",
      " 30  fireareaCount  121820 non-null  int64  \n",
      " 31  firewayCount   121820 non-null  int64  \n",
      " 32  martCount      121820 non-null  int64  \n",
      " 33  mallCount      121820 non-null  int64  \n",
      " 34  cinemaCount    121820 non-null  int64  \n",
      " 35  土地面積           121820 non-null  float64\n",
      " 36  總人口數           121820 non-null  int64  \n",
      " 37  男性人數           121820 non-null  int64  \n",
      " 38  女性人數           121820 non-null  int64  \n",
      " 39  人口密度           121820 non-null  int64  \n",
      " 40  每戶人數           121820 non-null  float64\n",
      " 41  每戶成年人數         121820 non-null  float64\n",
      " 42  所得收入總計         121820 non-null  int64  \n",
      " 43  可支配所得          121820 non-null  int64  \n",
      " 44  消費支出           121820 non-null  int64  \n",
      " 45  儲蓄             121820 non-null  int64  \n",
      " 46  所得總額           121820 non-null  int64  \n",
      " 47  Lontitude      121820 non-null  float64\n",
      " 48  Latitude       121820 non-null  float64\n",
      "dtypes: float64(8), int64(33), object(8)\n",
      "memory usage: 45.5+ MB\n"
     ]
    }
   ],
   "source": [
    "df.info()"
   ]
  },
  {
   "cell_type": "code",
   "execution_count": 8,
   "metadata": {
    "id": "_HP6X1iBhXyC",
    "outputId": "4e5c5cdc-3524-4482-a370-9572d4cb7c44"
   },
   "outputs": [
    {
     "data": {
      "text/html": [
       "<div>\n",
       "<style scoped>\n",
       "    .dataframe tbody tr th:only-of-type {\n",
       "        vertical-align: middle;\n",
       "    }\n",
       "\n",
       "    .dataframe tbody tr th {\n",
       "        vertical-align: top;\n",
       "    }\n",
       "\n",
       "    .dataframe thead th {\n",
       "        text-align: right;\n",
       "    }\n",
       "</style>\n",
       "<table border=\"1\" class=\"dataframe\">\n",
       "  <thead>\n",
       "    <tr style=\"text-align: right;\">\n",
       "      <th></th>\n",
       "      <th>建物現況格局.廳</th>\n",
       "      <th>建物現況格局.房</th>\n",
       "      <th>建物現況格局.衛</th>\n",
       "      <th>單價元坪</th>\n",
       "      <th>車位數</th>\n",
       "      <th>floor</th>\n",
       "      <th>ParkCount</th>\n",
       "      <th>GasCount</th>\n",
       "      <th>govCount</th>\n",
       "      <th>hospitalCount</th>\n",
       "      <th>firewayCount</th>\n",
       "      <th>martCount</th>\n",
       "      <th>每戶人數</th>\n",
       "      <th>所得總額</th>\n",
       "    </tr>\n",
       "  </thead>\n",
       "  <tbody>\n",
       "    <tr>\n",
       "      <th>0</th>\n",
       "      <td>2</td>\n",
       "      <td>5</td>\n",
       "      <td>3</td>\n",
       "      <td>2.465803e+05</td>\n",
       "      <td>0</td>\n",
       "      <td>7</td>\n",
       "      <td>8</td>\n",
       "      <td>7</td>\n",
       "      <td>33</td>\n",
       "      <td>4</td>\n",
       "      <td>18</td>\n",
       "      <td>11</td>\n",
       "      <td>2.89</td>\n",
       "      <td>1720988</td>\n",
       "    </tr>\n",
       "    <tr>\n",
       "      <th>1</th>\n",
       "      <td>2</td>\n",
       "      <td>2</td>\n",
       "      <td>2</td>\n",
       "      <td>7.136584e+05</td>\n",
       "      <td>0</td>\n",
       "      <td>7</td>\n",
       "      <td>8</td>\n",
       "      <td>7</td>\n",
       "      <td>33</td>\n",
       "      <td>4</td>\n",
       "      <td>18</td>\n",
       "      <td>11</td>\n",
       "      <td>2.89</td>\n",
       "      <td>1720988</td>\n",
       "    </tr>\n",
       "    <tr>\n",
       "      <th>2</th>\n",
       "      <td>0</td>\n",
       "      <td>0</td>\n",
       "      <td>0</td>\n",
       "      <td>2.620434e+05</td>\n",
       "      <td>0</td>\n",
       "      <td>7</td>\n",
       "      <td>8</td>\n",
       "      <td>7</td>\n",
       "      <td>33</td>\n",
       "      <td>4</td>\n",
       "      <td>18</td>\n",
       "      <td>11</td>\n",
       "      <td>2.89</td>\n",
       "      <td>1720988</td>\n",
       "    </tr>\n",
       "    <tr>\n",
       "      <th>3</th>\n",
       "      <td>1</td>\n",
       "      <td>1</td>\n",
       "      <td>1</td>\n",
       "      <td>7.439029e+05</td>\n",
       "      <td>0</td>\n",
       "      <td>7</td>\n",
       "      <td>8</td>\n",
       "      <td>7</td>\n",
       "      <td>33</td>\n",
       "      <td>4</td>\n",
       "      <td>18</td>\n",
       "      <td>11</td>\n",
       "      <td>2.89</td>\n",
       "      <td>1720988</td>\n",
       "    </tr>\n",
       "    <tr>\n",
       "      <th>4</th>\n",
       "      <td>0</td>\n",
       "      <td>0</td>\n",
       "      <td>0</td>\n",
       "      <td>1.343113e+06</td>\n",
       "      <td>0</td>\n",
       "      <td>5</td>\n",
       "      <td>8</td>\n",
       "      <td>7</td>\n",
       "      <td>33</td>\n",
       "      <td>4</td>\n",
       "      <td>18</td>\n",
       "      <td>11</td>\n",
       "      <td>2.89</td>\n",
       "      <td>1720988</td>\n",
       "    </tr>\n",
       "    <tr>\n",
       "      <th>...</th>\n",
       "      <td>...</td>\n",
       "      <td>...</td>\n",
       "      <td>...</td>\n",
       "      <td>...</td>\n",
       "      <td>...</td>\n",
       "      <td>...</td>\n",
       "      <td>...</td>\n",
       "      <td>...</td>\n",
       "      <td>...</td>\n",
       "      <td>...</td>\n",
       "      <td>...</td>\n",
       "      <td>...</td>\n",
       "      <td>...</td>\n",
       "      <td>...</td>\n",
       "    </tr>\n",
       "    <tr>\n",
       "      <th>121815</th>\n",
       "      <td>1</td>\n",
       "      <td>1</td>\n",
       "      <td>1</td>\n",
       "      <td>3.899083e+05</td>\n",
       "      <td>0</td>\n",
       "      <td>5</td>\n",
       "      <td>2</td>\n",
       "      <td>4</td>\n",
       "      <td>27</td>\n",
       "      <td>4</td>\n",
       "      <td>35</td>\n",
       "      <td>8</td>\n",
       "      <td>3.07</td>\n",
       "      <td>1572599</td>\n",
       "    </tr>\n",
       "    <tr>\n",
       "      <th>121816</th>\n",
       "      <td>1</td>\n",
       "      <td>2</td>\n",
       "      <td>1</td>\n",
       "      <td>2.661667e+05</td>\n",
       "      <td>0</td>\n",
       "      <td>5</td>\n",
       "      <td>2</td>\n",
       "      <td>4</td>\n",
       "      <td>27</td>\n",
       "      <td>4</td>\n",
       "      <td>35</td>\n",
       "      <td>8</td>\n",
       "      <td>3.07</td>\n",
       "      <td>1572599</td>\n",
       "    </tr>\n",
       "    <tr>\n",
       "      <th>121817</th>\n",
       "      <td>1</td>\n",
       "      <td>3</td>\n",
       "      <td>2</td>\n",
       "      <td>5.367694e+05</td>\n",
       "      <td>0</td>\n",
       "      <td>5</td>\n",
       "      <td>2</td>\n",
       "      <td>4</td>\n",
       "      <td>27</td>\n",
       "      <td>4</td>\n",
       "      <td>35</td>\n",
       "      <td>8</td>\n",
       "      <td>3.07</td>\n",
       "      <td>1572599</td>\n",
       "    </tr>\n",
       "    <tr>\n",
       "      <th>121818</th>\n",
       "      <td>1</td>\n",
       "      <td>2</td>\n",
       "      <td>1</td>\n",
       "      <td>2.437000e+05</td>\n",
       "      <td>0</td>\n",
       "      <td>12</td>\n",
       "      <td>2</td>\n",
       "      <td>4</td>\n",
       "      <td>27</td>\n",
       "      <td>4</td>\n",
       "      <td>35</td>\n",
       "      <td>8</td>\n",
       "      <td>3.07</td>\n",
       "      <td>1572599</td>\n",
       "    </tr>\n",
       "    <tr>\n",
       "      <th>121819</th>\n",
       "      <td>2</td>\n",
       "      <td>2</td>\n",
       "      <td>1</td>\n",
       "      <td>6.975835e+05</td>\n",
       "      <td>0</td>\n",
       "      <td>5</td>\n",
       "      <td>2</td>\n",
       "      <td>4</td>\n",
       "      <td>27</td>\n",
       "      <td>4</td>\n",
       "      <td>35</td>\n",
       "      <td>8</td>\n",
       "      <td>3.07</td>\n",
       "      <td>1572599</td>\n",
       "    </tr>\n",
       "  </tbody>\n",
       "</table>\n",
       "<p>121820 rows × 14 columns</p>\n",
       "</div>"
      ],
      "text/plain": [
       "        建物現況格局.廳  建物現況格局.房  建物現況格局.衛          單價元坪  車位數  floor  ParkCount  \\\n",
       "0              2         5         3  2.465803e+05    0      7          8   \n",
       "1              2         2         2  7.136584e+05    0      7          8   \n",
       "2              0         0         0  2.620434e+05    0      7          8   \n",
       "3              1         1         1  7.439029e+05    0      7          8   \n",
       "4              0         0         0  1.343113e+06    0      5          8   \n",
       "...          ...       ...       ...           ...  ...    ...        ...   \n",
       "121815         1         1         1  3.899083e+05    0      5          2   \n",
       "121816         1         2         1  2.661667e+05    0      5          2   \n",
       "121817         1         3         2  5.367694e+05    0      5          2   \n",
       "121818         1         2         1  2.437000e+05    0     12          2   \n",
       "121819         2         2         1  6.975835e+05    0      5          2   \n",
       "\n",
       "        GasCount  govCount  hospitalCount  firewayCount  martCount  每戶人數  \\\n",
       "0              7        33              4            18         11  2.89   \n",
       "1              7        33              4            18         11  2.89   \n",
       "2              7        33              4            18         11  2.89   \n",
       "3              7        33              4            18         11  2.89   \n",
       "4              7        33              4            18         11  2.89   \n",
       "...          ...       ...            ...           ...        ...   ...   \n",
       "121815         4        27              4            35          8  3.07   \n",
       "121816         4        27              4            35          8  3.07   \n",
       "121817         4        27              4            35          8  3.07   \n",
       "121818         4        27              4            35          8  3.07   \n",
       "121819         4        27              4            35          8  3.07   \n",
       "\n",
       "           所得總額  \n",
       "0       1720988  \n",
       "1       1720988  \n",
       "2       1720988  \n",
       "3       1720988  \n",
       "4       1720988  \n",
       "...         ...  \n",
       "121815  1572599  \n",
       "121816  1572599  \n",
       "121817  1572599  \n",
       "121818  1572599  \n",
       "121819  1572599  \n",
       "\n",
       "[121820 rows x 14 columns]"
      ]
     },
     "execution_count": 8,
     "metadata": {},
     "output_type": "execute_result"
    }
   ],
   "source": [
    "pd.set_option('display.max_columns', 100) \n",
    "dfDrop = df.drop([\"EightCount\", \"FuneralCount\", \"PoliceCount\",\n",
    "                  \"總坪數\", \"總價元\",\"建物現況格局.隔間\", \"有無管理組織\",\n",
    "                  \"交易筆棟數\", \"交易標的\",\"交易年月日\",\n",
    "                  \"subwayCount\", \"busCount\", \"CrimeCount\",\n",
    "                  \"clinicCount\", \"pharmacyCount\", \"fireareaCount\",\n",
    "                  \"mallCount\", \"cinemaCount\", \"總人口數\",\n",
    "                  \"男性人數\", \"女性人數\", \"土地面積\",\n",
    "                  \"每戶成年人數\",\n",
    "                  \"所得收入總計\", \"可支配所得\", \"消費支出\",\n",
    "                  \"人口密度\", \"儲蓄\", \"Lontitude\", \"Latitude\"], axis=1)\n",
    "# dfDrop.head()\n",
    "\n",
    "dfDrop2 = df.drop([\"Area\",\"Address\",\"St\",\"year\",\"建物型態\",\n",
    "                   \"EightCount\", \"FuneralCount\", \"PoliceCount\",\n",
    "                  \"總坪數\", \"總價元\",\"建物現況格局.隔間\", \"有無管理組織\",\n",
    "                  \"交易筆棟數\", \"交易標的\",\"交易年月日\",\n",
    "                  \"subwayCount\", \"busCount\", \"CrimeCount\",\n",
    "                  \"clinicCount\", \"pharmacyCount\", \"fireareaCount\",\n",
    "                  \"mallCount\", \"cinemaCount\", \"總人口數\",\n",
    "                  \"男性人數\", \"女性人數\", \"土地面積\",\n",
    "                  \"每戶成年人數\",\n",
    "                  \"所得收入總計\", \"可支配所得\", \"消費支出\",\n",
    "                  \"人口密度\", \"儲蓄\", \"Lontitude\", \"Latitude\"], axis=1)\n",
    "dfDrop2"
   ]
  },
  {
   "cell_type": "code",
   "execution_count": 9,
   "metadata": {
    "id": "IwMLJdYHhXyD"
   },
   "outputs": [],
   "source": [
    "from dfply import *"
   ]
  },
  {
   "cell_type": "code",
   "execution_count": 10,
   "metadata": {
    "id": "Hgd46ENxhXyD",
    "outputId": "fa749549-85a9-4340-8bf8-58af79f8fb8b"
   },
   "outputs": [
    {
     "data": {
      "text/html": [
       "<div>\n",
       "<style scoped>\n",
       "    .dataframe tbody tr th:only-of-type {\n",
       "        vertical-align: middle;\n",
       "    }\n",
       "\n",
       "    .dataframe tbody tr th {\n",
       "        vertical-align: top;\n",
       "    }\n",
       "\n",
       "    .dataframe thead th {\n",
       "        text-align: right;\n",
       "    }\n",
       "</style>\n",
       "<table border=\"1\" class=\"dataframe\">\n",
       "  <thead>\n",
       "    <tr style=\"text-align: right;\">\n",
       "      <th></th>\n",
       "      <th>建物現況格局.廳</th>\n",
       "      <th>建物現況格局.房</th>\n",
       "      <th>建物現況格局.衛</th>\n",
       "      <th>車位數</th>\n",
       "      <th>floor</th>\n",
       "      <th>ParkCount</th>\n",
       "      <th>GasCount</th>\n",
       "      <th>govCount</th>\n",
       "      <th>hospitalCount</th>\n",
       "      <th>firewayCount</th>\n",
       "      <th>martCount</th>\n",
       "      <th>每戶人數</th>\n",
       "      <th>所得總額</th>\n",
       "    </tr>\n",
       "  </thead>\n",
       "  <tbody>\n",
       "    <tr>\n",
       "      <th>0</th>\n",
       "      <td>2</td>\n",
       "      <td>5</td>\n",
       "      <td>3</td>\n",
       "      <td>0</td>\n",
       "      <td>7</td>\n",
       "      <td>8</td>\n",
       "      <td>7</td>\n",
       "      <td>33</td>\n",
       "      <td>4</td>\n",
       "      <td>18</td>\n",
       "      <td>11</td>\n",
       "      <td>2.89</td>\n",
       "      <td>1720988</td>\n",
       "    </tr>\n",
       "    <tr>\n",
       "      <th>1</th>\n",
       "      <td>2</td>\n",
       "      <td>2</td>\n",
       "      <td>2</td>\n",
       "      <td>0</td>\n",
       "      <td>7</td>\n",
       "      <td>8</td>\n",
       "      <td>7</td>\n",
       "      <td>33</td>\n",
       "      <td>4</td>\n",
       "      <td>18</td>\n",
       "      <td>11</td>\n",
       "      <td>2.89</td>\n",
       "      <td>1720988</td>\n",
       "    </tr>\n",
       "    <tr>\n",
       "      <th>2</th>\n",
       "      <td>0</td>\n",
       "      <td>0</td>\n",
       "      <td>0</td>\n",
       "      <td>0</td>\n",
       "      <td>7</td>\n",
       "      <td>8</td>\n",
       "      <td>7</td>\n",
       "      <td>33</td>\n",
       "      <td>4</td>\n",
       "      <td>18</td>\n",
       "      <td>11</td>\n",
       "      <td>2.89</td>\n",
       "      <td>1720988</td>\n",
       "    </tr>\n",
       "    <tr>\n",
       "      <th>3</th>\n",
       "      <td>1</td>\n",
       "      <td>1</td>\n",
       "      <td>1</td>\n",
       "      <td>0</td>\n",
       "      <td>7</td>\n",
       "      <td>8</td>\n",
       "      <td>7</td>\n",
       "      <td>33</td>\n",
       "      <td>4</td>\n",
       "      <td>18</td>\n",
       "      <td>11</td>\n",
       "      <td>2.89</td>\n",
       "      <td>1720988</td>\n",
       "    </tr>\n",
       "    <tr>\n",
       "      <th>4</th>\n",
       "      <td>0</td>\n",
       "      <td>0</td>\n",
       "      <td>0</td>\n",
       "      <td>0</td>\n",
       "      <td>5</td>\n",
       "      <td>8</td>\n",
       "      <td>7</td>\n",
       "      <td>33</td>\n",
       "      <td>4</td>\n",
       "      <td>18</td>\n",
       "      <td>11</td>\n",
       "      <td>2.89</td>\n",
       "      <td>1720988</td>\n",
       "    </tr>\n",
       "  </tbody>\n",
       "</table>\n",
       "</div>"
      ],
      "text/plain": [
       "   建物現況格局.廳  建物現況格局.房  建物現況格局.衛  車位數  floor  ParkCount  GasCount  govCount  \\\n",
       "0         2         5         3    0      7          8         7        33   \n",
       "1         2         2         2    0      7          8         7        33   \n",
       "2         0         0         0    0      7          8         7        33   \n",
       "3         1         1         1    0      7          8         7        33   \n",
       "4         0         0         0    0      5          8         7        33   \n",
       "\n",
       "   hospitalCount  firewayCount  martCount  每戶人數     所得總額  \n",
       "0              4            18         11  2.89  1720988  \n",
       "1              4            18         11  2.89  1720988  \n",
       "2              4            18         11  2.89  1720988  \n",
       "3              4            18         11  2.89  1720988  \n",
       "4              4            18         11  2.89  1720988  "
      ]
     },
     "execution_count": 10,
     "metadata": {},
     "output_type": "execute_result"
    }
   ],
   "source": [
    "yDf = dfDrop2 >> select(X.單價元坪)\n",
    "xDf = dfDrop2.drop(['單價元坪'], axis = 1)\n",
    "xDf.head()"
   ]
  },
  {
   "cell_type": "markdown",
   "metadata": {
    "id": "flpmUFbuhXyD"
   },
   "source": [
    "# Train and Test Data"
   ]
  },
  {
   "cell_type": "code",
   "execution_count": 11,
   "metadata": {
    "id": "cxKbIdbahXyD",
    "outputId": "c957c282-be25-47ac-95b1-1ca910f456f6"
   },
   "outputs": [
    {
     "name": "stdout",
     "output_type": "stream",
     "text": [
      "Training set: X_train shape= (97456, 13), y_train shape= (97456, 1)\n",
      "Holdout set: X_test shape= (24364, 13), y_test shape= (24364, 1)\n"
     ]
    }
   ],
   "source": [
    "X_train, X_test, y_train, y_test = train_test_split(xDf, yDf, test_size= 0.2, random_state = random_state)\n",
    "\n",
    "print(f'Training set: X_train shape= {X_train.shape}, y_train shape= {y_train.shape}')\n",
    "print(f'Holdout set: X_test shape= {X_test.shape}, y_test shape= {y_test.shape}')"
   ]
  },
  {
   "cell_type": "markdown",
   "metadata": {
    "id": "1mfyUUHihXyE"
   },
   "source": [
    "# Regression Model"
   ]
  },
  {
   "cell_type": "code",
   "execution_count": 12,
   "metadata": {
    "id": "NwDg9lMjhXyE"
   },
   "outputs": [],
   "source": [
    "models_scores = [] # To store model scores\n",
    "\n",
    "def rmse(model):\n",
    "    model.fit(X_train, y_train)\n",
    "    y_pred = model.predict(X_test)\n",
    "    \n",
    "    return mean_squared_error(y_test, y_pred, squared= False) # squared= False > returns Root Mean Square Error    "
   ]
  },
  {
   "cell_type": "markdown",
   "metadata": {
    "id": "VADwIoebhXyE"
   },
   "source": [
    "## Linear Regression"
   ]
  },
  {
   "cell_type": "code",
   "execution_count": 13,
   "metadata": {
    "id": "JJJQ__v3hXyF",
    "outputId": "e9dd71be-d837-47b5-f7bc-3edd14903f70"
   },
   "outputs": [
    {
     "name": "stdout",
     "output_type": "stream",
     "text": [
      "LinearRegression Score= 1350950.3907151243\n"
     ]
    }
   ],
   "source": [
    "linear_regression = make_pipeline(LinearRegression())\n",
    "score = rmse(linear_regression)\n",
    "\n",
    "models_scores.append(['LinearRegression', score])\n",
    "print(f'LinearRegression Score= {score}')"
   ]
  },
  {
   "cell_type": "markdown",
   "metadata": {
    "id": "AIKCt-7AhXyF"
   },
   "source": [
    "## Lasso Regression"
   ]
  },
  {
   "cell_type": "code",
   "execution_count": 14,
   "metadata": {
    "id": "kYYNO8KqhXyF",
    "outputId": "0d37ff81-c441-4f6c-f472-cbc6222d75bb"
   },
   "outputs": [
    {
     "name": "stdout",
     "output_type": "stream",
     "text": [
      "Lasso Score= 1350950.39070096\n"
     ]
    }
   ],
   "source": [
    "lasso = make_pipeline(RobustScaler(), Lasso(alpha=0.0005, random_state= random_state))\n",
    "\n",
    "score = rmse(lasso)\n",
    "models_scores.append(['Lasso', score])\n",
    "print(f'Lasso Score= {score}')"
   ]
  },
  {
   "cell_type": "markdown",
   "metadata": {
    "id": "cisYd20thXyF"
   },
   "source": [
    "## ElasticNet Regression"
   ]
  },
  {
   "cell_type": "code",
   "execution_count": 15,
   "metadata": {
    "id": "NxhiiDWFhXyG",
    "outputId": "1278e122-13d6-4133-c032-916a763e24cc"
   },
   "outputs": [
    {
     "name": "stdout",
     "output_type": "stream",
     "text": [
      "ElasticNet Score= 1350950.3013892474\n"
     ]
    }
   ],
   "source": [
    "elastic_net = make_pipeline(RobustScaler(), ElasticNet(alpha=0.0005, l1_ratio= .9, random_state= random_state))\n",
    "\n",
    "score = rmse(elastic_net)\n",
    "models_scores.append(['ElasticNet', score])\n",
    "print(f'ElasticNet Score= {score}')"
   ]
  },
  {
   "cell_type": "markdown",
   "metadata": {
    "id": "iftC5FV3hXyG"
   },
   "source": [
    "## KernelRidge Regression"
   ]
  },
  {
   "cell_type": "code",
   "execution_count": 16,
   "metadata": {
    "id": "DcJhcCdYhXyG"
   },
   "outputs": [],
   "source": [
    "# kernel_ridge= KernelRidge(alpha=0.6, kernel='polynomial', degree=2, coef0=2.5)\n",
    "# score = rmse(kernel_ridge)\n",
    "# models_scores.append(['KernelRidge', score])\n",
    "# print(f'KernelRidge Score= {score}')"
   ]
  },
  {
   "cell_type": "markdown",
   "metadata": {
    "id": "T9l84xu_hXyH"
   },
   "source": [
    "## Rank scores"
   ]
  },
  {
   "cell_type": "code",
   "execution_count": 17,
   "metadata": {
    "id": "4AucNqXthXyH",
    "outputId": "03bd8991-0cd0-4ddc-d45c-db87668d2adf"
   },
   "outputs": [
    {
     "data": {
      "text/html": [
       "<div>\n",
       "<style scoped>\n",
       "    .dataframe tbody tr th:only-of-type {\n",
       "        vertical-align: middle;\n",
       "    }\n",
       "\n",
       "    .dataframe tbody tr th {\n",
       "        vertical-align: top;\n",
       "    }\n",
       "\n",
       "    .dataframe thead th {\n",
       "        text-align: right;\n",
       "    }\n",
       "</style>\n",
       "<table border=\"1\" class=\"dataframe\">\n",
       "  <thead>\n",
       "    <tr style=\"text-align: right;\">\n",
       "      <th></th>\n",
       "      <th>0</th>\n",
       "      <th>1</th>\n",
       "    </tr>\n",
       "  </thead>\n",
       "  <tbody>\n",
       "    <tr>\n",
       "      <th>2</th>\n",
       "      <td>ElasticNet</td>\n",
       "      <td>1.350950e+06</td>\n",
       "    </tr>\n",
       "    <tr>\n",
       "      <th>1</th>\n",
       "      <td>Lasso</td>\n",
       "      <td>1.350950e+06</td>\n",
       "    </tr>\n",
       "    <tr>\n",
       "      <th>0</th>\n",
       "      <td>LinearRegression</td>\n",
       "      <td>1.350950e+06</td>\n",
       "    </tr>\n",
       "  </tbody>\n",
       "</table>\n",
       "</div>"
      ],
      "text/plain": [
       "                  0             1\n",
       "2        ElasticNet  1.350950e+06\n",
       "1             Lasso  1.350950e+06\n",
       "0  LinearRegression  1.350950e+06"
      ]
     },
     "execution_count": 17,
     "metadata": {},
     "output_type": "execute_result"
    }
   ],
   "source": [
    "pd.DataFrame(models_scores).sort_values(by=[1], ascending=True)"
   ]
  },
  {
   "cell_type": "markdown",
   "metadata": {
    "id": "SuXN38zYhXyH"
   },
   "source": [
    "# Ensemble Modeling "
   ]
  },
  {
   "cell_type": "code",
   "execution_count": 18,
   "metadata": {
    "id": "JpdFCc4thXyH",
    "outputId": "5f732c41-3f45-4429-be31-aeb5885d5024"
   },
   "outputs": [
    {
     "name": "stdout",
     "output_type": "stream",
     "text": [
      "RMSE for base estimator Pipeline(steps=[('linearregression', LinearRegression())]) = 1350944.6626265005\n",
      "\n",
      "RMSE for base estimator Pipeline(steps=[('robustscaler', RobustScaler()),\n",
      "                ('lasso', Lasso(alpha=0.0005, random_state=42))]) = 1350944.6626075224\n",
      "\n",
      "RMSE for base estimator Pipeline(steps=[('robustscaler', RobustScaler()),\n",
      "                ('elasticnet',\n",
      "                 ElasticNet(alpha=0.0005, l1_ratio=0.9, random_state=42))]) = 1350944.5759043652\n",
      "\n",
      "Bagged predictions shape: (24364, 3)\n",
      "Aggregated predictions (y_pred) shape (24364,)\n",
      "\n",
      "Bagging RMSE= 1350944.63368362\n"
     ]
    }
   ],
   "source": [
    "def bagging_predictions(estimator):\n",
    "    \"\"\"\n",
    "    I/P\n",
    "    estimator: The base estimator from which the ensemble is grown.\n",
    "    O/P\n",
    "    br_y_pred: Predictions on test data for the base estimator.\n",
    "    \n",
    "    \"\"\"\n",
    "    regr = BaggingRegressor(base_estimator=estimator,\n",
    "                            n_estimators=10,\n",
    "                            max_samples=1.0,\n",
    "                            bootstrap=True, # Samples are drawn with replacement\n",
    "                            n_jobs= n_jobs,\n",
    "                            random_state=random_state).fit(X_train, y_train)\n",
    "\n",
    "    br_y_pred = regr.predict(X_test)\n",
    "\n",
    "    rmse_val = mean_squared_error(y_test, br_y_pred, squared= False) # squared= False > returns Root Mean Square Error   \n",
    "\n",
    "    print(f'RMSE for base estimator {regr.base_estimator_} = {rmse_val}\\n')\n",
    "    return br_y_pred\n",
    "\n",
    "\n",
    "predictions = np.column_stack((bagging_predictions(linear_regression),\n",
    "                              bagging_predictions(lasso),\n",
    "                              bagging_predictions(elastic_net)))\n",
    "#                               bagging_predictions(kernel_ridge)))\n",
    "print(f\"Bagged predictions shape: {predictions.shape}\")\n",
    "       \n",
    "y_pred = np.mean(predictions, axis=1)\n",
    "print(\"Aggregated predictions (y_pred) shape\", y_pred.shape)\n",
    "\n",
    "rmse_val = mean_squared_error(y_test, y_pred, squared= False) # squared= False > returns Root Mean Square Error   \n",
    "models_scores.append(['Bagging', rmse_val])\n",
    "\n",
    "print(f'\\nBagging RMSE= {rmse_val}')"
   ]
  },
  {
   "cell_type": "markdown",
   "metadata": {
    "id": "eXLPnKsqhXyI"
   },
   "source": [
    "## Rank scores"
   ]
  },
  {
   "cell_type": "code",
   "execution_count": 19,
   "metadata": {
    "id": "WaPDUeLHhXyJ",
    "outputId": "6fcc5aa1-0ccd-49c1-f018-16fe3bc0dc3d"
   },
   "outputs": [
    {
     "data": {
      "text/html": [
       "<div>\n",
       "<style scoped>\n",
       "    .dataframe tbody tr th:only-of-type {\n",
       "        vertical-align: middle;\n",
       "    }\n",
       "\n",
       "    .dataframe tbody tr th {\n",
       "        vertical-align: top;\n",
       "    }\n",
       "\n",
       "    .dataframe thead th {\n",
       "        text-align: right;\n",
       "    }\n",
       "</style>\n",
       "<table border=\"1\" class=\"dataframe\">\n",
       "  <thead>\n",
       "    <tr style=\"text-align: right;\">\n",
       "      <th></th>\n",
       "      <th>0</th>\n",
       "      <th>1</th>\n",
       "    </tr>\n",
       "  </thead>\n",
       "  <tbody>\n",
       "    <tr>\n",
       "      <th>3</th>\n",
       "      <td>Bagging</td>\n",
       "      <td>1.350945e+06</td>\n",
       "    </tr>\n",
       "    <tr>\n",
       "      <th>2</th>\n",
       "      <td>ElasticNet</td>\n",
       "      <td>1.350950e+06</td>\n",
       "    </tr>\n",
       "    <tr>\n",
       "      <th>1</th>\n",
       "      <td>Lasso</td>\n",
       "      <td>1.350950e+06</td>\n",
       "    </tr>\n",
       "    <tr>\n",
       "      <th>0</th>\n",
       "      <td>LinearRegression</td>\n",
       "      <td>1.350950e+06</td>\n",
       "    </tr>\n",
       "  </tbody>\n",
       "</table>\n",
       "</div>"
      ],
      "text/plain": [
       "                  0             1\n",
       "3           Bagging  1.350945e+06\n",
       "2        ElasticNet  1.350950e+06\n",
       "1             Lasso  1.350950e+06\n",
       "0  LinearRegression  1.350950e+06"
      ]
     },
     "execution_count": 19,
     "metadata": {},
     "output_type": "execute_result"
    }
   ],
   "source": [
    "pd.DataFrame(models_scores).sort_values(by=[1], ascending=True)"
   ]
  },
  {
   "cell_type": "markdown",
   "metadata": {
    "id": "AihoSNJJhXyJ"
   },
   "source": [
    "# Boosting "
   ]
  },
  {
   "cell_type": "markdown",
   "metadata": {
    "id": "u0qQvf3ghXyJ"
   },
   "source": [
    "## GradientBoostingRegressor ¶"
   ]
  },
  {
   "cell_type": "code",
   "execution_count": 21,
   "metadata": {
    "id": "F6NYRE3dhXyJ",
    "outputId": "7ee0199b-bf60-4d7c-ca0d-302aba5905b8"
   },
   "outputs": [
    {
     "name": "stdout",
     "output_type": "stream",
     "text": [
      "GradientBoostingRegressor Score= 1341671.4603304362\n",
      "CPU times: user 2min 4s, sys: 181 ms, total: 2min 5s\n",
      "Wall time: 2min 5s\n"
     ]
    }
   ],
   "source": [
    "%%time\n",
    "gradient_boosting_regressor= GradientBoostingRegressor(n_estimators=3000, learning_rate=0.05,\n",
    "                                   max_depth=4, max_features='sqrt',\n",
    "                                   min_samples_leaf=15, min_samples_split=10, \n",
    "                                   loss='huber', random_state = random_state)\n",
    "\n",
    "score = rmse(gradient_boosting_regressor)\n",
    "models_scores.append(['GradientBoostingRegressor', score])\n",
    "print(f'GradientBoostingRegressor Score= {score}')"
   ]
  },
  {
   "cell_type": "markdown",
   "metadata": {
    "code_folding": [],
    "id": "z-JB_JAbhXyK"
   },
   "source": [
    "## XGBRegressor "
   ]
  },
  {
   "cell_type": "code",
   "execution_count": 22,
   "metadata": {
    "id": "cWkRQBS0hXyK",
    "outputId": "d406f210-b4f5-404c-8345-dfeb187c6ff6"
   },
   "outputs": [
    {
     "name": "stdout",
     "output_type": "stream",
     "text": [
      "XGBRegressor Score= 1340396.208137092\n",
      "CPU times: user 51.8 s, sys: 1.34 s, total: 53.2 s\n",
      "Wall time: 27.1 s\n"
     ]
    }
   ],
   "source": [
    "%%time\n",
    "xgb_regressor= xgb.XGBRegressor(colsample_bytree=0.4603, gamma=0.0468, \n",
    "                             learning_rate=0.05, max_depth=3, \n",
    "                             min_child_weight=1.7817, n_estimators=2200,\n",
    "                             reg_alpha=0.4640, reg_lambda=0.8571,\n",
    "                             subsample=0.5213,verbosity=0, nthread = -1, random_state = random_state)\n",
    "score = rmse(xgb_regressor)\n",
    "models_scores.append(['XGBRegressor', score])\n",
    "print(f'XGBRegressor Score= {score}')"
   ]
  },
  {
   "cell_type": "markdown",
   "metadata": {
    "id": "WmtN-F78hXyK"
   },
   "source": [
    "## LGBMRegressor "
   ]
  },
  {
   "cell_type": "code",
   "execution_count": null,
   "metadata": {
    "id": "3Z0OoX5MhXyK"
   },
   "outputs": [],
   "source": [
    "# lgbm_regressor= lgb.LGBMRegressor(objective='regression',num_leaves=5,\n",
    "#                               learning_rate=0.05, n_estimators=720,\n",
    "#                               max_bin = 55, bagging_fraction = 0.8,\n",
    "#                               bagging_freq = 5, feature_fraction = 0.2319,\n",
    "#                               feature_fraction_seed=9, bagging_seed=9,\n",
    "#                               min_data_in_leaf =6, min_sum_hessian_in_leaf = 11,random_state = random_state)\n",
    "\n",
    "# score = rmse(lgbm_regressor)\n",
    "# models_scores.append(['LGBMRegressor', score])\n",
    "# print(f'LGBMRegressor Score= {score}')"
   ]
  },
  {
   "cell_type": "markdown",
   "metadata": {
    "id": "vyUq3e0DhXyL"
   },
   "source": [
    "## Stacking"
   ]
  },
  {
   "cell_type": "code",
   "execution_count": 23,
   "metadata": {
    "id": "n78D6ckShXyL",
    "outputId": "4ed8f1d9-2e72-452a-e881-42316eb8feec"
   },
   "outputs": [
    {
     "name": "stdout",
     "output_type": "stream",
     "text": [
      "rmse= 1339957.6616030487\n",
      "CPU times: user 3.37 s, sys: 454 ms, total: 3.83 s\n",
      "Wall time: 9min 12s\n"
     ]
    }
   ],
   "source": [
    "%%time\n",
    "estimators = [ ('linear_regression', linear_regression), ('gradient_boosting_regressor', gradient_boosting_regressor),\n",
    "              ('xgb_regressor', xgb_regressor) ]\n",
    "\n",
    "stack = StackingRegressor(estimators=estimators, final_estimator= lasso, cv= 5, n_jobs= n_jobs, passthrough = True)\n",
    "\n",
    "stack.fit(X_train, y_train)\n",
    "\n",
    "pred = stack.predict(X_test)\n",
    "\n",
    "rmse_val = mean_squared_error(y_test, pred, squared= False) # squared= False > returns Root Mean Square Error    \n",
    "models_scores.append(['Stacking', rmse_val])\n",
    "print(f'rmse= {rmse_val}')"
   ]
  },
  {
   "cell_type": "markdown",
   "metadata": {
    "id": "0RvG9-7RhXyL"
   },
   "source": [
    "## Rank scores"
   ]
  },
  {
   "cell_type": "code",
   "execution_count": 24,
   "metadata": {
    "id": "JksX-JhEhXyL",
    "outputId": "8255d835-a1ea-43bf-f371-dcfa9dd68400"
   },
   "outputs": [
    {
     "data": {
      "text/html": [
       "<div>\n",
       "<style scoped>\n",
       "    .dataframe tbody tr th:only-of-type {\n",
       "        vertical-align: middle;\n",
       "    }\n",
       "\n",
       "    .dataframe tbody tr th {\n",
       "        vertical-align: top;\n",
       "    }\n",
       "\n",
       "    .dataframe thead th {\n",
       "        text-align: right;\n",
       "    }\n",
       "</style>\n",
       "<table border=\"1\" class=\"dataframe\">\n",
       "  <thead>\n",
       "    <tr style=\"text-align: right;\">\n",
       "      <th></th>\n",
       "      <th>0</th>\n",
       "      <th>1</th>\n",
       "    </tr>\n",
       "  </thead>\n",
       "  <tbody>\n",
       "    <tr>\n",
       "      <th>6</th>\n",
       "      <td>Stacking</td>\n",
       "      <td>1.339958e+06</td>\n",
       "    </tr>\n",
       "    <tr>\n",
       "      <th>5</th>\n",
       "      <td>XGBRegressor</td>\n",
       "      <td>1.340396e+06</td>\n",
       "    </tr>\n",
       "    <tr>\n",
       "      <th>4</th>\n",
       "      <td>GradientBoostingRegressor</td>\n",
       "      <td>1.341671e+06</td>\n",
       "    </tr>\n",
       "    <tr>\n",
       "      <th>3</th>\n",
       "      <td>Bagging</td>\n",
       "      <td>1.350945e+06</td>\n",
       "    </tr>\n",
       "    <tr>\n",
       "      <th>2</th>\n",
       "      <td>ElasticNet</td>\n",
       "      <td>1.350950e+06</td>\n",
       "    </tr>\n",
       "    <tr>\n",
       "      <th>1</th>\n",
       "      <td>Lasso</td>\n",
       "      <td>1.350950e+06</td>\n",
       "    </tr>\n",
       "    <tr>\n",
       "      <th>0</th>\n",
       "      <td>LinearRegression</td>\n",
       "      <td>1.350950e+06</td>\n",
       "    </tr>\n",
       "  </tbody>\n",
       "</table>\n",
       "</div>"
      ],
      "text/plain": [
       "                           0             1\n",
       "6                   Stacking  1.339958e+06\n",
       "5               XGBRegressor  1.340396e+06\n",
       "4  GradientBoostingRegressor  1.341671e+06\n",
       "3                    Bagging  1.350945e+06\n",
       "2                 ElasticNet  1.350950e+06\n",
       "1                      Lasso  1.350950e+06\n",
       "0           LinearRegression  1.350950e+06"
      ]
     },
     "execution_count": 24,
     "metadata": {},
     "output_type": "execute_result"
    }
   ],
   "source": [
    "# Ranking the scores of each model\n",
    "pd.DataFrame(models_scores).sort_values(by=[1], ascending=True)                                                                         "
   ]
  },
  {
   "cell_type": "markdown",
   "metadata": {
    "id": "n3gJhMvahXyL"
   },
   "source": [
    "# Predict"
   ]
  },
  {
   "cell_type": "code",
   "execution_count": 26,
   "metadata": {
    "id": "v4xut24vhXyM"
   },
   "outputs": [
    {
     "name": "stdout",
     "output_type": "stream",
     "text": [
      "CPU times: user 4.73 s, sys: 55.9 ms, total: 4.78 s\n",
      "Wall time: 3.82 s\n"
     ]
    }
   ],
   "source": [
    "%%time\n",
    "yPred = stack.predict(xDf)"
   ]
  },
  {
   "cell_type": "code",
   "execution_count": 27,
   "metadata": {
    "id": "xkppsRcAhXyM",
    "outputId": "333fc9e6-28a8-4dfe-bb97-2e08bb124d6b"
   },
   "outputs": [
    {
     "name": "stdout",
     "output_type": "stream",
     "text": [
      "CPU times: user 350 µs, sys: 5 µs, total: 355 µs\n",
      "Wall time: 360 µs\n"
     ]
    },
    {
     "data": {
      "text/html": [
       "<div>\n",
       "<style scoped>\n",
       "    .dataframe tbody tr th:only-of-type {\n",
       "        vertical-align: middle;\n",
       "    }\n",
       "\n",
       "    .dataframe tbody tr th {\n",
       "        vertical-align: top;\n",
       "    }\n",
       "\n",
       "    .dataframe thead th {\n",
       "        text-align: right;\n",
       "    }\n",
       "</style>\n",
       "<table border=\"1\" class=\"dataframe\">\n",
       "  <thead>\n",
       "    <tr style=\"text-align: right;\">\n",
       "      <th></th>\n",
       "      <th>pred</th>\n",
       "    </tr>\n",
       "  </thead>\n",
       "  <tbody>\n",
       "    <tr>\n",
       "      <th>0</th>\n",
       "      <td>608990.363867</td>\n",
       "    </tr>\n",
       "    <tr>\n",
       "      <th>1</th>\n",
       "      <td>611683.203384</td>\n",
       "    </tr>\n",
       "    <tr>\n",
       "      <th>2</th>\n",
       "      <td>673593.911057</td>\n",
       "    </tr>\n",
       "    <tr>\n",
       "      <th>3</th>\n",
       "      <td>607951.446442</td>\n",
       "    </tr>\n",
       "    <tr>\n",
       "      <th>4</th>\n",
       "      <td>699300.484182</td>\n",
       "    </tr>\n",
       "    <tr>\n",
       "      <th>...</th>\n",
       "      <td>...</td>\n",
       "    </tr>\n",
       "    <tr>\n",
       "      <th>121815</th>\n",
       "      <td>390455.396095</td>\n",
       "    </tr>\n",
       "    <tr>\n",
       "      <th>121816</th>\n",
       "      <td>361367.770272</td>\n",
       "    </tr>\n",
       "    <tr>\n",
       "      <th>121817</th>\n",
       "      <td>291676.034978</td>\n",
       "    </tr>\n",
       "    <tr>\n",
       "      <th>121818</th>\n",
       "      <td>460680.348054</td>\n",
       "    </tr>\n",
       "    <tr>\n",
       "      <th>121819</th>\n",
       "      <td>376793.602951</td>\n",
       "    </tr>\n",
       "  </tbody>\n",
       "</table>\n",
       "<p>121820 rows × 1 columns</p>\n",
       "</div>"
      ],
      "text/plain": [
       "                 pred\n",
       "0       608990.363867\n",
       "1       611683.203384\n",
       "2       673593.911057\n",
       "3       607951.446442\n",
       "4       699300.484182\n",
       "...               ...\n",
       "121815  390455.396095\n",
       "121816  361367.770272\n",
       "121817  291676.034978\n",
       "121818  460680.348054\n",
       "121819  376793.602951\n",
       "\n",
       "[121820 rows x 1 columns]"
      ]
     },
     "execution_count": 27,
     "metadata": {},
     "output_type": "execute_result"
    }
   ],
   "source": [
    "%%time\n",
    "StackPred = pd.DataFrame(yPred, columns = ['pred'])\n",
    "StackPred"
   ]
  },
  {
   "cell_type": "code",
   "execution_count": 31,
   "metadata": {
    "id": "A5YoiESKhXyM",
    "outputId": "28577c3a-077e-4350-f1a3-8fa98cad9395"
   },
   "outputs": [
    {
     "data": {
      "text/html": [
       "<div>\n",
       "<style scoped>\n",
       "    .dataframe tbody tr th:only-of-type {\n",
       "        vertical-align: middle;\n",
       "    }\n",
       "\n",
       "    .dataframe tbody tr th {\n",
       "        vertical-align: top;\n",
       "    }\n",
       "\n",
       "    .dataframe thead th {\n",
       "        text-align: right;\n",
       "    }\n",
       "</style>\n",
       "<table border=\"1\" class=\"dataframe\">\n",
       "  <thead>\n",
       "    <tr style=\"text-align: right;\">\n",
       "      <th></th>\n",
       "      <th>Address</th>\n",
       "      <th>Area</th>\n",
       "      <th>St</th>\n",
       "      <th>交易年月日</th>\n",
       "      <th>year</th>\n",
       "      <th>交易標的</th>\n",
       "      <th>交易筆棟數</th>\n",
       "      <th>建物型態</th>\n",
       "      <th>建物現況格局.廳</th>\n",
       "      <th>建物現況格局.房</th>\n",
       "      <th>建物現況格局.衛</th>\n",
       "      <th>建物現況格局.隔間</th>\n",
       "      <th>有無管理組織</th>\n",
       "      <th>總價元</th>\n",
       "      <th>總坪數</th>\n",
       "      <th>單價元坪</th>\n",
       "      <th>車位數</th>\n",
       "      <th>floor</th>\n",
       "      <th>EightCount</th>\n",
       "      <th>ParkCount</th>\n",
       "      <th>FuneralCount</th>\n",
       "      <th>GasCount</th>\n",
       "      <th>CrimeCount</th>\n",
       "      <th>PoliceCount</th>\n",
       "      <th>busCount</th>\n",
       "      <th>subwayCount</th>\n",
       "      <th>govCount</th>\n",
       "      <th>clinicCount</th>\n",
       "      <th>hospitalCount</th>\n",
       "      <th>pharmacyCount</th>\n",
       "      <th>fireareaCount</th>\n",
       "      <th>firewayCount</th>\n",
       "      <th>martCount</th>\n",
       "      <th>mallCount</th>\n",
       "      <th>cinemaCount</th>\n",
       "      <th>土地面積</th>\n",
       "      <th>總人口數</th>\n",
       "      <th>男性人數</th>\n",
       "      <th>女性人數</th>\n",
       "      <th>人口密度</th>\n",
       "      <th>每戶人數</th>\n",
       "      <th>每戶成年人數</th>\n",
       "      <th>所得收入總計</th>\n",
       "      <th>可支配所得</th>\n",
       "      <th>消費支出</th>\n",
       "      <th>儲蓄</th>\n",
       "      <th>所得總額</th>\n",
       "      <th>Lontitude</th>\n",
       "      <th>Latitude</th>\n",
       "      <th>pred</th>\n",
       "    </tr>\n",
       "  </thead>\n",
       "  <tbody>\n",
       "    <tr>\n",
       "      <th>0</th>\n",
       "      <td>臺北市中山區一江街1~30號</td>\n",
       "      <td>中山區</td>\n",
       "      <td>一江街</td>\n",
       "      <td>1041208</td>\n",
       "      <td>2015</td>\n",
       "      <td>房地(土地+建物)</td>\n",
       "      <td>土地1建物1車位0</td>\n",
       "      <td>華廈</td>\n",
       "      <td>2</td>\n",
       "      <td>5</td>\n",
       "      <td>3</td>\n",
       "      <td>有</td>\n",
       "      <td>無</td>\n",
       "      <td>16800000.0</td>\n",
       "      <td>68.132075</td>\n",
       "      <td>246580.260178</td>\n",
       "      <td>0</td>\n",
       "      <td>7</td>\n",
       "      <td>77</td>\n",
       "      <td>8</td>\n",
       "      <td>132</td>\n",
       "      <td>7</td>\n",
       "      <td>904</td>\n",
       "      <td>13</td>\n",
       "      <td>280</td>\n",
       "      <td>8</td>\n",
       "      <td>33</td>\n",
       "      <td>486</td>\n",
       "      <td>4</td>\n",
       "      <td>98</td>\n",
       "      <td>80</td>\n",
       "      <td>18</td>\n",
       "      <td>11</td>\n",
       "      <td>6</td>\n",
       "      <td>5</td>\n",
       "      <td>13.6821</td>\n",
       "      <td>224707</td>\n",
       "      <td>104138</td>\n",
       "      <td>120569</td>\n",
       "      <td>16423</td>\n",
       "      <td>2.89</td>\n",
       "      <td>2.51</td>\n",
       "      <td>1614178</td>\n",
       "      <td>1339702</td>\n",
       "      <td>1071429</td>\n",
       "      <td>268273</td>\n",
       "      <td>1720988</td>\n",
       "      <td>121.531568</td>\n",
       "      <td>25.050704</td>\n",
       "      <td>608990.363867</td>\n",
       "    </tr>\n",
       "    <tr>\n",
       "      <th>1</th>\n",
       "      <td>臺北市中山區一江街1~30號</td>\n",
       "      <td>中山區</td>\n",
       "      <td>一江街</td>\n",
       "      <td>1080827</td>\n",
       "      <td>2019</td>\n",
       "      <td>房地(土地+建物)</td>\n",
       "      <td>土地2建物1車位0</td>\n",
       "      <td>華廈</td>\n",
       "      <td>2</td>\n",
       "      <td>2</td>\n",
       "      <td>2</td>\n",
       "      <td>有</td>\n",
       "      <td>無</td>\n",
       "      <td>23000000.0</td>\n",
       "      <td>32.228350</td>\n",
       "      <td>713658.438145</td>\n",
       "      <td>0</td>\n",
       "      <td>7</td>\n",
       "      <td>77</td>\n",
       "      <td>8</td>\n",
       "      <td>132</td>\n",
       "      <td>7</td>\n",
       "      <td>904</td>\n",
       "      <td>13</td>\n",
       "      <td>280</td>\n",
       "      <td>8</td>\n",
       "      <td>33</td>\n",
       "      <td>486</td>\n",
       "      <td>4</td>\n",
       "      <td>98</td>\n",
       "      <td>80</td>\n",
       "      <td>18</td>\n",
       "      <td>11</td>\n",
       "      <td>6</td>\n",
       "      <td>5</td>\n",
       "      <td>13.6821</td>\n",
       "      <td>224707</td>\n",
       "      <td>104138</td>\n",
       "      <td>120569</td>\n",
       "      <td>16423</td>\n",
       "      <td>2.89</td>\n",
       "      <td>2.51</td>\n",
       "      <td>1614178</td>\n",
       "      <td>1339702</td>\n",
       "      <td>1071429</td>\n",
       "      <td>268273</td>\n",
       "      <td>1720988</td>\n",
       "      <td>121.531568</td>\n",
       "      <td>25.050704</td>\n",
       "      <td>611683.203384</td>\n",
       "    </tr>\n",
       "  </tbody>\n",
       "</table>\n",
       "</div>"
      ],
      "text/plain": [
       "          Address Area   St    交易年月日  year       交易標的      交易筆棟數 建物型態  \\\n",
       "0  臺北市中山區一江街1~30號  中山區  一江街  1041208  2015  房地(土地+建物)  土地1建物1車位0   華廈   \n",
       "1  臺北市中山區一江街1~30號  中山區  一江街  1080827  2019  房地(土地+建物)  土地2建物1車位0   華廈   \n",
       "\n",
       "   建物現況格局.廳  建物現況格局.房  建物現況格局.衛 建物現況格局.隔間 有無管理組織         總價元        總坪數  \\\n",
       "0         2         5         3         有      無  16800000.0  68.132075   \n",
       "1         2         2         2         有      無  23000000.0  32.228350   \n",
       "\n",
       "            單價元坪  車位數  floor  EightCount  ParkCount  FuneralCount  GasCount  \\\n",
       "0  246580.260178    0      7          77          8           132         7   \n",
       "1  713658.438145    0      7          77          8           132         7   \n",
       "\n",
       "   CrimeCount  PoliceCount  busCount  subwayCount  govCount  clinicCount  \\\n",
       "0         904           13       280            8        33          486   \n",
       "1         904           13       280            8        33          486   \n",
       "\n",
       "   hospitalCount  pharmacyCount  fireareaCount  firewayCount  martCount  \\\n",
       "0              4             98             80            18         11   \n",
       "1              4             98             80            18         11   \n",
       "\n",
       "   mallCount  cinemaCount     土地面積    總人口數    男性人數    女性人數   人口密度  每戶人數  \\\n",
       "0          6            5  13.6821  224707  104138  120569  16423  2.89   \n",
       "1          6            5  13.6821  224707  104138  120569  16423  2.89   \n",
       "\n",
       "   每戶成年人數   所得收入總計    可支配所得     消費支出      儲蓄     所得總額   Lontitude   Latitude  \\\n",
       "0    2.51  1614178  1339702  1071429  268273  1720988  121.531568  25.050704   \n",
       "1    2.51  1614178  1339702  1071429  268273  1720988  121.531568  25.050704   \n",
       "\n",
       "            pred  \n",
       "0  608990.363867  \n",
       "1  611683.203384  "
      ]
     },
     "execution_count": 31,
     "metadata": {},
     "output_type": "execute_result"
    }
   ],
   "source": [
    "result = pd.concat([df, StackPred], axis=1)#.drop([\"Unnamed: 0\"], axis=1)\n",
    "result.head(2)"
   ]
  },
  {
   "cell_type": "code",
   "execution_count": 32,
   "metadata": {
    "id": "fMFQge4OhXyM"
   },
   "outputs": [],
   "source": [
    "result[\"漲跌\"] = round(result[\"單價元坪\"]-result[\"pred\"], 2)"
   ]
  },
  {
   "cell_type": "code",
   "execution_count": 33,
   "metadata": {
    "id": "L8-zOTKphXyM",
    "outputId": "9a6db4fb-231e-466d-fbc7-6becbd9dc6ff"
   },
   "outputs": [
    {
     "data": {
      "text/html": [
       "<div>\n",
       "<style scoped>\n",
       "    .dataframe tbody tr th:only-of-type {\n",
       "        vertical-align: middle;\n",
       "    }\n",
       "\n",
       "    .dataframe tbody tr th {\n",
       "        vertical-align: top;\n",
       "    }\n",
       "\n",
       "    .dataframe thead th {\n",
       "        text-align: right;\n",
       "    }\n",
       "</style>\n",
       "<table border=\"1\" class=\"dataframe\">\n",
       "  <thead>\n",
       "    <tr style=\"text-align: right;\">\n",
       "      <th></th>\n",
       "      <th>Address</th>\n",
       "      <th>Area</th>\n",
       "      <th>St</th>\n",
       "      <th>交易年月日</th>\n",
       "      <th>year</th>\n",
       "      <th>交易標的</th>\n",
       "      <th>交易筆棟數</th>\n",
       "      <th>建物型態</th>\n",
       "      <th>建物現況格局.廳</th>\n",
       "      <th>建物現況格局.房</th>\n",
       "      <th>建物現況格局.衛</th>\n",
       "      <th>建物現況格局.隔間</th>\n",
       "      <th>有無管理組織</th>\n",
       "      <th>總價元</th>\n",
       "      <th>總坪數</th>\n",
       "      <th>單價元坪</th>\n",
       "      <th>車位數</th>\n",
       "      <th>floor</th>\n",
       "      <th>EightCount</th>\n",
       "      <th>ParkCount</th>\n",
       "      <th>FuneralCount</th>\n",
       "      <th>GasCount</th>\n",
       "      <th>CrimeCount</th>\n",
       "      <th>PoliceCount</th>\n",
       "      <th>busCount</th>\n",
       "      <th>subwayCount</th>\n",
       "      <th>govCount</th>\n",
       "      <th>clinicCount</th>\n",
       "      <th>hospitalCount</th>\n",
       "      <th>pharmacyCount</th>\n",
       "      <th>fireareaCount</th>\n",
       "      <th>firewayCount</th>\n",
       "      <th>martCount</th>\n",
       "      <th>mallCount</th>\n",
       "      <th>cinemaCount</th>\n",
       "      <th>土地面積</th>\n",
       "      <th>總人口數</th>\n",
       "      <th>男性人數</th>\n",
       "      <th>女性人數</th>\n",
       "      <th>人口密度</th>\n",
       "      <th>每戶人數</th>\n",
       "      <th>每戶成年人數</th>\n",
       "      <th>所得收入總計</th>\n",
       "      <th>可支配所得</th>\n",
       "      <th>消費支出</th>\n",
       "      <th>儲蓄</th>\n",
       "      <th>所得總額</th>\n",
       "      <th>Lontitude</th>\n",
       "      <th>Latitude</th>\n",
       "      <th>pred</th>\n",
       "      <th>漲跌</th>\n",
       "    </tr>\n",
       "  </thead>\n",
       "  <tbody>\n",
       "    <tr>\n",
       "      <th>0</th>\n",
       "      <td>臺北市中山區一江街1~30號</td>\n",
       "      <td>中山區</td>\n",
       "      <td>一江街</td>\n",
       "      <td>1041208</td>\n",
       "      <td>2015</td>\n",
       "      <td>房地(土地+建物)</td>\n",
       "      <td>土地1建物1車位0</td>\n",
       "      <td>華廈</td>\n",
       "      <td>2</td>\n",
       "      <td>5</td>\n",
       "      <td>3</td>\n",
       "      <td>有</td>\n",
       "      <td>無</td>\n",
       "      <td>16800000.0</td>\n",
       "      <td>68.132075</td>\n",
       "      <td>246580.260178</td>\n",
       "      <td>0</td>\n",
       "      <td>7</td>\n",
       "      <td>77</td>\n",
       "      <td>8</td>\n",
       "      <td>132</td>\n",
       "      <td>7</td>\n",
       "      <td>904</td>\n",
       "      <td>13</td>\n",
       "      <td>280</td>\n",
       "      <td>8</td>\n",
       "      <td>33</td>\n",
       "      <td>486</td>\n",
       "      <td>4</td>\n",
       "      <td>98</td>\n",
       "      <td>80</td>\n",
       "      <td>18</td>\n",
       "      <td>11</td>\n",
       "      <td>6</td>\n",
       "      <td>5</td>\n",
       "      <td>13.6821</td>\n",
       "      <td>224707</td>\n",
       "      <td>104138</td>\n",
       "      <td>120569</td>\n",
       "      <td>16423</td>\n",
       "      <td>2.89</td>\n",
       "      <td>2.51</td>\n",
       "      <td>1614178</td>\n",
       "      <td>1339702</td>\n",
       "      <td>1071429</td>\n",
       "      <td>268273</td>\n",
       "      <td>1720988</td>\n",
       "      <td>121.531568</td>\n",
       "      <td>25.050704</td>\n",
       "      <td>608990.363867</td>\n",
       "      <td>-362410.10</td>\n",
       "    </tr>\n",
       "    <tr>\n",
       "      <th>1</th>\n",
       "      <td>臺北市中山區一江街1~30號</td>\n",
       "      <td>中山區</td>\n",
       "      <td>一江街</td>\n",
       "      <td>1080827</td>\n",
       "      <td>2019</td>\n",
       "      <td>房地(土地+建物)</td>\n",
       "      <td>土地2建物1車位0</td>\n",
       "      <td>華廈</td>\n",
       "      <td>2</td>\n",
       "      <td>2</td>\n",
       "      <td>2</td>\n",
       "      <td>有</td>\n",
       "      <td>無</td>\n",
       "      <td>23000000.0</td>\n",
       "      <td>32.228350</td>\n",
       "      <td>713658.438145</td>\n",
       "      <td>0</td>\n",
       "      <td>7</td>\n",
       "      <td>77</td>\n",
       "      <td>8</td>\n",
       "      <td>132</td>\n",
       "      <td>7</td>\n",
       "      <td>904</td>\n",
       "      <td>13</td>\n",
       "      <td>280</td>\n",
       "      <td>8</td>\n",
       "      <td>33</td>\n",
       "      <td>486</td>\n",
       "      <td>4</td>\n",
       "      <td>98</td>\n",
       "      <td>80</td>\n",
       "      <td>18</td>\n",
       "      <td>11</td>\n",
       "      <td>6</td>\n",
       "      <td>5</td>\n",
       "      <td>13.6821</td>\n",
       "      <td>224707</td>\n",
       "      <td>104138</td>\n",
       "      <td>120569</td>\n",
       "      <td>16423</td>\n",
       "      <td>2.89</td>\n",
       "      <td>2.51</td>\n",
       "      <td>1614178</td>\n",
       "      <td>1339702</td>\n",
       "      <td>1071429</td>\n",
       "      <td>268273</td>\n",
       "      <td>1720988</td>\n",
       "      <td>121.531568</td>\n",
       "      <td>25.050704</td>\n",
       "      <td>611683.203384</td>\n",
       "      <td>101975.23</td>\n",
       "    </tr>\n",
       "  </tbody>\n",
       "</table>\n",
       "</div>"
      ],
      "text/plain": [
       "          Address Area   St    交易年月日  year       交易標的      交易筆棟數 建物型態  \\\n",
       "0  臺北市中山區一江街1~30號  中山區  一江街  1041208  2015  房地(土地+建物)  土地1建物1車位0   華廈   \n",
       "1  臺北市中山區一江街1~30號  中山區  一江街  1080827  2019  房地(土地+建物)  土地2建物1車位0   華廈   \n",
       "\n",
       "   建物現況格局.廳  建物現況格局.房  建物現況格局.衛 建物現況格局.隔間 有無管理組織         總價元        總坪數  \\\n",
       "0         2         5         3         有      無  16800000.0  68.132075   \n",
       "1         2         2         2         有      無  23000000.0  32.228350   \n",
       "\n",
       "            單價元坪  車位數  floor  EightCount  ParkCount  FuneralCount  GasCount  \\\n",
       "0  246580.260178    0      7          77          8           132         7   \n",
       "1  713658.438145    0      7          77          8           132         7   \n",
       "\n",
       "   CrimeCount  PoliceCount  busCount  subwayCount  govCount  clinicCount  \\\n",
       "0         904           13       280            8        33          486   \n",
       "1         904           13       280            8        33          486   \n",
       "\n",
       "   hospitalCount  pharmacyCount  fireareaCount  firewayCount  martCount  \\\n",
       "0              4             98             80            18         11   \n",
       "1              4             98             80            18         11   \n",
       "\n",
       "   mallCount  cinemaCount     土地面積    總人口數    男性人數    女性人數   人口密度  每戶人數  \\\n",
       "0          6            5  13.6821  224707  104138  120569  16423  2.89   \n",
       "1          6            5  13.6821  224707  104138  120569  16423  2.89   \n",
       "\n",
       "   每戶成年人數   所得收入總計    可支配所得     消費支出      儲蓄     所得總額   Lontitude   Latitude  \\\n",
       "0    2.51  1614178  1339702  1071429  268273  1720988  121.531568  25.050704   \n",
       "1    2.51  1614178  1339702  1071429  268273  1720988  121.531568  25.050704   \n",
       "\n",
       "            pred         漲跌  \n",
       "0  608990.363867 -362410.10  \n",
       "1  611683.203384  101975.23  "
      ]
     },
     "execution_count": 33,
     "metadata": {},
     "output_type": "execute_result"
    }
   ],
   "source": [
    "result.head(2)"
   ]
  },
  {
   "cell_type": "code",
   "execution_count": 34,
   "metadata": {
    "id": "X-WWQJPohXyM"
   },
   "outputs": [],
   "source": [
    "updown = result.groupby(['Area'], as_index=True).mean()[['pred','漲跌']].reset_index()\n",
    "updown.sort_values(by=['漲跌'], inplace=True, ascending=False)"
   ]
  },
  {
   "cell_type": "code",
   "execution_count": 35,
   "metadata": {
    "id": "ZexE7vMvhXyN",
    "outputId": "1ec8aa93-9263-4314-f476-180f2055ae57"
   },
   "outputs": [
    {
     "data": {
      "text/html": [
       "<div>\n",
       "<style scoped>\n",
       "    .dataframe tbody tr th:only-of-type {\n",
       "        vertical-align: middle;\n",
       "    }\n",
       "\n",
       "    .dataframe tbody tr th {\n",
       "        vertical-align: top;\n",
       "    }\n",
       "\n",
       "    .dataframe thead th {\n",
       "        text-align: right;\n",
       "    }\n",
       "</style>\n",
       "<table border=\"1\" class=\"dataframe\">\n",
       "  <thead>\n",
       "    <tr style=\"text-align: right;\">\n",
       "      <th></th>\n",
       "      <th>Area</th>\n",
       "      <th>pred</th>\n",
       "      <th>漲跌</th>\n",
       "    </tr>\n",
       "  </thead>\n",
       "  <tbody>\n",
       "    <tr>\n",
       "      <th>9</th>\n",
       "      <td>文山區</td>\n",
       "      <td>449704.429186</td>\n",
       "      <td>20895.984896</td>\n",
       "    </tr>\n",
       "    <tr>\n",
       "      <th>10</th>\n",
       "      <td>松山區</td>\n",
       "      <td>693564.938705</td>\n",
       "      <td>7296.074466</td>\n",
       "    </tr>\n",
       "    <tr>\n",
       "      <th>6</th>\n",
       "      <td>士林區</td>\n",
       "      <td>569977.229800</td>\n",
       "      <td>4566.556926</td>\n",
       "    </tr>\n",
       "    <tr>\n",
       "      <th>11</th>\n",
       "      <td>萬華區</td>\n",
       "      <td>474432.175375</td>\n",
       "      <td>827.162935</td>\n",
       "    </tr>\n",
       "    <tr>\n",
       "      <th>5</th>\n",
       "      <td>南港區</td>\n",
       "      <td>529471.858953</td>\n",
       "      <td>658.301754</td>\n",
       "    </tr>\n",
       "    <tr>\n",
       "      <th>4</th>\n",
       "      <td>北投區</td>\n",
       "      <td>465882.553933</td>\n",
       "      <td>284.841135</td>\n",
       "    </tr>\n",
       "    <tr>\n",
       "      <th>1</th>\n",
       "      <td>中正區</td>\n",
       "      <td>745294.663001</td>\n",
       "      <td>-296.308046</td>\n",
       "    </tr>\n",
       "    <tr>\n",
       "      <th>0</th>\n",
       "      <td>中山區</td>\n",
       "      <td>657107.296231</td>\n",
       "      <td>-463.500519</td>\n",
       "    </tr>\n",
       "    <tr>\n",
       "      <th>2</th>\n",
       "      <td>信義區</td>\n",
       "      <td>710266.573859</td>\n",
       "      <td>-2604.330203</td>\n",
       "    </tr>\n",
       "    <tr>\n",
       "      <th>3</th>\n",
       "      <td>內湖區</td>\n",
       "      <td>525903.193766</td>\n",
       "      <td>-2831.328514</td>\n",
       "    </tr>\n",
       "    <tr>\n",
       "      <th>8</th>\n",
       "      <td>大安區</td>\n",
       "      <td>853986.142971</td>\n",
       "      <td>-3053.608718</td>\n",
       "    </tr>\n",
       "    <tr>\n",
       "      <th>7</th>\n",
       "      <td>大同區</td>\n",
       "      <td>570521.610892</td>\n",
       "      <td>-12876.363546</td>\n",
       "    </tr>\n",
       "  </tbody>\n",
       "</table>\n",
       "</div>"
      ],
      "text/plain": [
       "   Area           pred            漲跌\n",
       "9   文山區  449704.429186  20895.984896\n",
       "10  松山區  693564.938705   7296.074466\n",
       "6   士林區  569977.229800   4566.556926\n",
       "11  萬華區  474432.175375    827.162935\n",
       "5   南港區  529471.858953    658.301754\n",
       "4   北投區  465882.553933    284.841135\n",
       "1   中正區  745294.663001   -296.308046\n",
       "0   中山區  657107.296231   -463.500519\n",
       "2   信義區  710266.573859  -2604.330203\n",
       "3   內湖區  525903.193766  -2831.328514\n",
       "8   大安區  853986.142971  -3053.608718\n",
       "7   大同區  570521.610892 -12876.363546"
      ]
     },
     "execution_count": 35,
     "metadata": {},
     "output_type": "execute_result"
    }
   ],
   "source": [
    "updown"
   ]
  }
 ],
 "metadata": {
  "colab": {
   "name": "Model_RegEnsemBoost.ipynb",
   "provenance": []
  },
  "kernelspec": {
   "display_name": "Python 3",
   "language": "python",
   "name": "python3"
  },
  "language_info": {
   "codemirror_mode": {
    "name": "ipython",
    "version": 3
   },
   "file_extension": ".py",
   "mimetype": "text/x-python",
   "name": "python",
   "nbconvert_exporter": "python",
   "pygments_lexer": "ipython3",
   "version": "3.8.5"
  },
  "toc": {
   "base_numbering": 1,
   "nav_menu": {},
   "number_sections": true,
   "sideBar": true,
   "skip_h1_title": false,
   "title_cell": "Table of Contents",
   "title_sidebar": "Contents",
   "toc_cell": false,
   "toc_position": {},
   "toc_section_display": true,
   "toc_window_display": true
  },
  "varInspector": {
   "cols": {
    "lenName": 16,
    "lenType": 16,
    "lenVar": 40
   },
   "kernels_config": {
    "python": {
     "delete_cmd_postfix": "",
     "delete_cmd_prefix": "del ",
     "library": "var_list.py",
     "varRefreshCmd": "print(var_dic_list())"
    },
    "r": {
     "delete_cmd_postfix": ") ",
     "delete_cmd_prefix": "rm(",
     "library": "var_list.r",
     "varRefreshCmd": "cat(var_dic_list()) "
    }
   },
   "types_to_exclude": [
    "module",
    "function",
    "builtin_function_or_method",
    "instance",
    "_Feature"
   ],
   "window_display": false
  }
 },
 "nbformat": 4,
 "nbformat_minor": 1
}
